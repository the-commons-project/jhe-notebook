{
 "cells": [
  {
   "cell_type": "markdown",
   "metadata": {},
   "source": [
    "# JupyterHealth Exchange MCP Client with LLM Integration\n",
    "\n",
    "This notebook demonstrates how to:\n",
    "1. Connect to the JupyterHealth Exchange MCP server using the Python MCP SDK\n",
    "2. Use the NRP-hosted Qwen3 LLM to process natural language queries\n",
    "3. Enable the LLM to call MCP tools for health data retrieval\n",
    "4. Display results in a user-friendly format\n",
    "\n",
    "## Prerequisites\n",
    "\n",
    "Before running this notebook:\n",
    "- JHE Django server running on http://localhost:8000\n",
    "- MCP server running on http://localhost:8001\n",
    "- `.env` file configured with NRP API credentials\n",
    "- OAuth authentication completed (token cached at ~/.jhe_mcp/token_cache.json)"
   ]
  },
  {
   "cell_type": "markdown",
   "metadata": {},
   "source": [
    "## Cell 1: Setup and Imports"
   ]
  },
  {
   "cell_type": "code",
   "execution_count": 1,
   "metadata": {},
   "outputs": [
    {
     "name": "stdout",
     "output_type": "stream",
     "text": [
      "✓ nest_asyncio applied - MCP SDK async compatibility enabled\n"
     ]
    },
    {
     "data": {
      "text/html": [
       "<pre style=\"white-space:pre;overflow-x:auto;line-height:normal;font-family:Menlo,'DejaVu Sans Mono',consolas,'Courier New',monospace\"><span style=\"color: #008000; text-decoration-color: #008000\">✓ Environment variables loaded from .env</span>\n",
       "</pre>\n"
      ],
      "text/plain": [
       "\u001b[32m✓ Environment variables loaded from .env\u001b[0m\n"
      ]
     },
     "metadata": {},
     "output_type": "display_data"
    },
    {
     "data": {
      "text/html": [
       "<pre style=\"white-space:pre;overflow-x:auto;line-height:normal;font-family:Menlo,'DejaVu Sans Mono',consolas,'Courier New',monospace\"><span style=\"font-style: italic\">                   Configuration                    </span>\n",
       "┏━━━━━━━━━━━━━━━━┳━━━━━━━━━━━━━━━━━━━━━━━━━━━━━━━━━┓\n",
       "┃<span style=\"font-weight: bold\"> Setting        </span>┃<span style=\"font-weight: bold\"> Value                           </span>┃\n",
       "┡━━━━━━━━━━━━━━━━╇━━━━━━━━━━━━━━━━━━━━━━━━━━━━━━━━━┩\n",
       "│<span style=\"color: #008080; text-decoration-color: #008080\"> MCP Server URL </span>│<span style=\"color: #008000; text-decoration-color: #008000\"> http://localhost:8001/sse       </span>│\n",
       "│<span style=\"color: #008080; text-decoration-color: #008080\"> NRP Base URL   </span>│<span style=\"color: #008000; text-decoration-color: #008000\"> https://ellm.nrp-nautilus.io/v1 </span>│\n",
       "│<span style=\"color: #008080; text-decoration-color: #008080\"> NRP Model      </span>│<span style=\"color: #008000; text-decoration-color: #008000\"> qwen3                           </span>│\n",
       "│<span style=\"color: #008080; text-decoration-color: #008080\"> NRP API Key    </span>│<span style=\"color: #008000; text-decoration-color: #008000\"> ********************            </span>│\n",
       "└────────────────┴─────────────────────────────────┘\n",
       "</pre>\n"
      ],
      "text/plain": [
       "\u001b[3m                   Configuration                    \u001b[0m\n",
       "┏━━━━━━━━━━━━━━━━┳━━━━━━━━━━━━━━━━━━━━━━━━━━━━━━━━━┓\n",
       "┃\u001b[1m \u001b[0m\u001b[1mSetting       \u001b[0m\u001b[1m \u001b[0m┃\u001b[1m \u001b[0m\u001b[1mValue                          \u001b[0m\u001b[1m \u001b[0m┃\n",
       "┡━━━━━━━━━━━━━━━━╇━━━━━━━━━━━━━━━━━━━━━━━━━━━━━━━━━┩\n",
       "│\u001b[36m \u001b[0m\u001b[36mMCP Server URL\u001b[0m\u001b[36m \u001b[0m│\u001b[32m \u001b[0m\u001b[32mhttp://localhost:8001/sse      \u001b[0m\u001b[32m \u001b[0m│\n",
       "│\u001b[36m \u001b[0m\u001b[36mNRP Base URL  \u001b[0m\u001b[36m \u001b[0m│\u001b[32m \u001b[0m\u001b[32mhttps://ellm.nrp-nautilus.io/v1\u001b[0m\u001b[32m \u001b[0m│\n",
       "│\u001b[36m \u001b[0m\u001b[36mNRP Model     \u001b[0m\u001b[36m \u001b[0m│\u001b[32m \u001b[0m\u001b[32mqwen3                          \u001b[0m\u001b[32m \u001b[0m│\n",
       "│\u001b[36m \u001b[0m\u001b[36mNRP API Key   \u001b[0m\u001b[36m \u001b[0m│\u001b[32m \u001b[0m\u001b[32m********************           \u001b[0m\u001b[32m \u001b[0m│\n",
       "└────────────────┴─────────────────────────────────┘\n"
      ]
     },
     "metadata": {},
     "output_type": "display_data"
    }
   ],
   "source": [
    "# FIRST: Fix Jupyter async event loop for MCP SDK compatibility\n",
    "import nest_asyncio\n",
    "nest_asyncio.apply()\n",
    "print(\"✓ nest_asyncio applied - MCP SDK async compatibility enabled\")\n",
    "\n",
    "# Standard library\n",
    "import os\n",
    "import sys\n",
    "import json\n",
    "import asyncio\n",
    "from typing import Any, Dict, List\n",
    "from pathlib import Path\n",
    "\n",
    "# Environment variables\n",
    "from dotenv import load_dotenv\n",
    "\n",
    "# MCP SDK\n",
    "from mcp.client.session import ClientSession\n",
    "from mcp.client.sse import sse_client\n",
    "\n",
    "# OpenAI client for NRP\n",
    "from openai import OpenAI\n",
    "\n",
    "# Utilities\n",
    "from rich import print as rprint\n",
    "from rich.console import Console\n",
    "from rich.table import Table\n",
    "from rich.panel import Panel\n",
    "from rich.json import JSON\n",
    "\n",
    "# Plotting libraries\n",
    "import matplotlib.pyplot as plt\n",
    "import matplotlib.dates as mdates\n",
    "from datetime import datetime\n",
    "import pandas as pd\n",
    "import re\n",
    "\n",
    "# Initialize console for rich output\n",
    "console = Console()\n",
    "\n",
    "# Load environment variables\n",
    "env_path = Path('../.env')\n",
    "if env_path.exists():\n",
    "    load_dotenv(env_path)\n",
    "    console.print(\"[green]✓ Environment variables loaded from .env[/green]\")\n",
    "else:\n",
    "    console.print(\"[yellow]⚠ .env file not found. Using defaults.[/yellow]\")\n",
    "\n",
    "# Display configuration\n",
    "config_table = Table(title=\"Configuration\")\n",
    "config_table.add_column(\"Setting\", style=\"cyan\")\n",
    "config_table.add_column(\"Value\", style=\"green\")\n",
    "\n",
    "config_table.add_row(\"MCP Server URL\", os.getenv(\"JHE_MCP_URL\", \"http://localhost:8001/sse\"))\n",
    "config_table.add_row(\"NRP Base URL\", os.getenv(\"NRP_BASE_URL\", \"https://ellm.nrp-nautilus.io/v1\"))\n",
    "config_table.add_row(\"NRP Model\", os.getenv(\"NRP_MODEL\", \"qwen3\"))\n",
    "config_table.add_row(\"NRP API Key\", \"*\" * 20 if os.getenv(\"NRP_API_KEY\") else \"[red]NOT SET[/red]\")\n",
    "\n",
    "console.print(config_table)"
   ]
  },
  {
   "cell_type": "markdown",
   "metadata": {},
   "source": [
    "## Cell 2: MCP Client Connection\n",
    "\n",
    "Connect to the JupyterHealth Exchange MCP server and discover available tools."
   ]
  },
  {
   "cell_type": "code",
   "execution_count": 2,
   "metadata": {},
   "outputs": [
    {
     "data": {
      "text/html": [
       "<pre style=\"white-space:pre;overflow-x:auto;line-height:normal;font-family:Menlo,'DejaVu Sans Mono',consolas,'Courier New',monospace\"><span style=\"color: #008080; text-decoration-color: #008080\">Connecting to MCP server at </span><span style=\"color: #008080; text-decoration-color: #008080; text-decoration: underline\">http://localhost:8001/sse...</span>\n",
       "</pre>\n"
      ],
      "text/plain": [
       "\u001b[36mConnecting to MCP server at \u001b[0m\u001b[4;36mhttp://localhost:8001/sse...\u001b[0m\n"
      ]
     },
     "metadata": {},
     "output_type": "display_data"
    },
    {
     "data": {
      "text/html": [
       "<pre style=\"white-space:pre;overflow-x:auto;line-height:normal;font-family:Menlo,'DejaVu Sans Mono',consolas,'Courier New',monospace\"><span style=\"color: #808000; text-decoration-color: #808000\">Initializing MCP session...</span>\n",
       "</pre>\n"
      ],
      "text/plain": [
       "\u001b[33mInitializing MCP session\u001b[0m\u001b[33m...\u001b[0m\n"
      ]
     },
     "metadata": {},
     "output_type": "display_data"
    },
    {
     "data": {
      "text/html": [
       "<pre style=\"white-space:pre;overflow-x:auto;line-height:normal;font-family:Menlo,'DejaVu Sans Mono',consolas,'Courier New',monospace\"><span style=\"color: #008000; text-decoration-color: #008000\">✓ Connected to MCP server</span>\n",
       "</pre>\n"
      ],
      "text/plain": [
       "\u001b[32m✓ Connected to MCP server\u001b[0m\n"
      ]
     },
     "metadata": {},
     "output_type": "display_data"
    },
    {
     "data": {
      "text/html": [
       "<pre style=\"white-space:pre;overflow-x:auto;line-height:normal;font-family:Menlo,'DejaVu Sans Mono',consolas,'Courier New',monospace\"><span style=\"color: #008000; text-decoration-color: #008000\">✓ Discovered </span><span style=\"color: #008000; text-decoration-color: #008000; font-weight: bold\">7</span><span style=\"color: #008000; text-decoration-color: #008000\"> MCP tools</span>\n",
       "\n",
       "</pre>\n"
      ],
      "text/plain": [
       "\u001b[32m✓ Discovered \u001b[0m\u001b[1;32m7\u001b[0m\u001b[32m MCP tools\u001b[0m\n",
       "\n"
      ]
     },
     "metadata": {},
     "output_type": "display_data"
    },
    {
     "data": {
      "text/html": [
       "<pre style=\"white-space:pre;overflow-x:auto;line-height:normal;font-family:Menlo,'DejaVu Sans Mono',consolas,'Courier New',monospace\"><span style=\"font-style: italic\">                                               Available MCP Tools                                                </span>\n",
       "┏━━━━━━━━━━━━━━━━━━━━━━━━━━┳━━━━━━━━━━━━━━━━━━━━━━━━━━━━━━━━━━━━━━━━━━━━━━━━━━━━━━━━━━━━━━━━━━━━━━━━━━━━━━━━━━━━━┓\n",
       "┃<span style=\"font-weight: bold\"> Tool Name                </span>┃<span style=\"font-weight: bold\"> Description                                                                         </span>┃\n",
       "┡━━━━━━━━━━━━━━━━━━━━━━━━━━╇━━━━━━━━━━━━━━━━━━━━━━━━━━━━━━━━━━━━━━━━━━━━━━━━━━━━━━━━━━━━━━━━━━━━━━━━━━━━━━━━━━━━━┩\n",
       "│<span style=\"color: #008080; text-decoration-color: #008080\"> get_study_count          </span>│<span style=\"color: #c0c0c0; text-decoration-color: #c0c0c0\"> Count total studies accessible to the authenticated user based on their role and... </span>│\n",
       "│<span style=\"color: #008080; text-decoration-color: #008080\"> list_studies             </span>│<span style=\"color: #c0c0c0; text-decoration-color: #c0c0c0\"> List all studies accessible to the authenticated user with their IDs, names, and... </span>│\n",
       "│<span style=\"color: #008080; text-decoration-color: #008080\"> get_patient_demographics </span>│<span style=\"color: #c0c0c0; text-decoration-color: #c0c0c0\"> Get patient demographics for a specific study. Returns patient IDs, ages, and em... </span>│\n",
       "│<span style=\"color: #008080; text-decoration-color: #008080\"> get_study_metadata       </span>│<span style=\"color: #c0c0c0; text-decoration-color: #c0c0c0\"> Get metadata about a specific study including name, description, organization, p... </span>│\n",
       "│<span style=\"color: #008080; text-decoration-color: #008080\"> get_patient_observations </span>│<span style=\"color: #c0c0c0; text-decoration-color: #c0c0c0\"> Get FHIR observations for a specific patient, including the FHIR/OMH JSONB data.... </span>│\n",
       "│<span style=\"color: #008080; text-decoration-color: #008080\"> get_database_schema      </span>│<span style=\"color: #c0c0c0; text-decoration-color: #c0c0c0\"> Get comprehensive database schema information including table structures, column... </span>│\n",
       "│<span style=\"color: #008080; text-decoration-color: #008080\"> execute_filtered_query   </span>│<span style=\"color: #c0c0c0; text-decoration-color: #c0c0c0\"> Execute an arbitrary SQL SELECT query with automatic permission filtering. Only ... </span>│\n",
       "└──────────────────────────┴─────────────────────────────────────────────────────────────────────────────────────┘\n",
       "</pre>\n"
      ],
      "text/plain": [
       "\u001b[3m                                               Available MCP Tools                                                \u001b[0m\n",
       "┏━━━━━━━━━━━━━━━━━━━━━━━━━━┳━━━━━━━━━━━━━━━━━━━━━━━━━━━━━━━━━━━━━━━━━━━━━━━━━━━━━━━━━━━━━━━━━━━━━━━━━━━━━━━━━━━━━┓\n",
       "┃\u001b[1m \u001b[0m\u001b[1mTool Name               \u001b[0m\u001b[1m \u001b[0m┃\u001b[1m \u001b[0m\u001b[1mDescription                                                                        \u001b[0m\u001b[1m \u001b[0m┃\n",
       "┡━━━━━━━━━━━━━━━━━━━━━━━━━━╇━━━━━━━━━━━━━━━━━━━━━━━━━━━━━━━━━━━━━━━━━━━━━━━━━━━━━━━━━━━━━━━━━━━━━━━━━━━━━━━━━━━━━┩\n",
       "│\u001b[36m \u001b[0m\u001b[36mget_study_count         \u001b[0m\u001b[36m \u001b[0m│\u001b[37m \u001b[0m\u001b[37mCount total studies accessible to the authenticated user based on their role and...\u001b[0m\u001b[37m \u001b[0m│\n",
       "│\u001b[36m \u001b[0m\u001b[36mlist_studies            \u001b[0m\u001b[36m \u001b[0m│\u001b[37m \u001b[0m\u001b[37mList all studies accessible to the authenticated user with their IDs, names, and...\u001b[0m\u001b[37m \u001b[0m│\n",
       "│\u001b[36m \u001b[0m\u001b[36mget_patient_demographics\u001b[0m\u001b[36m \u001b[0m│\u001b[37m \u001b[0m\u001b[37mGet patient demographics for a specific study. Returns patient IDs, ages, and em...\u001b[0m\u001b[37m \u001b[0m│\n",
       "│\u001b[36m \u001b[0m\u001b[36mget_study_metadata      \u001b[0m\u001b[36m \u001b[0m│\u001b[37m \u001b[0m\u001b[37mGet metadata about a specific study including name, description, organization, p...\u001b[0m\u001b[37m \u001b[0m│\n",
       "│\u001b[36m \u001b[0m\u001b[36mget_patient_observations\u001b[0m\u001b[36m \u001b[0m│\u001b[37m \u001b[0m\u001b[37mGet FHIR observations for a specific patient, including the FHIR/OMH JSONB data....\u001b[0m\u001b[37m \u001b[0m│\n",
       "│\u001b[36m \u001b[0m\u001b[36mget_database_schema     \u001b[0m\u001b[36m \u001b[0m│\u001b[37m \u001b[0m\u001b[37mGet comprehensive database schema information including table structures, column...\u001b[0m\u001b[37m \u001b[0m│\n",
       "│\u001b[36m \u001b[0m\u001b[36mexecute_filtered_query  \u001b[0m\u001b[36m \u001b[0m│\u001b[37m \u001b[0m\u001b[37mExecute an arbitrary SQL SELECT query with automatic permission filtering. Only ...\u001b[0m\u001b[37m \u001b[0m│\n",
       "└──────────────────────────┴─────────────────────────────────────────────────────────────────────────────────────┘\n"
      ]
     },
     "metadata": {},
     "output_type": "display_data"
    }
   ],
   "source": [
    "# MCP connection parameters\n",
    "MCP_URL = os.getenv(\"JHE_MCP_URL\", \"http://localhost:8001/sse\")\n",
    "\n",
    "# Global variables for MCP session\n",
    "mcp_session = None\n",
    "mcp_tools = []\n",
    "sse_context = None\n",
    "\n",
    "async def connect_mcp():\n",
    "    \"\"\"Connect to the MCP server and initialize session\"\"\"\n",
    "    global mcp_session, mcp_tools, sse_context\n",
    "    \n",
    "    console.print(f\"[cyan]Connecting to MCP server at {MCP_URL}...[/cyan]\")\n",
    "    \n",
    "    try:\n",
    "        # Create SSE client connection with longer timeout\n",
    "        sse_context = sse_client(url=MCP_URL, timeout=120.0)\n",
    "        read, write = await sse_context.__aenter__()\n",
    "        \n",
    "        # Create MCP session\n",
    "        mcp_session = ClientSession(read, write)\n",
    "        await mcp_session.__aenter__()\n",
    "        \n",
    "        console.print(\"[yellow]Initializing MCP session...[/yellow]\")\n",
    "        \n",
    "        # Initialize the session with timeout handling\n",
    "        try:\n",
    "            await asyncio.wait_for(mcp_session.initialize(), timeout=30.0)\n",
    "        except asyncio.TimeoutError:\n",
    "            console.print(\"[red]Timeout during initialization, but continuing...[/red]\")\n",
    "        \n",
    "        console.print(\"[green]✓ Connected to MCP server[/green]\")\n",
    "        \n",
    "        # List available tools\n",
    "        try:\n",
    "            tools_response = await asyncio.wait_for(mcp_session.list_tools(), timeout=10.0)\n",
    "            mcp_tools = tools_response.tools\n",
    "            \n",
    "            console.print(f\"[green]✓ Discovered {len(mcp_tools)} MCP tools[/green]\\n\")\n",
    "            \n",
    "            # Display tools in a table\n",
    "            tools_table = Table(title=\"Available MCP Tools\")\n",
    "            tools_table.add_column(\"Tool Name\", style=\"cyan\", no_wrap=True)\n",
    "            tools_table.add_column(\"Description\", style=\"white\")\n",
    "            \n",
    "            for tool in mcp_tools:\n",
    "                # Truncate long descriptions\n",
    "                desc = tool.description[:80] + \"...\" if len(tool.description) > 80 else tool.description\n",
    "                tools_table.add_row(tool.name, desc)\n",
    "            \n",
    "            console.print(tools_table)\n",
    "        except asyncio.TimeoutError:\n",
    "            console.print(\"[yellow]⚠ Timeout listing tools, but connection established[/yellow]\")\n",
    "        \n",
    "        return True\n",
    "        \n",
    "    except Exception as e:\n",
    "        console.print(f\"[red]✗ Failed to connect to MCP server: {e}[/red]\")\n",
    "        console.print(f\"[dim]Error type: {type(e).__name__}[/dim]\")\n",
    "        console.print(\"[yellow]Make sure the MCP server is running on port 8001[/yellow]\")\n",
    "        import traceback\n",
    "        console.print(f\"[dim]{traceback.format_exc()}[/dim]\")\n",
    "        return False\n",
    "\n",
    "# Connect to MCP server\n",
    "connected = await connect_mcp()"
   ]
  },
  {
   "cell_type": "markdown",
   "metadata": {},
   "source": [
    "## Cell 3: NRP LLM Client Setup\n",
    "\n",
    "Initialize the OpenAI client to connect to the NRP-hosted Qwen3 model."
   ]
  },
  {
   "cell_type": "code",
   "execution_count": 3,
   "metadata": {},
   "outputs": [
    {
     "data": {
      "text/html": [
       "<pre style=\"white-space:pre;overflow-x:auto;line-height:normal;font-family:Menlo,'DejaVu Sans Mono',consolas,'Courier New',monospace\"><span style=\"color: #008000; text-decoration-color: #008000\">✓ NRP LLM client initialized</span>\n",
       "</pre>\n"
      ],
      "text/plain": [
       "\u001b[32m✓ NRP LLM client initialized\u001b[0m\n"
      ]
     },
     "metadata": {},
     "output_type": "display_data"
    },
    {
     "data": {
      "text/html": [
       "<pre style=\"white-space:pre;overflow-x:auto;line-height:normal;font-family:Menlo,'DejaVu Sans Mono',consolas,'Courier New',monospace\"><span style=\"color: #008000; text-decoration-color: #008000\">✓ NRP LLM connectivity test passed</span>\n",
       "</pre>\n"
      ],
      "text/plain": [
       "\u001b[32m✓ NRP LLM connectivity test passed\u001b[0m\n"
      ]
     },
     "metadata": {},
     "output_type": "display_data"
    }
   ],
   "source": [
    "# NRP LLM configuration\n",
    "NRP_BASE_URL = os.getenv(\"NRP_BASE_URL\", \"https://ellm.nrp-nautilus.io/v1\")\n",
    "NRP_API_KEY = os.getenv(\"NRP_API_KEY\")\n",
    "NRP_MODEL = os.getenv(\"NRP_MODEL\", \"qwen3\")\n",
    "\n",
    "if not NRP_API_KEY:\n",
    "    console.print(\"[red]ERROR: NRP_API_KEY not set in .env file[/red]\")\n",
    "    console.print(\"[yellow]Please add your NRP API key to the .env file[/yellow]\")\n",
    "else:\n",
    "    # Initialize OpenAI client\n",
    "    llm_client = OpenAI(\n",
    "        base_url=NRP_BASE_URL,\n",
    "        api_key=NRP_API_KEY\n",
    "    )\n",
    "    \n",
    "    console.print(\"[green]✓ NRP LLM client initialized[/green]\")\n",
    "    \n",
    "    # Test connectivity with a simple request\n",
    "    try:\n",
    "        response = llm_client.chat.completions.create(\n",
    "            model=NRP_MODEL,\n",
    "            messages=[{\"role\": \"user\", \"content\": \"Hello! Reply with just 'OK' if you can hear me.\"}],\n",
    "            max_tokens=10\n",
    "        )\n",
    "        \n",
    "        console.print(f\"[green]✓ NRP LLM connectivity test passed[/green]\")\n",
    "        response_content = response.choices[0].message.content\n",
    "        if response_content:\n",
    "            console.print(f\"[dim]Response: {response_content}[/dim]\")\n",
    "        \n",
    "    except Exception as e:\n",
    "        console.print(f\"[red]✗ Failed to connect to NRP LLM: {e}[/red]\")\n",
    "        console.print(\"[yellow]Check your NRP_API_KEY and NRP_BASE_URL in .env[/yellow]\")"
   ]
  },
  {
   "cell_type": "markdown",
   "metadata": {},
   "source": [
    "## Cell 4: Simple MCP Tool Call\n",
    "\n",
    "Demonstrate calling an MCP tool directly without LLM intervention."
   ]
  },
  {
   "cell_type": "code",
   "execution_count": 4,
   "metadata": {},
   "outputs": [
    {
     "data": {
      "text/html": [
       "<pre style=\"white-space:pre;overflow-x:auto;line-height:normal;font-family:Menlo,'DejaVu Sans Mono',consolas,'Courier New',monospace\">╭──────────────────────────╮\n",
       "│ <span style=\"font-weight: bold\">Example: Get Study Count</span> │\n",
       "╰──────────────────────────╯\n",
       "</pre>\n"
      ],
      "text/plain": [
       "╭──────────────────────────╮\n",
       "│ \u001b[1mExample: Get Study Count\u001b[0m │\n",
       "╰──────────────────────────╯\n"
      ]
     },
     "metadata": {},
     "output_type": "display_data"
    },
    {
     "data": {
      "text/html": [
       "<pre style=\"white-space:pre;overflow-x:auto;line-height:normal;font-family:Menlo,'DejaVu Sans Mono',consolas,'Courier New',monospace\"><span style=\"color: #008080; text-decoration-color: #008080\">Calling MCP tool: get_study_count</span>\n",
       "</pre>\n"
      ],
      "text/plain": [
       "\u001b[36mCalling MCP tool: get_study_count\u001b[0m\n"
      ]
     },
     "metadata": {},
     "output_type": "display_data"
    },
    {
     "data": {
      "text/html": [
       "<pre style=\"white-space:pre;overflow-x:auto;line-height:normal;font-family:Menlo,'DejaVu Sans Mono',consolas,'Courier New',monospace\"><span style=\"color: #008000; text-decoration-color: #008000\">✓ Tool call successful</span>\n",
       "\n",
       "</pre>\n"
      ],
      "text/plain": [
       "\u001b[32m✓ Tool call successful\u001b[0m\n",
       "\n"
      ]
     },
     "metadata": {},
     "output_type": "display_data"
    },
    {
     "data": {
      "text/html": [
       "<pre style=\"white-space:pre;overflow-x:auto;line-height:normal;font-family:Menlo,'DejaVu Sans Mono',consolas,'Courier New',monospace\"><span style=\"color: #008000; text-decoration-color: #008000\">╭──────────────────────────────────────────────────── Result ─────────────────────────────────────────────────────╮</span>\n",
       "<span style=\"color: #008000; text-decoration-color: #008000\">│</span> You have access to 3 studies                                                                                    <span style=\"color: #008000; text-decoration-color: #008000\">│</span>\n",
       "<span style=\"color: #008000; text-decoration-color: #008000\">╰─────────────────────────────────────────────────────────────────────────────────────────────────────────────────╯</span>\n",
       "</pre>\n"
      ],
      "text/plain": [
       "\u001b[32m╭─\u001b[0m\u001b[32m───────────────────────────────────────────────────\u001b[0m\u001b[32m Result \u001b[0m\u001b[32m────────────────────────────────────────────────────\u001b[0m\u001b[32m─╮\u001b[0m\n",
       "\u001b[32m│\u001b[0m You have access to 3 studies                                                                                    \u001b[32m│\u001b[0m\n",
       "\u001b[32m╰─────────────────────────────────────────────────────────────────────────────────────────────────────────────────╯\u001b[0m\n"
      ]
     },
     "metadata": {},
     "output_type": "display_data"
    }
   ],
   "source": [
    "async def call_mcp_tool(tool_name: str, arguments: Dict[str, Any] = None) -> Any:\n",
    "    \"\"\"Call an MCP tool and return the result\"\"\"\n",
    "    if not mcp_session:\n",
    "        console.print(\"[red]MCP session not initialized. Run Cell 2 first.[/red]\")\n",
    "        return None\n",
    "    \n",
    "    try:\n",
    "        console.print(f\"[cyan]Calling MCP tool: {tool_name}[/cyan]\")\n",
    "        if arguments:\n",
    "            console.print(f\"[dim]Arguments: {json.dumps(arguments, indent=2)}[/dim]\")\n",
    "        \n",
    "        result = await mcp_session.call_tool(tool_name, arguments or {})\n",
    "        \n",
    "        console.print(\"[green]✓ Tool call successful[/green]\\n\")\n",
    "        \n",
    "        # Extract text content from result\n",
    "        if hasattr(result, 'content') and len(result.content) > 0:\n",
    "            content = result.content[0]\n",
    "            if hasattr(content, 'text'):\n",
    "                return content.text\n",
    "        \n",
    "        return str(result)\n",
    "        \n",
    "    except Exception as e:\n",
    "        console.print(f\"[red]✗ Tool call failed: {e}[/red]\")\n",
    "        return None\n",
    "\n",
    "# Example: Get study count\n",
    "console.print(Panel(\"[bold]Example: Get Study Count[/bold]\", expand=False))\n",
    "result = await call_mcp_tool(\"get_study_count\")\n",
    "\n",
    "if result:\n",
    "    console.print(Panel(result, title=\"Result\", border_style=\"green\"))"
   ]
  },
  {
   "cell_type": "markdown",
   "metadata": {},
   "source": [
    "## Cell 5: Explore Database Schema\n",
    "\n",
    "Before running queries, let's understand the database structure using the `get_database_schema` tool."
   ]
  },
  {
   "cell_type": "code",
   "execution_count": 5,
   "metadata": {},
   "outputs": [
    {
     "data": {
      "text/html": [
       "<pre style=\"white-space:pre;overflow-x:auto;line-height:normal;font-family:Menlo,'DejaVu Sans Mono',consolas,'Courier New',monospace\">╭──────────────────────────╮\n",
       "│ <span style=\"font-weight: bold\">Fetching Database Schema</span> │\n",
       "╰──────────────────────────╯\n",
       "</pre>\n"
      ],
      "text/plain": [
       "╭──────────────────────────╮\n",
       "│ \u001b[1mFetching Database Schema\u001b[0m │\n",
       "╰──────────────────────────╯\n"
      ]
     },
     "metadata": {},
     "output_type": "display_data"
    },
    {
     "data": {
      "text/html": [
       "<pre style=\"white-space:pre;overflow-x:auto;line-height:normal;font-family:Menlo,'DejaVu Sans Mono',consolas,'Courier New',monospace\"><span style=\"color: #008080; text-decoration-color: #008080\">Calling MCP tool: get_database_schema</span>\n",
       "</pre>\n"
      ],
      "text/plain": [
       "\u001b[36mCalling MCP tool: get_database_schema\u001b[0m\n"
      ]
     },
     "metadata": {},
     "output_type": "display_data"
    },
    {
     "data": {
      "text/html": [
       "<pre style=\"white-space:pre;overflow-x:auto;line-height:normal;font-family:Menlo,'DejaVu Sans Mono',consolas,'Courier New',monospace\"><span style=\"color: #008000; text-decoration-color: #008000\">✓ Tool call successful</span>\n",
       "\n",
       "</pre>\n"
      ],
      "text/plain": [
       "\u001b[32m✓ Tool call successful\u001b[0m\n",
       "\n"
      ]
     },
     "metadata": {},
     "output_type": "display_data"
    },
    {
     "data": {
      "text/html": [
       "<pre style=\"white-space:pre;overflow-x:auto;line-height:normal;font-family:Menlo,'DejaVu Sans Mono',consolas,'Courier New',monospace\">\n",
       "<span style=\"color: #008080; text-decoration-color: #008080; font-weight: bold\">Database Schema:</span>\n",
       "\n",
       "</pre>\n"
      ],
      "text/plain": [
       "\n",
       "\u001b[1;36mDatabase Schema:\u001b[0m\n",
       "\n"
      ]
     },
     "metadata": {},
     "output_type": "display_data"
    },
    {
     "data": {
      "text/html": [
       "<pre style=\"white-space:pre;overflow-x:auto;line-height:normal;font-family:Menlo,'DejaVu Sans Mono',consolas,'Courier New',monospace\">┏━━━━━━━━━━━━━━━━━━━━━━━━━━━━━━━━━━━━━━━━━━━━━━━━━━━━━━━━━━━━━━━━━━━━━━━━━━━━━━━━━━━━━━━━━━━━━━━━━━━━━━━━━━━━━━━━━┓\n",
       "┃                                     <span style=\"font-weight: bold\">JupyterHealth Exchange Database Schema</span>                                      ┃\n",
       "┗━━━━━━━━━━━━━━━━━━━━━━━━━━━━━━━━━━━━━━━━━━━━━━━━━━━━━━━━━━━━━━━━━━━━━━━━━━━━━━━━━━━━━━━━━━━━━━━━━━━━━━━━━━━━━━━━━┛\n",
       "\n",
       "\n",
       "                                                    <span style=\"font-weight: bold; text-decoration: underline\">Core Tables</span>                                                    \n",
       "\n",
       "                                                    <span style=\"font-weight: bold\">core_study</span>                                                     \n",
       "\n",
       "Clinical research studies                                                                                          \n",
       "\n",
       "<span style=\"font-weight: bold\">Columns:</span>                                                                                                           \n",
       "\n",
       "<span style=\"color: #808000; text-decoration-color: #808000; font-weight: bold\"> • </span><span style=\"color: #008080; text-decoration-color: #008080; background-color: #000000; font-weight: bold\">id</span> (bigint): Study identifier (primary key)                                                                     \n",
       "<span style=\"color: #808000; text-decoration-color: #808000; font-weight: bold\"> • </span><span style=\"color: #008080; text-decoration-color: #008080; background-color: #000000; font-weight: bold\">name</span> (varchar): Study name                                                                                      \n",
       "<span style=\"color: #808000; text-decoration-color: #808000; font-weight: bold\"> • </span><span style=\"color: #008080; text-decoration-color: #008080; background-color: #000000; font-weight: bold\">description</span> (text): Study description                                                                           \n",
       "<span style=\"color: #808000; text-decoration-color: #808000; font-weight: bold\"> • </span><span style=\"color: #008080; text-decoration-color: #008080; background-color: #000000; font-weight: bold\">organization_id</span> (bigint): FK to core_organization                                                               \n",
       "<span style=\"color: #808000; text-decoration-color: #808000; font-weight: bold\"> • </span><span style=\"color: #008080; text-decoration-color: #008080; background-color: #000000; font-weight: bold\">icon_url</span> (text): Optional study icon URL                                                                        \n",
       "\n",
       "<span style=\"font-weight: bold\">Relationships:</span>                                                                                                     \n",
       "\n",
       "<span style=\"color: #808000; text-decoration-color: #808000; font-weight: bold\"> • </span>Belongs to one Organization (via organization_id)                                                               \n",
       "<span style=\"color: #808000; text-decoration-color: #808000; font-weight: bold\"> • </span>Has many Patients (via core_studypatient M2M table)                                                             \n",
       "<span style=\"color: #808000; text-decoration-color: #808000; font-weight: bold\"> • </span>Has many scope requests (via core_studyscoperequest)                                                            \n",
       "\n",
       "                                                   <span style=\"font-weight: bold\">core_patient</span>                                                    \n",
       "\n",
       "Patient records with demographics                                                                                  \n",
       "\n",
       "<span style=\"font-weight: bold\">Columns:</span>                                                                                                           \n",
       "\n",
       "<span style=\"color: #808000; text-decoration-color: #808000; font-weight: bold\"> • </span><span style=\"color: #008080; text-decoration-color: #008080; background-color: #000000; font-weight: bold\">id</span> (bigint): Patient identifier                                                                                 \n",
       "<span style=\"color: #808000; text-decoration-color: #808000; font-weight: bold\"> • </span><span style=\"color: #008080; text-decoration-color: #008080; background-color: #000000; font-weight: bold\">jhe_user_id</span> (bigint): FK to core_jheuser                                                                        \n",
       "<span style=\"color: #808000; text-decoration-color: #808000; font-weight: bold\"> • </span><span style=\"color: #008080; text-decoration-color: #008080; background-color: #000000; font-weight: bold\">identifier</span> (varchar): External patient ID                                                                       \n",
       "<span style=\"color: #808000; text-decoration-color: #808000; font-weight: bold\"> • </span><span style=\"color: #008080; text-decoration-color: #008080; background-color: #000000; font-weight: bold\">name_family</span> (varchar): Family name                                                                              \n",
       "<span style=\"color: #808000; text-decoration-color: #808000; font-weight: bold\"> • </span><span style=\"color: #008080; text-decoration-color: #008080; background-color: #000000; font-weight: bold\">name_given</span> (varchar): Given name                                                                                \n",
       "<span style=\"color: #808000; text-decoration-color: #808000; font-weight: bold\"> • </span><span style=\"color: #008080; text-decoration-color: #008080; background-color: #000000; font-weight: bold\">birth_date</span> (date): Date of birth                                                                                \n",
       "<span style=\"color: #808000; text-decoration-color: #808000; font-weight: bold\"> • </span><span style=\"color: #008080; text-decoration-color: #008080; background-color: #000000; font-weight: bold\">telecom_phone</span> (varchar): Phone number                                                                           \n",
       "<span style=\"color: #808000; text-decoration-color: #808000; font-weight: bold\"> • </span><span style=\"color: #008080; text-decoration-color: #008080; background-color: #000000; font-weight: bold\">last_updated</span> (timestamptz): Last update timestamp                                                               \n",
       "\n",
       "<span style=\"font-weight: bold\">Relationships:</span>                                                                                                     \n",
       "\n",
       "<span style=\"color: #808000; text-decoration-color: #808000; font-weight: bold\"> • </span>Has one JheUser (via jhe_user_id)                                                                               \n",
       "<span style=\"color: #808000; text-decoration-color: #808000; font-weight: bold\"> • </span>Belongs to many Organizations (via core_patientorganization M2M)                                                \n",
       "<span style=\"color: #808000; text-decoration-color: #808000; font-weight: bold\"> • </span>Enrolled in many Studies (via core_studypatient M2M)                                                            \n",
       "<span style=\"color: #808000; text-decoration-color: #808000; font-weight: bold\"> • </span>Has many Observations (subject_patient_id)                                                                      \n",
       "\n",
       "                                                 <span style=\"font-weight: bold\">core_observation</span>                                                  \n",
       "\n",
       "Health observations in FHIR format with OMH data                                                                   \n",
       "\n",
       "<span style=\"font-weight: bold\">Columns:</span>                                                                                                           \n",
       "\n",
       "<span style=\"color: #808000; text-decoration-color: #808000; font-weight: bold\"> • </span><span style=\"color: #008080; text-decoration-color: #008080; background-color: #000000; font-weight: bold\">id</span> (bigint): Observation identifier                                                                             \n",
       "<span style=\"color: #808000; text-decoration-color: #808000; font-weight: bold\"> • </span><span style=\"color: #008080; text-decoration-color: #008080; background-color: #000000; font-weight: bold\">subject_patient_id</span> (bigint): FK to core_patient                                                                 \n",
       "<span style=\"color: #808000; text-decoration-color: #808000; font-weight: bold\"> • </span><span style=\"color: #008080; text-decoration-color: #008080; background-color: #000000; font-weight: bold\">codeable_concept_id</span> (bigint): FK to core_codeableconcept (LOINC/OMH code)                                       \n",
       "<span style=\"color: #808000; text-decoration-color: #808000; font-weight: bold\"> • </span><span style=\"color: #008080; text-decoration-color: #008080; background-color: #000000; font-weight: bold\">data_source_id</span> (bigint): FK to core_datasource (device)                                                         \n",
       "<span style=\"color: #808000; text-decoration-color: #808000; font-weight: bold\"> • </span><span style=\"color: #008080; text-decoration-color: #008080; background-color: #000000; font-weight: bold\">value_attachment_data</span> (jsonb): OMH data payload (base64 in FHIR)                                                \n",
       "<span style=\"color: #808000; text-decoration-color: #808000; font-weight: bold\"> • </span><span style=\"color: #008080; text-decoration-color: #008080; background-color: #000000; font-weight: bold\">status</span> (varchar): final|preliminary|amended|etc                                                                 \n",
       "<span style=\"color: #808000; text-decoration-color: #808000; font-weight: bold\"> • </span><span style=\"color: #008080; text-decoration-color: #008080; background-color: #000000; font-weight: bold\">last_updated</span> (timestamptz): Last update timestamp                                                               \n",
       "\n",
       "<span style=\"font-weight: bold\">Relationships:</span>                                                                                                     \n",
       "\n",
       "<span style=\"color: #808000; text-decoration-color: #808000; font-weight: bold\"> • </span>Belongs to one Patient (via subject_patient_id)                                                                 \n",
       "<span style=\"color: #808000; text-decoration-color: #808000; font-weight: bold\"> • </span>Has one CodeableConcept (via codeable_concept_id)                                                               \n",
       "<span style=\"color: #808000; text-decoration-color: #808000; font-weight: bold\"> • </span>Generated by one DataSource/Device (via data_source_id)                                                         \n",
       "\n",
       "<span style=\"font-style: italic\">Note: Observations store health data in Open mHealth format within FHIR Observation.valueAttachment</span>                \n",
       "\n",
       "<span style=\"font-weight: bold\">JSONB Data Structures:</span>                                                                                             \n",
       "\n",
       "<span style=\"font-style: italic\">Blood pressure observation (OMH schema blood-pressure v4.0)</span>                                                        \n",
       "\n",
       "<span style=\"background-color: #272822\">                                                                                                                   </span>\n",
       "<span style=\"background-color: #272822\"> </span><span style=\"color: #f8f8f2; text-decoration-color: #f8f8f2; background-color: #272822\">{</span><span style=\"background-color: #272822\">                                                                                                                 </span>\n",
       "<span style=\"background-color: #272822\"> </span><span style=\"color: #f8f8f2; text-decoration-color: #f8f8f2; background-color: #272822\">  </span><span style=\"color: #ff4689; text-decoration-color: #ff4689; background-color: #272822\">\"header\"</span><span style=\"color: #f8f8f2; text-decoration-color: #f8f8f2; background-color: #272822\">: {</span><span style=\"background-color: #272822\">                                                                                                     </span>\n",
       "<span style=\"background-color: #272822\"> </span><span style=\"color: #f8f8f2; text-decoration-color: #f8f8f2; background-color: #272822\">    </span><span style=\"color: #ff4689; text-decoration-color: #ff4689; background-color: #272822\">\"uuid\"</span><span style=\"color: #f8f8f2; text-decoration-color: #f8f8f2; background-color: #272822\">: </span><span style=\"color: #e6db74; text-decoration-color: #e6db74; background-color: #272822\">\"string - unique observation ID\"</span><span style=\"color: #f8f8f2; text-decoration-color: #f8f8f2; background-color: #272822\">,</span><span style=\"background-color: #272822\">                                                                     </span>\n",
       "<span style=\"background-color: #272822\"> </span><span style=\"color: #f8f8f2; text-decoration-color: #f8f8f2; background-color: #272822\">    </span><span style=\"color: #ff4689; text-decoration-color: #ff4689; background-color: #272822\">\"modality\"</span><span style=\"color: #f8f8f2; text-decoration-color: #f8f8f2; background-color: #272822\">: </span><span style=\"color: #e6db74; text-decoration-color: #e6db74; background-color: #272822\">\"sensed|self-reported\"</span><span style=\"color: #f8f8f2; text-decoration-color: #f8f8f2; background-color: #272822\">,</span><span style=\"background-color: #272822\">                                                                           </span>\n",
       "<span style=\"background-color: #272822\"> </span><span style=\"color: #f8f8f2; text-decoration-color: #f8f8f2; background-color: #272822\">    </span><span style=\"color: #ff4689; text-decoration-color: #ff4689; background-color: #272822\">\"schema_id\"</span><span style=\"color: #f8f8f2; text-decoration-color: #f8f8f2; background-color: #272822\">: {</span><span style=\"background-color: #272822\">                                                                                                </span>\n",
       "<span style=\"background-color: #272822\"> </span><span style=\"color: #f8f8f2; text-decoration-color: #f8f8f2; background-color: #272822\">      </span><span style=\"color: #ff4689; text-decoration-color: #ff4689; background-color: #272822\">\"name\"</span><span style=\"color: #f8f8f2; text-decoration-color: #f8f8f2; background-color: #272822\">: </span><span style=\"color: #e6db74; text-decoration-color: #e6db74; background-color: #272822\">\"blood-pressure\"</span><span style=\"color: #f8f8f2; text-decoration-color: #f8f8f2; background-color: #272822\">,</span><span style=\"background-color: #272822\">                                                                                   </span>\n",
       "<span style=\"background-color: #272822\"> </span><span style=\"color: #f8f8f2; text-decoration-color: #f8f8f2; background-color: #272822\">      </span><span style=\"color: #ff4689; text-decoration-color: #ff4689; background-color: #272822\">\"version\"</span><span style=\"color: #f8f8f2; text-decoration-color: #f8f8f2; background-color: #272822\">: </span><span style=\"color: #e6db74; text-decoration-color: #e6db74; background-color: #272822\">\"4.0\"</span><span style=\"color: #f8f8f2; text-decoration-color: #f8f8f2; background-color: #272822\">,</span><span style=\"background-color: #272822\">                                                                                           </span>\n",
       "<span style=\"background-color: #272822\"> </span><span style=\"color: #f8f8f2; text-decoration-color: #f8f8f2; background-color: #272822\">      </span><span style=\"color: #ff4689; text-decoration-color: #ff4689; background-color: #272822\">\"namespace\"</span><span style=\"color: #f8f8f2; text-decoration-color: #f8f8f2; background-color: #272822\">: </span><span style=\"color: #e6db74; text-decoration-color: #e6db74; background-color: #272822\">\"omh\"</span><span style=\"background-color: #272822\">                                                                                          </span>\n",
       "<span style=\"background-color: #272822\"> </span><span style=\"color: #f8f8f2; text-decoration-color: #f8f8f2; background-color: #272822\">    },</span><span style=\"background-color: #272822\">                                                                                                            </span>\n",
       "<span style=\"background-color: #272822\"> </span><span style=\"color: #f8f8f2; text-decoration-color: #f8f8f2; background-color: #272822\">    </span><span style=\"color: #ff4689; text-decoration-color: #ff4689; background-color: #272822\">\"source_creation_date_time\"</span><span style=\"color: #f8f8f2; text-decoration-color: #f8f8f2; background-color: #272822\">: </span><span style=\"color: #e6db74; text-decoration-color: #e6db74; background-color: #272822\">\"ISO8601 timestamp\"</span><span style=\"background-color: #272822\">                                                              </span>\n",
       "<span style=\"background-color: #272822\"> </span><span style=\"color: #f8f8f2; text-decoration-color: #f8f8f2; background-color: #272822\">  },</span><span style=\"background-color: #272822\">                                                                                                              </span>\n",
       "<span style=\"background-color: #272822\"> </span><span style=\"color: #f8f8f2; text-decoration-color: #f8f8f2; background-color: #272822\">  </span><span style=\"color: #ff4689; text-decoration-color: #ff4689; background-color: #272822\">\"body\"</span><span style=\"color: #f8f8f2; text-decoration-color: #f8f8f2; background-color: #272822\">: {</span><span style=\"background-color: #272822\">                                                                                                       </span>\n",
       "<span style=\"background-color: #272822\"> </span><span style=\"color: #f8f8f2; text-decoration-color: #f8f8f2; background-color: #272822\">    </span><span style=\"color: #ff4689; text-decoration-color: #ff4689; background-color: #272822\">\"effective_time_frame\"</span><span style=\"color: #f8f8f2; text-decoration-color: #f8f8f2; background-color: #272822\">: {</span><span style=\"background-color: #272822\">                                                                                     </span>\n",
       "<span style=\"background-color: #272822\"> </span><span style=\"color: #f8f8f2; text-decoration-color: #f8f8f2; background-color: #272822\">      </span><span style=\"color: #ff4689; text-decoration-color: #ff4689; background-color: #272822\">\"date_time\"</span><span style=\"color: #f8f8f2; text-decoration-color: #f8f8f2; background-color: #272822\">: </span><span style=\"color: #e6db74; text-decoration-color: #e6db74; background-color: #272822\">\"ISO8601 timestamp - when measured\"</span><span style=\"background-color: #272822\">                                                            </span>\n",
       "<span style=\"background-color: #272822\"> </span><span style=\"color: #f8f8f2; text-decoration-color: #f8f8f2; background-color: #272822\">    },</span><span style=\"background-color: #272822\">                                                                                                            </span>\n",
       "<span style=\"background-color: #272822\"> </span><span style=\"color: #f8f8f2; text-decoration-color: #f8f8f2; background-color: #272822\">    </span><span style=\"color: #ff4689; text-decoration-color: #ff4689; background-color: #272822\">\"systolic_blood_pressure\"</span><span style=\"color: #f8f8f2; text-decoration-color: #f8f8f2; background-color: #272822\">: {</span><span style=\"background-color: #272822\">                                                                                  </span>\n",
       "<span style=\"background-color: #272822\"> </span><span style=\"color: #f8f8f2; text-decoration-color: #f8f8f2; background-color: #272822\">      </span><span style=\"color: #ff4689; text-decoration-color: #ff4689; background-color: #272822\">\"unit\"</span><span style=\"color: #f8f8f2; text-decoration-color: #f8f8f2; background-color: #272822\">: </span><span style=\"color: #e6db74; text-decoration-color: #e6db74; background-color: #272822\">\"mmHg\"</span><span style=\"color: #f8f8f2; text-decoration-color: #f8f8f2; background-color: #272822\">,</span><span style=\"background-color: #272822\">                                                                                             </span>\n",
       "<span style=\"background-color: #272822\"> </span><span style=\"color: #f8f8f2; text-decoration-color: #f8f8f2; background-color: #272822\">      </span><span style=\"color: #ff4689; text-decoration-color: #ff4689; background-color: #272822\">\"value\"</span><span style=\"color: #f8f8f2; text-decoration-color: #f8f8f2; background-color: #272822\">: </span><span style=\"color: #e6db74; text-decoration-color: #e6db74; background-color: #272822\">\"numeric\"</span><span style=\"background-color: #272822\">                                                                                          </span>\n",
       "<span style=\"background-color: #272822\"> </span><span style=\"color: #f8f8f2; text-decoration-color: #f8f8f2; background-color: #272822\">    },</span><span style=\"background-color: #272822\">                                                                                                            </span>\n",
       "<span style=\"background-color: #272822\"> </span><span style=\"color: #f8f8f2; text-decoration-color: #f8f8f2; background-color: #272822\">    </span><span style=\"color: #ff4689; text-decoration-color: #ff4689; background-color: #272822\">\"diastolic_blood_pressure\"</span><span style=\"color: #f8f8f2; text-decoration-color: #f8f8f2; background-color: #272822\">: {</span><span style=\"background-color: #272822\">                                                                                 </span>\n",
       "<span style=\"background-color: #272822\"> </span><span style=\"color: #f8f8f2; text-decoration-color: #f8f8f2; background-color: #272822\">      </span><span style=\"color: #ff4689; text-decoration-color: #ff4689; background-color: #272822\">\"unit\"</span><span style=\"color: #f8f8f2; text-decoration-color: #f8f8f2; background-color: #272822\">: </span><span style=\"color: #e6db74; text-decoration-color: #e6db74; background-color: #272822\">\"mmHg\"</span><span style=\"color: #f8f8f2; text-decoration-color: #f8f8f2; background-color: #272822\">,</span><span style=\"background-color: #272822\">                                                                                             </span>\n",
       "<span style=\"background-color: #272822\"> </span><span style=\"color: #f8f8f2; text-decoration-color: #f8f8f2; background-color: #272822\">      </span><span style=\"color: #ff4689; text-decoration-color: #ff4689; background-color: #272822\">\"value\"</span><span style=\"color: #f8f8f2; text-decoration-color: #f8f8f2; background-color: #272822\">: </span><span style=\"color: #e6db74; text-decoration-color: #e6db74; background-color: #272822\">\"numeric\"</span><span style=\"background-color: #272822\">                                                                                          </span>\n",
       "<span style=\"background-color: #272822\"> </span><span style=\"color: #f8f8f2; text-decoration-color: #f8f8f2; background-color: #272822\">    }</span><span style=\"background-color: #272822\">                                                                                                             </span>\n",
       "<span style=\"background-color: #272822\"> </span><span style=\"color: #f8f8f2; text-decoration-color: #f8f8f2; background-color: #272822\">  }</span><span style=\"background-color: #272822\">                                                                                                               </span>\n",
       "<span style=\"background-color: #272822\"> </span><span style=\"color: #f8f8f2; text-decoration-color: #f8f8f2; background-color: #272822\">}</span><span style=\"background-color: #272822\">                                                                                                                 </span>\n",
       "<span style=\"background-color: #272822\">                                                                                                                   </span>\n",
       "\n",
       "<span style=\"font-weight: bold\">Extraction examples:</span>                                                                                               \n",
       "\n",
       "<span style=\"color: #808000; text-decoration-color: #808000; font-weight: bold\"> • </span>Systolic: <span style=\"color: #008080; text-decoration-color: #008080; background-color: #000000; font-weight: bold\">(value_attachment_data-&gt;'body'-&gt;'systolic_blood_pressure'-&gt;&gt;'value')::numeric</span>                         \n",
       "<span style=\"color: #808000; text-decoration-color: #808000; font-weight: bold\"> • </span>Diastolic: <span style=\"color: #008080; text-decoration-color: #008080; background-color: #000000; font-weight: bold\">(value_attachment_data-&gt;'body'-&gt;'diastolic_blood_pressure'-&gt;&gt;'value')::numeric</span>                       \n",
       "<span style=\"color: #808000; text-decoration-color: #808000; font-weight: bold\"> • </span>Timestamp: <span style=\"color: #008080; text-decoration-color: #008080; background-color: #000000; font-weight: bold\">(value_attachment_data-&gt;'body'-&gt;'effective_time_frame'-&gt;&gt;'date_time')::timestamptz</span>                   \n",
       "\n",
       "<span style=\"font-weight: bold\">Example SQL queries:</span>                                                                                               \n",
       "\n",
       "<span style=\"font-style: italic\">Get all blood pressure readings for a patient on a specific date</span>                                                   \n",
       "\n",
       "<span style=\"background-color: #272822\">                                                                                                                   </span>\n",
       "<span style=\"background-color: #272822\"> </span><span style=\"color: #66d9ef; text-decoration-color: #66d9ef; background-color: #272822\">SELECT</span><span style=\"background-color: #272822\">                                                                                                            </span>\n",
       "<span style=\"background-color: #272822\"> </span><span style=\"color: #f8f8f2; text-decoration-color: #f8f8f2; background-color: #272822\">    (value_attachment_data</span><span style=\"color: #ff4689; text-decoration-color: #ff4689; background-color: #272822\">-&gt;</span><span style=\"color: #e6db74; text-decoration-color: #e6db74; background-color: #272822\">'body'</span><span style=\"color: #ff4689; text-decoration-color: #ff4689; background-color: #272822\">-&gt;</span><span style=\"color: #e6db74; text-decoration-color: #e6db74; background-color: #272822\">'systolic_blood_pressure'</span><span style=\"color: #ff4689; text-decoration-color: #ff4689; background-color: #272822\">-&gt;&gt;</span><span style=\"color: #e6db74; text-decoration-color: #e6db74; background-color: #272822\">'value'</span><span style=\"color: #f8f8f2; text-decoration-color: #f8f8f2; background-color: #272822\">)::numeric </span><span style=\"color: #66d9ef; text-decoration-color: #66d9ef; background-color: #272822\">AS</span><span style=\"color: #f8f8f2; text-decoration-color: #f8f8f2; background-color: #272822\"> systolic,</span><span style=\"background-color: #272822\">                    </span>\n",
       "<span style=\"background-color: #272822\"> </span><span style=\"color: #f8f8f2; text-decoration-color: #f8f8f2; background-color: #272822\">    (value_attachment_data</span><span style=\"color: #ff4689; text-decoration-color: #ff4689; background-color: #272822\">-&gt;</span><span style=\"color: #e6db74; text-decoration-color: #e6db74; background-color: #272822\">'body'</span><span style=\"color: #ff4689; text-decoration-color: #ff4689; background-color: #272822\">-&gt;</span><span style=\"color: #e6db74; text-decoration-color: #e6db74; background-color: #272822\">'diastolic_blood_pressure'</span><span style=\"color: #ff4689; text-decoration-color: #ff4689; background-color: #272822\">-&gt;&gt;</span><span style=\"color: #e6db74; text-decoration-color: #e6db74; background-color: #272822\">'value'</span><span style=\"color: #f8f8f2; text-decoration-color: #f8f8f2; background-color: #272822\">)::numeric </span><span style=\"color: #66d9ef; text-decoration-color: #66d9ef; background-color: #272822\">AS</span><span style=\"color: #f8f8f2; text-decoration-color: #f8f8f2; background-color: #272822\"> diastolic,</span><span style=\"background-color: #272822\">                  </span>\n",
       "<span style=\"background-color: #272822\"> </span><span style=\"color: #f8f8f2; text-decoration-color: #f8f8f2; background-color: #272822\">    (value_attachment_data</span><span style=\"color: #ff4689; text-decoration-color: #ff4689; background-color: #272822\">-&gt;</span><span style=\"color: #e6db74; text-decoration-color: #e6db74; background-color: #272822\">'body'</span><span style=\"color: #ff4689; text-decoration-color: #ff4689; background-color: #272822\">-&gt;</span><span style=\"color: #e6db74; text-decoration-color: #e6db74; background-color: #272822\">'effective_time_frame'</span><span style=\"color: #ff4689; text-decoration-color: #ff4689; background-color: #272822\">-&gt;&gt;</span><span style=\"color: #e6db74; text-decoration-color: #e6db74; background-color: #272822\">'date_time'</span><span style=\"color: #f8f8f2; text-decoration-color: #f8f8f2; background-color: #272822\">) </span><span style=\"color: #66d9ef; text-decoration-color: #66d9ef; background-color: #272822\">AS</span><span style=\"color: #f8f8f2; text-decoration-color: #f8f8f2; background-color: #272822\"> </span><span style=\"color: #66d9ef; text-decoration-color: #66d9ef; background-color: #272822\">timestamp</span><span style=\"background-color: #272822\">                            </span>\n",
       "<span style=\"background-color: #272822\"> </span><span style=\"color: #66d9ef; text-decoration-color: #66d9ef; background-color: #272822\">FROM</span><span style=\"color: #f8f8f2; text-decoration-color: #f8f8f2; background-color: #272822\"> core_observation</span><span style=\"background-color: #272822\">                                                                                             </span>\n",
       "<span style=\"background-color: #272822\"> </span><span style=\"color: #66d9ef; text-decoration-color: #66d9ef; background-color: #272822\">WHERE</span><span style=\"color: #f8f8f2; text-decoration-color: #f8f8f2; background-color: #272822\"> subject_patient_id </span><span style=\"color: #ff4689; text-decoration-color: #ff4689; background-color: #272822\">=</span><span style=\"color: #f8f8f2; text-decoration-color: #f8f8f2; background-color: #272822\"> </span><span style=\"color: #ae81ff; text-decoration-color: #ae81ff; background-color: #272822\">40001</span><span style=\"background-color: #272822\">                                                                                  </span>\n",
       "<span style=\"background-color: #272822\"> </span><span style=\"color: #f8f8f2; text-decoration-color: #f8f8f2; background-color: #272822\">    </span><span style=\"color: #66d9ef; text-decoration-color: #66d9ef; background-color: #272822\">AND</span><span style=\"color: #f8f8f2; text-decoration-color: #f8f8f2; background-color: #272822\"> value_attachment_data</span><span style=\"color: #ff4689; text-decoration-color: #ff4689; background-color: #272822\">-&gt;</span><span style=\"color: #e6db74; text-decoration-color: #e6db74; background-color: #272822\">'header'</span><span style=\"color: #ff4689; text-decoration-color: #ff4689; background-color: #272822\">-&gt;</span><span style=\"color: #e6db74; text-decoration-color: #e6db74; background-color: #272822\">'schema_id'</span><span style=\"color: #ff4689; text-decoration-color: #ff4689; background-color: #272822\">-&gt;&gt;</span><span style=\"color: #e6db74; text-decoration-color: #e6db74; background-color: #272822\">'name'</span><span style=\"color: #f8f8f2; text-decoration-color: #f8f8f2; background-color: #272822\"> </span><span style=\"color: #ff4689; text-decoration-color: #ff4689; background-color: #272822\">=</span><span style=\"color: #f8f8f2; text-decoration-color: #f8f8f2; background-color: #272822\"> </span><span style=\"color: #e6db74; text-decoration-color: #e6db74; background-color: #272822\">'blood-pressure'</span><span style=\"background-color: #272822\">                                  </span>\n",
       "<span style=\"background-color: #272822\"> </span><span style=\"color: #f8f8f2; text-decoration-color: #f8f8f2; background-color: #272822\">    </span><span style=\"color: #66d9ef; text-decoration-color: #66d9ef; background-color: #272822\">AND</span><span style=\"color: #f8f8f2; text-decoration-color: #f8f8f2; background-color: #272822\"> (value_attachment_data</span><span style=\"color: #ff4689; text-decoration-color: #ff4689; background-color: #272822\">-&gt;</span><span style=\"color: #e6db74; text-decoration-color: #e6db74; background-color: #272822\">'body'</span><span style=\"color: #ff4689; text-decoration-color: #ff4689; background-color: #272822\">-&gt;</span><span style=\"color: #e6db74; text-decoration-color: #e6db74; background-color: #272822\">'effective_time_frame'</span><span style=\"color: #ff4689; text-decoration-color: #ff4689; background-color: #272822\">-&gt;&gt;</span><span style=\"color: #e6db74; text-decoration-color: #e6db74; background-color: #272822\">'date_time'</span><span style=\"color: #f8f8f2; text-decoration-color: #f8f8f2; background-color: #272822\">)::timestamptz::date </span><span style=\"color: #ff4689; text-decoration-color: #ff4689; background-color: #272822\">=</span><span style=\"color: #f8f8f2; text-decoration-color: #f8f8f2; background-color: #272822\"> </span><span style=\"color: #e6db74; text-decoration-color: #e6db74; background-color: #272822\">'2025-02-02'</span><span style=\"background-color: #272822\">   </span>\n",
       "<span style=\"background-color: #272822\"> </span><span style=\"color: #66d9ef; text-decoration-color: #66d9ef; background-color: #272822\">ORDER</span><span style=\"color: #f8f8f2; text-decoration-color: #f8f8f2; background-color: #272822\"> </span><span style=\"color: #66d9ef; text-decoration-color: #66d9ef; background-color: #272822\">BY</span><span style=\"color: #f8f8f2; text-decoration-color: #f8f8f2; background-color: #272822\"> </span><span style=\"color: #66d9ef; text-decoration-color: #66d9ef; background-color: #272822\">timestamp</span><span style=\"background-color: #272822\">                                                                                                </span>\n",
       "<span style=\"background-color: #272822\">                                                                                                                   </span>\n",
       "\n",
       "<span style=\"font-style: italic\">Calculate average blood pressure for a date range</span>                                                                  \n",
       "\n",
       "<span style=\"background-color: #272822\">                                                                                                                   </span>\n",
       "<span style=\"background-color: #272822\"> </span><span style=\"color: #66d9ef; text-decoration-color: #66d9ef; background-color: #272822\">SELECT</span><span style=\"background-color: #272822\">                                                                                                            </span>\n",
       "<span style=\"background-color: #272822\"> </span><span style=\"color: #f8f8f2; text-decoration-color: #f8f8f2; background-color: #272822\">    </span><span style=\"color: #66d9ef; text-decoration-color: #66d9ef; background-color: #272822\">AVG</span><span style=\"color: #f8f8f2; text-decoration-color: #f8f8f2; background-color: #272822\">((value_attachment_data</span><span style=\"color: #ff4689; text-decoration-color: #ff4689; background-color: #272822\">-&gt;</span><span style=\"color: #e6db74; text-decoration-color: #e6db74; background-color: #272822\">'body'</span><span style=\"color: #ff4689; text-decoration-color: #ff4689; background-color: #272822\">-&gt;</span><span style=\"color: #e6db74; text-decoration-color: #e6db74; background-color: #272822\">'systolic_blood_pressure'</span><span style=\"color: #ff4689; text-decoration-color: #ff4689; background-color: #272822\">-&gt;&gt;</span><span style=\"color: #e6db74; text-decoration-color: #e6db74; background-color: #272822\">'value'</span><span style=\"color: #f8f8f2; text-decoration-color: #f8f8f2; background-color: #272822\">)::numeric) </span><span style=\"color: #66d9ef; text-decoration-color: #66d9ef; background-color: #272822\">AS</span><span style=\"color: #f8f8f2; text-decoration-color: #f8f8f2; background-color: #272822\"> avg_systolic,</span><span style=\"background-color: #272822\">           </span>\n",
       "<span style=\"background-color: #272822\"> </span><span style=\"color: #f8f8f2; text-decoration-color: #f8f8f2; background-color: #272822\">    </span><span style=\"color: #66d9ef; text-decoration-color: #66d9ef; background-color: #272822\">AVG</span><span style=\"color: #f8f8f2; text-decoration-color: #f8f8f2; background-color: #272822\">((value_attachment_data</span><span style=\"color: #ff4689; text-decoration-color: #ff4689; background-color: #272822\">-&gt;</span><span style=\"color: #e6db74; text-decoration-color: #e6db74; background-color: #272822\">'body'</span><span style=\"color: #ff4689; text-decoration-color: #ff4689; background-color: #272822\">-&gt;</span><span style=\"color: #e6db74; text-decoration-color: #e6db74; background-color: #272822\">'diastolic_blood_pressure'</span><span style=\"color: #ff4689; text-decoration-color: #ff4689; background-color: #272822\">-&gt;&gt;</span><span style=\"color: #e6db74; text-decoration-color: #e6db74; background-color: #272822\">'value'</span><span style=\"color: #f8f8f2; text-decoration-color: #f8f8f2; background-color: #272822\">)::numeric) </span><span style=\"color: #66d9ef; text-decoration-color: #66d9ef; background-color: #272822\">AS</span><span style=\"color: #f8f8f2; text-decoration-color: #f8f8f2; background-color: #272822\"> avg_diastolic</span><span style=\"background-color: #272822\">          </span>\n",
       "<span style=\"background-color: #272822\"> </span><span style=\"color: #66d9ef; text-decoration-color: #66d9ef; background-color: #272822\">FROM</span><span style=\"color: #f8f8f2; text-decoration-color: #f8f8f2; background-color: #272822\"> core_observation</span><span style=\"background-color: #272822\">                                                                                             </span>\n",
       "<span style=\"background-color: #272822\"> </span><span style=\"color: #66d9ef; text-decoration-color: #66d9ef; background-color: #272822\">WHERE</span><span style=\"color: #f8f8f2; text-decoration-color: #f8f8f2; background-color: #272822\"> subject_patient_id </span><span style=\"color: #ff4689; text-decoration-color: #ff4689; background-color: #272822\">=</span><span style=\"color: #f8f8f2; text-decoration-color: #f8f8f2; background-color: #272822\"> </span><span style=\"color: #ae81ff; text-decoration-color: #ae81ff; background-color: #272822\">40001</span><span style=\"background-color: #272822\">                                                                                  </span>\n",
       "<span style=\"background-color: #272822\"> </span><span style=\"color: #f8f8f2; text-decoration-color: #f8f8f2; background-color: #272822\">    </span><span style=\"color: #66d9ef; text-decoration-color: #66d9ef; background-color: #272822\">AND</span><span style=\"color: #f8f8f2; text-decoration-color: #f8f8f2; background-color: #272822\"> value_attachment_data</span><span style=\"color: #ff4689; text-decoration-color: #ff4689; background-color: #272822\">-&gt;</span><span style=\"color: #e6db74; text-decoration-color: #e6db74; background-color: #272822\">'header'</span><span style=\"color: #ff4689; text-decoration-color: #ff4689; background-color: #272822\">-&gt;</span><span style=\"color: #e6db74; text-decoration-color: #e6db74; background-color: #272822\">'schema_id'</span><span style=\"color: #ff4689; text-decoration-color: #ff4689; background-color: #272822\">-&gt;&gt;</span><span style=\"color: #e6db74; text-decoration-color: #e6db74; background-color: #272822\">'name'</span><span style=\"color: #f8f8f2; text-decoration-color: #f8f8f2; background-color: #272822\"> </span><span style=\"color: #ff4689; text-decoration-color: #ff4689; background-color: #272822\">=</span><span style=\"color: #f8f8f2; text-decoration-color: #f8f8f2; background-color: #272822\"> </span><span style=\"color: #e6db74; text-decoration-color: #e6db74; background-color: #272822\">'blood-pressure'</span><span style=\"background-color: #272822\">                                  </span>\n",
       "<span style=\"background-color: #272822\"> </span><span style=\"color: #f8f8f2; text-decoration-color: #f8f8f2; background-color: #272822\">    </span><span style=\"color: #66d9ef; text-decoration-color: #66d9ef; background-color: #272822\">AND</span><span style=\"color: #f8f8f2; text-decoration-color: #f8f8f2; background-color: #272822\"> (value_attachment_data</span><span style=\"color: #ff4689; text-decoration-color: #ff4689; background-color: #272822\">-&gt;</span><span style=\"color: #e6db74; text-decoration-color: #e6db74; background-color: #272822\">'body'</span><span style=\"color: #ff4689; text-decoration-color: #ff4689; background-color: #272822\">-&gt;</span><span style=\"color: #e6db74; text-decoration-color: #e6db74; background-color: #272822\">'effective_time_frame'</span><span style=\"color: #ff4689; text-decoration-color: #ff4689; background-color: #272822\">-&gt;&gt;</span><span style=\"color: #e6db74; text-decoration-color: #e6db74; background-color: #272822\">'date_time'</span><span style=\"color: #f8f8f2; text-decoration-color: #f8f8f2; background-color: #272822\">)::timestamptz </span><span style=\"color: #ff4689; text-decoration-color: #ff4689; background-color: #272822\">&gt;=</span><span style=\"color: #f8f8f2; text-decoration-color: #f8f8f2; background-color: #272822\"> </span><span style=\"color: #e6db74; text-decoration-color: #e6db74; background-color: #272822\">'2025-02-01'</span><span style=\"background-color: #272822\">        </span>\n",
       "<span style=\"background-color: #272822\"> </span><span style=\"color: #f8f8f2; text-decoration-color: #f8f8f2; background-color: #272822\">    </span><span style=\"color: #66d9ef; text-decoration-color: #66d9ef; background-color: #272822\">AND</span><span style=\"color: #f8f8f2; text-decoration-color: #f8f8f2; background-color: #272822\"> (value_attachment_data</span><span style=\"color: #ff4689; text-decoration-color: #ff4689; background-color: #272822\">-&gt;</span><span style=\"color: #e6db74; text-decoration-color: #e6db74; background-color: #272822\">'body'</span><span style=\"color: #ff4689; text-decoration-color: #ff4689; background-color: #272822\">-&gt;</span><span style=\"color: #e6db74; text-decoration-color: #e6db74; background-color: #272822\">'effective_time_frame'</span><span style=\"color: #ff4689; text-decoration-color: #ff4689; background-color: #272822\">-&gt;&gt;</span><span style=\"color: #e6db74; text-decoration-color: #e6db74; background-color: #272822\">'date_time'</span><span style=\"color: #f8f8f2; text-decoration-color: #f8f8f2; background-color: #272822\">)::timestamptz </span><span style=\"color: #ff4689; text-decoration-color: #ff4689; background-color: #272822\">&lt;</span><span style=\"color: #f8f8f2; text-decoration-color: #f8f8f2; background-color: #272822\"> </span><span style=\"color: #e6db74; text-decoration-color: #e6db74; background-color: #272822\">'2025-03-01'</span><span style=\"background-color: #272822\">         </span>\n",
       "<span style=\"background-color: #272822\">                                                                                                                   </span>\n",
       "\n",
       "<span style=\"font-style: italic\">Get all blood pressure readings for a patient in a specific study</span>                                                  \n",
       "\n",
       "<span style=\"background-color: #272822\">                                                                                                                   </span>\n",
       "<span style=\"background-color: #272822\"> </span><span style=\"color: #66d9ef; text-decoration-color: #66d9ef; background-color: #272822\">SELECT</span><span style=\"background-color: #272822\">                                                                                                            </span>\n",
       "<span style=\"background-color: #272822\"> </span><span style=\"color: #f8f8f2; text-decoration-color: #f8f8f2; background-color: #272822\">    o.id,</span><span style=\"background-color: #272822\">                                                                                                         </span>\n",
       "<span style=\"background-color: #272822\"> </span><span style=\"color: #f8f8f2; text-decoration-color: #f8f8f2; background-color: #272822\">    (o.value_attachment_data</span><span style=\"color: #ff4689; text-decoration-color: #ff4689; background-color: #272822\">-&gt;</span><span style=\"color: #e6db74; text-decoration-color: #e6db74; background-color: #272822\">'body'</span><span style=\"color: #ff4689; text-decoration-color: #ff4689; background-color: #272822\">-&gt;</span><span style=\"color: #e6db74; text-decoration-color: #e6db74; background-color: #272822\">'systolic_blood_pressure'</span><span style=\"color: #ff4689; text-decoration-color: #ff4689; background-color: #272822\">-&gt;&gt;</span><span style=\"color: #e6db74; text-decoration-color: #e6db74; background-color: #272822\">'value'</span><span style=\"color: #f8f8f2; text-decoration-color: #f8f8f2; background-color: #272822\">)::numeric </span><span style=\"color: #66d9ef; text-decoration-color: #66d9ef; background-color: #272822\">AS</span><span style=\"color: #f8f8f2; text-decoration-color: #f8f8f2; background-color: #272822\"> systolic,</span><span style=\"background-color: #272822\">                  </span>\n",
       "<span style=\"background-color: #272822\"> </span><span style=\"color: #f8f8f2; text-decoration-color: #f8f8f2; background-color: #272822\">    (o.value_attachment_data</span><span style=\"color: #ff4689; text-decoration-color: #ff4689; background-color: #272822\">-&gt;</span><span style=\"color: #e6db74; text-decoration-color: #e6db74; background-color: #272822\">'body'</span><span style=\"color: #ff4689; text-decoration-color: #ff4689; background-color: #272822\">-&gt;</span><span style=\"color: #e6db74; text-decoration-color: #e6db74; background-color: #272822\">'diastolic_blood_pressure'</span><span style=\"color: #ff4689; text-decoration-color: #ff4689; background-color: #272822\">-&gt;&gt;</span><span style=\"color: #e6db74; text-decoration-color: #e6db74; background-color: #272822\">'value'</span><span style=\"color: #f8f8f2; text-decoration-color: #f8f8f2; background-color: #272822\">)::numeric </span><span style=\"color: #66d9ef; text-decoration-color: #66d9ef; background-color: #272822\">AS</span><span style=\"color: #f8f8f2; text-decoration-color: #f8f8f2; background-color: #272822\"> diastolic,</span><span style=\"background-color: #272822\">                </span>\n",
       "<span style=\"background-color: #272822\"> </span><span style=\"color: #f8f8f2; text-decoration-color: #f8f8f2; background-color: #272822\">    (o.value_attachment_data</span><span style=\"color: #ff4689; text-decoration-color: #ff4689; background-color: #272822\">-&gt;</span><span style=\"color: #e6db74; text-decoration-color: #e6db74; background-color: #272822\">'body'</span><span style=\"color: #ff4689; text-decoration-color: #ff4689; background-color: #272822\">-&gt;</span><span style=\"color: #e6db74; text-decoration-color: #e6db74; background-color: #272822\">'effective_time_frame'</span><span style=\"color: #ff4689; text-decoration-color: #ff4689; background-color: #272822\">-&gt;&gt;</span><span style=\"color: #e6db74; text-decoration-color: #e6db74; background-color: #272822\">'date_time'</span><span style=\"color: #f8f8f2; text-decoration-color: #f8f8f2; background-color: #272822\">) </span><span style=\"color: #66d9ef; text-decoration-color: #66d9ef; background-color: #272822\">AS</span><span style=\"color: #f8f8f2; text-decoration-color: #f8f8f2; background-color: #272822\"> </span><span style=\"color: #66d9ef; text-decoration-color: #66d9ef; background-color: #272822\">timestamp</span><span style=\"color: #f8f8f2; text-decoration-color: #f8f8f2; background-color: #272822\">,</span><span style=\"background-color: #272822\">                         </span>\n",
       "<span style=\"background-color: #272822\"> </span><span style=\"color: #f8f8f2; text-decoration-color: #f8f8f2; background-color: #272822\">    o.last_updated</span><span style=\"background-color: #272822\">                                                                                                </span>\n",
       "<span style=\"background-color: #272822\"> </span><span style=\"color: #66d9ef; text-decoration-color: #66d9ef; background-color: #272822\">FROM</span><span style=\"color: #f8f8f2; text-decoration-color: #f8f8f2; background-color: #272822\"> core_observation o</span><span style=\"background-color: #272822\">                                                                                           </span>\n",
       "<span style=\"background-color: #272822\"> </span><span style=\"color: #66d9ef; text-decoration-color: #66d9ef; background-color: #272822\">JOIN</span><span style=\"color: #f8f8f2; text-decoration-color: #f8f8f2; background-color: #272822\"> core_studypatient sp </span><span style=\"color: #66d9ef; text-decoration-color: #66d9ef; background-color: #272822\">ON</span><span style=\"color: #f8f8f2; text-decoration-color: #f8f8f2; background-color: #272822\"> o.subject_patient_id </span><span style=\"color: #ff4689; text-decoration-color: #ff4689; background-color: #272822\">=</span><span style=\"color: #f8f8f2; text-decoration-color: #f8f8f2; background-color: #272822\"> sp.patient_id</span><span style=\"background-color: #272822\">                                                 </span>\n",
       "<span style=\"background-color: #272822\"> </span><span style=\"color: #66d9ef; text-decoration-color: #66d9ef; background-color: #272822\">WHERE</span><span style=\"color: #f8f8f2; text-decoration-color: #f8f8f2; background-color: #272822\"> sp.study_id </span><span style=\"color: #ff4689; text-decoration-color: #ff4689; background-color: #272822\">=</span><span style=\"color: #f8f8f2; text-decoration-color: #f8f8f2; background-color: #272822\"> </span><span style=\"color: #ae81ff; text-decoration-color: #ae81ff; background-color: #272822\">30001</span><span style=\"background-color: #272822\">                                                                                         </span>\n",
       "<span style=\"background-color: #272822\"> </span><span style=\"color: #f8f8f2; text-decoration-color: #f8f8f2; background-color: #272822\">    </span><span style=\"color: #66d9ef; text-decoration-color: #66d9ef; background-color: #272822\">AND</span><span style=\"color: #f8f8f2; text-decoration-color: #f8f8f2; background-color: #272822\"> sp.patient_id </span><span style=\"color: #ff4689; text-decoration-color: #ff4689; background-color: #272822\">=</span><span style=\"color: #f8f8f2; text-decoration-color: #f8f8f2; background-color: #272822\"> </span><span style=\"color: #ae81ff; text-decoration-color: #ae81ff; background-color: #272822\">40001</span><span style=\"background-color: #272822\">                                                                                     </span>\n",
       "<span style=\"background-color: #272822\"> </span><span style=\"color: #f8f8f2; text-decoration-color: #f8f8f2; background-color: #272822\">    </span><span style=\"color: #66d9ef; text-decoration-color: #66d9ef; background-color: #272822\">AND</span><span style=\"color: #f8f8f2; text-decoration-color: #f8f8f2; background-color: #272822\"> o.value_attachment_data</span><span style=\"color: #ff4689; text-decoration-color: #ff4689; background-color: #272822\">-&gt;</span><span style=\"color: #e6db74; text-decoration-color: #e6db74; background-color: #272822\">'header'</span><span style=\"color: #ff4689; text-decoration-color: #ff4689; background-color: #272822\">-&gt;</span><span style=\"color: #e6db74; text-decoration-color: #e6db74; background-color: #272822\">'schema_id'</span><span style=\"color: #ff4689; text-decoration-color: #ff4689; background-color: #272822\">-&gt;&gt;</span><span style=\"color: #e6db74; text-decoration-color: #e6db74; background-color: #272822\">'name'</span><span style=\"color: #f8f8f2; text-decoration-color: #f8f8f2; background-color: #272822\"> </span><span style=\"color: #ff4689; text-decoration-color: #ff4689; background-color: #272822\">=</span><span style=\"color: #f8f8f2; text-decoration-color: #f8f8f2; background-color: #272822\"> </span><span style=\"color: #e6db74; text-decoration-color: #e6db74; background-color: #272822\">'blood-pressure'</span><span style=\"background-color: #272822\">                                </span>\n",
       "<span style=\"background-color: #272822\"> </span><span style=\"color: #66d9ef; text-decoration-color: #66d9ef; background-color: #272822\">ORDER</span><span style=\"color: #f8f8f2; text-decoration-color: #f8f8f2; background-color: #272822\"> </span><span style=\"color: #66d9ef; text-decoration-color: #66d9ef; background-color: #272822\">BY</span><span style=\"color: #f8f8f2; text-decoration-color: #f8f8f2; background-color: #272822\"> o.last_updated </span><span style=\"color: #66d9ef; text-decoration-color: #66d9ef; background-color: #272822\">DESC</span><span style=\"background-color: #272822\">                                                                                      </span>\n",
       "<span style=\"background-color: #272822\">                                                                                                                   </span>\n",
       "\n",
       "<span style=\"font-style: italic\">Heart rate observation (OMH schema heart-rate v2.0)</span>                                                                \n",
       "\n",
       "<span style=\"background-color: #272822\">                                                                                                                   </span>\n",
       "<span style=\"background-color: #272822\"> </span><span style=\"color: #f8f8f2; text-decoration-color: #f8f8f2; background-color: #272822\">{</span><span style=\"background-color: #272822\">                                                                                                                 </span>\n",
       "<span style=\"background-color: #272822\"> </span><span style=\"color: #f8f8f2; text-decoration-color: #f8f8f2; background-color: #272822\">  </span><span style=\"color: #ff4689; text-decoration-color: #ff4689; background-color: #272822\">\"header\"</span><span style=\"color: #f8f8f2; text-decoration-color: #f8f8f2; background-color: #272822\">: {</span><span style=\"background-color: #272822\">                                                                                                     </span>\n",
       "<span style=\"background-color: #272822\"> </span><span style=\"color: #f8f8f2; text-decoration-color: #f8f8f2; background-color: #272822\">    </span><span style=\"color: #ff4689; text-decoration-color: #ff4689; background-color: #272822\">\"uuid\"</span><span style=\"color: #f8f8f2; text-decoration-color: #f8f8f2; background-color: #272822\">: </span><span style=\"color: #e6db74; text-decoration-color: #e6db74; background-color: #272822\">\"string - unique observation ID\"</span><span style=\"color: #f8f8f2; text-decoration-color: #f8f8f2; background-color: #272822\">,</span><span style=\"background-color: #272822\">                                                                     </span>\n",
       "<span style=\"background-color: #272822\"> </span><span style=\"color: #f8f8f2; text-decoration-color: #f8f8f2; background-color: #272822\">    </span><span style=\"color: #ff4689; text-decoration-color: #ff4689; background-color: #272822\">\"modality\"</span><span style=\"color: #f8f8f2; text-decoration-color: #f8f8f2; background-color: #272822\">: </span><span style=\"color: #e6db74; text-decoration-color: #e6db74; background-color: #272822\">\"sensed|self-reported\"</span><span style=\"color: #f8f8f2; text-decoration-color: #f8f8f2; background-color: #272822\">,</span><span style=\"background-color: #272822\">                                                                           </span>\n",
       "<span style=\"background-color: #272822\"> </span><span style=\"color: #f8f8f2; text-decoration-color: #f8f8f2; background-color: #272822\">    </span><span style=\"color: #ff4689; text-decoration-color: #ff4689; background-color: #272822\">\"schema_id\"</span><span style=\"color: #f8f8f2; text-decoration-color: #f8f8f2; background-color: #272822\">: {</span><span style=\"background-color: #272822\">                                                                                                </span>\n",
       "<span style=\"background-color: #272822\"> </span><span style=\"color: #f8f8f2; text-decoration-color: #f8f8f2; background-color: #272822\">      </span><span style=\"color: #ff4689; text-decoration-color: #ff4689; background-color: #272822\">\"name\"</span><span style=\"color: #f8f8f2; text-decoration-color: #f8f8f2; background-color: #272822\">: </span><span style=\"color: #e6db74; text-decoration-color: #e6db74; background-color: #272822\">\"heart-rate\"</span><span style=\"color: #f8f8f2; text-decoration-color: #f8f8f2; background-color: #272822\">,</span><span style=\"background-color: #272822\">                                                                                       </span>\n",
       "<span style=\"background-color: #272822\"> </span><span style=\"color: #f8f8f2; text-decoration-color: #f8f8f2; background-color: #272822\">      </span><span style=\"color: #ff4689; text-decoration-color: #ff4689; background-color: #272822\">\"version\"</span><span style=\"color: #f8f8f2; text-decoration-color: #f8f8f2; background-color: #272822\">: </span><span style=\"color: #e6db74; text-decoration-color: #e6db74; background-color: #272822\">\"2.0\"</span><span style=\"color: #f8f8f2; text-decoration-color: #f8f8f2; background-color: #272822\">,</span><span style=\"background-color: #272822\">                                                                                           </span>\n",
       "<span style=\"background-color: #272822\"> </span><span style=\"color: #f8f8f2; text-decoration-color: #f8f8f2; background-color: #272822\">      </span><span style=\"color: #ff4689; text-decoration-color: #ff4689; background-color: #272822\">\"namespace\"</span><span style=\"color: #f8f8f2; text-decoration-color: #f8f8f2; background-color: #272822\">: </span><span style=\"color: #e6db74; text-decoration-color: #e6db74; background-color: #272822\">\"omh\"</span><span style=\"background-color: #272822\">                                                                                          </span>\n",
       "<span style=\"background-color: #272822\"> </span><span style=\"color: #f8f8f2; text-decoration-color: #f8f8f2; background-color: #272822\">    },</span><span style=\"background-color: #272822\">                                                                                                            </span>\n",
       "<span style=\"background-color: #272822\"> </span><span style=\"color: #f8f8f2; text-decoration-color: #f8f8f2; background-color: #272822\">    </span><span style=\"color: #ff4689; text-decoration-color: #ff4689; background-color: #272822\">\"source_creation_date_time\"</span><span style=\"color: #f8f8f2; text-decoration-color: #f8f8f2; background-color: #272822\">: </span><span style=\"color: #e6db74; text-decoration-color: #e6db74; background-color: #272822\">\"ISO8601 timestamp\"</span><span style=\"background-color: #272822\">                                                              </span>\n",
       "<span style=\"background-color: #272822\"> </span><span style=\"color: #f8f8f2; text-decoration-color: #f8f8f2; background-color: #272822\">  },</span><span style=\"background-color: #272822\">                                                                                                              </span>\n",
       "<span style=\"background-color: #272822\"> </span><span style=\"color: #f8f8f2; text-decoration-color: #f8f8f2; background-color: #272822\">  </span><span style=\"color: #ff4689; text-decoration-color: #ff4689; background-color: #272822\">\"body\"</span><span style=\"color: #f8f8f2; text-decoration-color: #f8f8f2; background-color: #272822\">: {</span><span style=\"background-color: #272822\">                                                                                                       </span>\n",
       "<span style=\"background-color: #272822\"> </span><span style=\"color: #f8f8f2; text-decoration-color: #f8f8f2; background-color: #272822\">    </span><span style=\"color: #ff4689; text-decoration-color: #ff4689; background-color: #272822\">\"effective_time_frame\"</span><span style=\"color: #f8f8f2; text-decoration-color: #f8f8f2; background-color: #272822\">: {</span><span style=\"background-color: #272822\">                                                                                     </span>\n",
       "<span style=\"background-color: #272822\"> </span><span style=\"color: #f8f8f2; text-decoration-color: #f8f8f2; background-color: #272822\">      </span><span style=\"color: #ff4689; text-decoration-color: #ff4689; background-color: #272822\">\"date_time\"</span><span style=\"color: #f8f8f2; text-decoration-color: #f8f8f2; background-color: #272822\">: </span><span style=\"color: #e6db74; text-decoration-color: #e6db74; background-color: #272822\">\"ISO8601 timestamp - when measured\"</span><span style=\"background-color: #272822\">                                                            </span>\n",
       "<span style=\"background-color: #272822\"> </span><span style=\"color: #f8f8f2; text-decoration-color: #f8f8f2; background-color: #272822\">    },</span><span style=\"background-color: #272822\">                                                                                                            </span>\n",
       "<span style=\"background-color: #272822\"> </span><span style=\"color: #f8f8f2; text-decoration-color: #f8f8f2; background-color: #272822\">    </span><span style=\"color: #ff4689; text-decoration-color: #ff4689; background-color: #272822\">\"heart_rate\"</span><span style=\"color: #f8f8f2; text-decoration-color: #f8f8f2; background-color: #272822\">: {</span><span style=\"background-color: #272822\">                                                                                               </span>\n",
       "<span style=\"background-color: #272822\"> </span><span style=\"color: #f8f8f2; text-decoration-color: #f8f8f2; background-color: #272822\">      </span><span style=\"color: #ff4689; text-decoration-color: #ff4689; background-color: #272822\">\"unit\"</span><span style=\"color: #f8f8f2; text-decoration-color: #f8f8f2; background-color: #272822\">: </span><span style=\"color: #e6db74; text-decoration-color: #e6db74; background-color: #272822\">\"beats/min\"</span><span style=\"color: #f8f8f2; text-decoration-color: #f8f8f2; background-color: #272822\">,</span><span style=\"background-color: #272822\">                                                                                        </span>\n",
       "<span style=\"background-color: #272822\"> </span><span style=\"color: #f8f8f2; text-decoration-color: #f8f8f2; background-color: #272822\">      </span><span style=\"color: #ff4689; text-decoration-color: #ff4689; background-color: #272822\">\"value\"</span><span style=\"color: #f8f8f2; text-decoration-color: #f8f8f2; background-color: #272822\">: </span><span style=\"color: #e6db74; text-decoration-color: #e6db74; background-color: #272822\">\"numeric\"</span><span style=\"background-color: #272822\">                                                                                          </span>\n",
       "<span style=\"background-color: #272822\"> </span><span style=\"color: #f8f8f2; text-decoration-color: #f8f8f2; background-color: #272822\">    }</span><span style=\"background-color: #272822\">                                                                                                             </span>\n",
       "<span style=\"background-color: #272822\"> </span><span style=\"color: #f8f8f2; text-decoration-color: #f8f8f2; background-color: #272822\">  }</span><span style=\"background-color: #272822\">                                                                                                               </span>\n",
       "<span style=\"background-color: #272822\"> </span><span style=\"color: #f8f8f2; text-decoration-color: #f8f8f2; background-color: #272822\">}</span><span style=\"background-color: #272822\">                                                                                                                 </span>\n",
       "<span style=\"background-color: #272822\">                                                                                                                   </span>\n",
       "\n",
       "<span style=\"font-weight: bold\">Extraction examples:</span>                                                                                               \n",
       "\n",
       "<span style=\"color: #808000; text-decoration-color: #808000; font-weight: bold\"> • </span>Value: <span style=\"color: #008080; text-decoration-color: #008080; background-color: #000000; font-weight: bold\">(value_attachment_data-&gt;'body'-&gt;'heart_rate'-&gt;&gt;'value')::numeric</span>                                         \n",
       "<span style=\"color: #808000; text-decoration-color: #808000; font-weight: bold\"> • </span>Timestamp: <span style=\"color: #008080; text-decoration-color: #008080; background-color: #000000; font-weight: bold\">(value_attachment_data-&gt;'body'-&gt;'effective_time_frame'-&gt;&gt;'date_time')::timestamptz</span>                   \n",
       "\n",
       "<span style=\"font-weight: bold\">Common JSONB queries:</span>                                                                                              \n",
       "\n",
       "<span style=\"color: #808000; text-decoration-color: #808000; font-weight: bold\"> • </span>Get schema type: value_attachment_data-&gt;'header'-&gt;'schema_id'-&gt;&gt;'name'                                          \n",
       "<span style=\"color: #808000; text-decoration-color: #808000; font-weight: bold\"> • </span>Filter by modality: value_attachment_data-&gt;'header'-&gt;&gt;'modality' = 'sensed'                                     \n",
       "<span style=\"color: #808000; text-decoration-color: #808000; font-weight: bold\"> • </span>Extract any timestamp: (value_attachment_data-&gt;'body'-&gt;'effective_time_frame'-&gt;&gt;'date_time')::timestamptz       \n",
       "<span style=\"color: #808000; text-decoration-color: #808000; font-weight: bold\"> • </span>Check if field exists: value_attachment_data-&gt;'body' ? 'systolic_blood_pressure'                                \n",
       "\n",
       "                                                 <span style=\"font-weight: bold\">core_organization</span>                                                 \n",
       "\n",
       "Healthcare organizations and institutions                                                                          \n",
       "\n",
       "<span style=\"font-weight: bold\">Columns:</span>                                                                                                           \n",
       "\n",
       "<span style=\"color: #808000; text-decoration-color: #808000; font-weight: bold\"> • </span><span style=\"color: #008080; text-decoration-color: #008080; background-color: #000000; font-weight: bold\">id</span> (bigint): Organization identifier                                                                            \n",
       "<span style=\"color: #808000; text-decoration-color: #808000; font-weight: bold\"> • </span><span style=\"color: #008080; text-decoration-color: #008080; background-color: #000000; font-weight: bold\">name</span> (varchar): Organization name                                                                               \n",
       "<span style=\"color: #808000; text-decoration-color: #808000; font-weight: bold\"> • </span><span style=\"color: #008080; text-decoration-color: #008080; background-color: #000000; font-weight: bold\">type</span> (varchar): prov|edu|crs|laboratory|etc                                                                     \n",
       "<span style=\"color: #808000; text-decoration-color: #808000; font-weight: bold\"> • </span><span style=\"color: #008080; text-decoration-color: #008080; background-color: #000000; font-weight: bold\">part_of_id</span> (bigint): FK to parent organization (nullable)                                                       \n",
       "\n",
       "<span style=\"font-weight: bold\">Relationships:</span>                                                                                                     \n",
       "\n",
       "<span style=\"color: #808000; text-decoration-color: #808000; font-weight: bold\"> • </span>Has many Studies                                                                                                \n",
       "<span style=\"color: #808000; text-decoration-color: #808000; font-weight: bold\"> • </span>Has many Practitioners (via core_practitionerorganization M2M)                                                  \n",
       "<span style=\"color: #808000; text-decoration-color: #808000; font-weight: bold\"> • </span>Has many Patients (via core_patientorganization M2M)                                                            \n",
       "<span style=\"color: #808000; text-decoration-color: #808000; font-weight: bold\"> • </span>Can be part of parent Organization (hierarchical)                                                               \n",
       "\n",
       "                                                   <span style=\"font-weight: bold\">core_jheuser</span>                                                    \n",
       "\n",
       "User accounts (practitioners and patients)                                                                         \n",
       "\n",
       "<span style=\"font-weight: bold\">Columns:</span>                                                                                                           \n",
       "\n",
       "<span style=\"color: #808000; text-decoration-color: #808000; font-weight: bold\"> • </span><span style=\"color: #008080; text-decoration-color: #008080; background-color: #000000; font-weight: bold\">id</span> (bigint): User identifier                                                                                    \n",
       "<span style=\"color: #808000; text-decoration-color: #808000; font-weight: bold\"> • </span><span style=\"color: #008080; text-decoration-color: #008080; background-color: #000000; font-weight: bold\">email</span> (varchar): Email address (unique)                                                                         \n",
       "<span style=\"color: #808000; text-decoration-color: #808000; font-weight: bold\"> • </span><span style=\"color: #008080; text-decoration-color: #008080; background-color: #000000; font-weight: bold\">user_type</span> (varchar): patient|practitioner                                                                       \n",
       "<span style=\"color: #808000; text-decoration-color: #808000; font-weight: bold\"> • </span><span style=\"color: #008080; text-decoration-color: #008080; background-color: #000000; font-weight: bold\">is_superuser</span> (boolean): Admin flag                                                                              \n",
       "<span style=\"color: #808000; text-decoration-color: #808000; font-weight: bold\"> • </span><span style=\"color: #008080; text-decoration-color: #008080; background-color: #000000; font-weight: bold\">is_staff</span> (boolean): Staff access flag                                                                           \n",
       "\n",
       "<span style=\"font-weight: bold\">Relationships:</span>                                                                                                     \n",
       "\n",
       "<span style=\"color: #808000; text-decoration-color: #808000; font-weight: bold\"> • </span>Has one Patient profile (via patient_profile)                                                                   \n",
       "<span style=\"color: #808000; text-decoration-color: #808000; font-weight: bold\"> • </span>Has one Practitioner profile (via practitioner_profile)                                                         \n",
       "\n",
       "\n",
       "                                                 <span style=\"font-weight: bold; text-decoration: underline\">Permission Model</span>                                                  \n",
       "\n",
       "JHE Role-Based Access Control                                                                                      \n",
       "\n",
       "<span style=\"font-weight: bold\">Access Flow:</span> User → Practitioner → PractitionerOrganization (with role) → Organization → Study → Patients          \n",
       "\n",
       "<span style=\"font-weight: bold\">Roles:</span>                                                                                                             \n",
       "\n",
       "<span style=\"color: #808000; text-decoration-color: #808000; font-weight: bold\"> • </span><span style=\"color: #008080; text-decoration-color: #008080; background-color: #000000; font-weight: bold\">super_user</span>: Full system access (Django superuser)                                                               \n",
       "<span style=\"color: #808000; text-decoration-color: #808000; font-weight: bold\"> • </span><span style=\"color: #008080; text-decoration-color: #008080; background-color: #000000; font-weight: bold\">manager</span>: Manage organization, patients, and studies                                                             \n",
       "<span style=\"color: #808000; text-decoration-color: #808000; font-weight: bold\"> • </span><span style=\"color: #008080; text-decoration-color: #008080; background-color: #000000; font-weight: bold\">member</span>: Manage patients and studies within organization                                                         \n",
       "<span style=\"color: #808000; text-decoration-color: #808000; font-weight: bold\"> • </span><span style=\"color: #008080; text-decoration-color: #008080; background-color: #000000; font-weight: bold\">viewer</span>: Read-only access                                                                                        \n",
       "\n",
       "\n",
       "                                               <span style=\"font-weight: bold; text-decoration: underline\">Common Query Patterns</span>                                               \n",
       "\n",
       "<span style=\"font-weight: bold\">Blood pressure observations for a patient:</span>                                                                         \n",
       "\n",
       "<span style=\"background-color: #272822\">                                                                                                                   </span>\n",
       "<span style=\"background-color: #272822\"> </span><span style=\"color: #66d9ef; text-decoration-color: #66d9ef; background-color: #272822\">SELECT</span><span style=\"color: #f8f8f2; text-decoration-color: #f8f8f2; background-color: #272822\"> </span><span style=\"background-color: #272822\">                                                                                                           </span>\n",
       "<span style=\"background-color: #272822\"> </span><span style=\"color: #f8f8f2; text-decoration-color: #f8f8f2; background-color: #272822\">  (value_attachment_data</span><span style=\"color: #ff4689; text-decoration-color: #ff4689; background-color: #272822\">-&gt;</span><span style=\"color: #e6db74; text-decoration-color: #e6db74; background-color: #272822\">'body'</span><span style=\"color: #ff4689; text-decoration-color: #ff4689; background-color: #272822\">-&gt;</span><span style=\"color: #e6db74; text-decoration-color: #e6db74; background-color: #272822\">'systolic_blood_pressure'</span><span style=\"color: #ff4689; text-decoration-color: #ff4689; background-color: #272822\">-&gt;&gt;</span><span style=\"color: #e6db74; text-decoration-color: #e6db74; background-color: #272822\">'value'</span><span style=\"color: #f8f8f2; text-decoration-color: #f8f8f2; background-color: #272822\">)::numeric </span><span style=\"color: #66d9ef; text-decoration-color: #66d9ef; background-color: #272822\">as</span><span style=\"color: #f8f8f2; text-decoration-color: #f8f8f2; background-color: #272822\"> systolic,</span><span style=\"background-color: #272822\">                      </span>\n",
       "<span style=\"background-color: #272822\"> </span><span style=\"color: #f8f8f2; text-decoration-color: #f8f8f2; background-color: #272822\">  (value_attachment_data</span><span style=\"color: #ff4689; text-decoration-color: #ff4689; background-color: #272822\">-&gt;</span><span style=\"color: #e6db74; text-decoration-color: #e6db74; background-color: #272822\">'body'</span><span style=\"color: #ff4689; text-decoration-color: #ff4689; background-color: #272822\">-&gt;</span><span style=\"color: #e6db74; text-decoration-color: #e6db74; background-color: #272822\">'diastolic_blood_pressure'</span><span style=\"color: #ff4689; text-decoration-color: #ff4689; background-color: #272822\">-&gt;&gt;</span><span style=\"color: #e6db74; text-decoration-color: #e6db74; background-color: #272822\">'value'</span><span style=\"color: #f8f8f2; text-decoration-color: #f8f8f2; background-color: #272822\">)::numeric </span><span style=\"color: #66d9ef; text-decoration-color: #66d9ef; background-color: #272822\">as</span><span style=\"color: #f8f8f2; text-decoration-color: #f8f8f2; background-color: #272822\"> diastolic,</span><span style=\"background-color: #272822\">                    </span>\n",
       "<span style=\"background-color: #272822\"> </span><span style=\"color: #f8f8f2; text-decoration-color: #f8f8f2; background-color: #272822\">  value_attachment_data</span><span style=\"color: #ff4689; text-decoration-color: #ff4689; background-color: #272822\">-&gt;</span><span style=\"color: #e6db74; text-decoration-color: #e6db74; background-color: #272822\">'body'</span><span style=\"color: #ff4689; text-decoration-color: #ff4689; background-color: #272822\">-&gt;</span><span style=\"color: #e6db74; text-decoration-color: #e6db74; background-color: #272822\">'effective_time_frame'</span><span style=\"color: #ff4689; text-decoration-color: #ff4689; background-color: #272822\">-&gt;&gt;</span><span style=\"color: #e6db74; text-decoration-color: #e6db74; background-color: #272822\">'date_time'</span><span style=\"color: #f8f8f2; text-decoration-color: #f8f8f2; background-color: #272822\"> </span><span style=\"color: #66d9ef; text-decoration-color: #66d9ef; background-color: #272822\">as</span><span style=\"color: #f8f8f2; text-decoration-color: #f8f8f2; background-color: #272822\"> </span><span style=\"color: #66d9ef; text-decoration-color: #66d9ef; background-color: #272822\">timestamp</span><span style=\"background-color: #272822\">                                </span>\n",
       "<span style=\"background-color: #272822\"> </span><span style=\"color: #66d9ef; text-decoration-color: #66d9ef; background-color: #272822\">FROM</span><span style=\"color: #f8f8f2; text-decoration-color: #f8f8f2; background-color: #272822\"> core_observation</span><span style=\"background-color: #272822\">                                                                                             </span>\n",
       "<span style=\"background-color: #272822\"> </span><span style=\"color: #66d9ef; text-decoration-color: #66d9ef; background-color: #272822\">WHERE</span><span style=\"color: #f8f8f2; text-decoration-color: #f8f8f2; background-color: #272822\"> subject_patient_id </span><span style=\"color: #ff4689; text-decoration-color: #ff4689; background-color: #272822\">=</span><span style=\"color: #f8f8f2; text-decoration-color: #f8f8f2; background-color: #272822\"> </span><span style=\"color: #ae81ff; text-decoration-color: #ae81ff; background-color: #272822\">40001</span><span style=\"background-color: #272822\">                                                                                  </span>\n",
       "<span style=\"background-color: #272822\"> </span><span style=\"color: #f8f8f2; text-decoration-color: #f8f8f2; background-color: #272822\">  </span><span style=\"color: #66d9ef; text-decoration-color: #66d9ef; background-color: #272822\">AND</span><span style=\"color: #f8f8f2; text-decoration-color: #f8f8f2; background-color: #272822\"> codeable_concept_id </span><span style=\"color: #66d9ef; text-decoration-color: #66d9ef; background-color: #272822\">IN</span><span style=\"color: #f8f8f2; text-decoration-color: #f8f8f2; background-color: #272822\"> (</span><span style=\"background-color: #272822\">                                                                                    </span>\n",
       "<span style=\"background-color: #272822\"> </span><span style=\"color: #f8f8f2; text-decoration-color: #f8f8f2; background-color: #272822\">    </span><span style=\"color: #66d9ef; text-decoration-color: #66d9ef; background-color: #272822\">SELECT</span><span style=\"color: #f8f8f2; text-decoration-color: #f8f8f2; background-color: #272822\"> id </span><span style=\"color: #66d9ef; text-decoration-color: #66d9ef; background-color: #272822\">FROM</span><span style=\"color: #f8f8f2; text-decoration-color: #f8f8f2; background-color: #272822\"> core_codeableconcept </span><span style=\"color: #66d9ef; text-decoration-color: #66d9ef; background-color: #272822\">WHERE</span><span style=\"color: #f8f8f2; text-decoration-color: #f8f8f2; background-color: #272822\"> display </span><span style=\"color: #66d9ef; text-decoration-color: #66d9ef; background-color: #272822\">LIKE</span><span style=\"color: #f8f8f2; text-decoration-color: #f8f8f2; background-color: #272822\"> </span><span style=\"color: #e6db74; text-decoration-color: #e6db74; background-color: #272822\">'%blood pressure%'</span><span style=\"background-color: #272822\">                                     </span>\n",
       "<span style=\"background-color: #272822\"> </span><span style=\"color: #f8f8f2; text-decoration-color: #f8f8f2; background-color: #272822\">  )</span><span style=\"background-color: #272822\">                                                                                                               </span>\n",
       "<span style=\"background-color: #272822\"> </span><span style=\"color: #66d9ef; text-decoration-color: #66d9ef; background-color: #272822\">ORDER</span><span style=\"color: #f8f8f2; text-decoration-color: #f8f8f2; background-color: #272822\"> </span><span style=\"color: #66d9ef; text-decoration-color: #66d9ef; background-color: #272822\">BY</span><span style=\"color: #f8f8f2; text-decoration-color: #f8f8f2; background-color: #272822\"> last_updated </span><span style=\"color: #66d9ef; text-decoration-color: #66d9ef; background-color: #272822\">DESC</span><span style=\"color: #f8f8f2; text-decoration-color: #f8f8f2; background-color: #272822\"> </span><span style=\"color: #66d9ef; text-decoration-color: #66d9ef; background-color: #272822\">LIMIT</span><span style=\"color: #f8f8f2; text-decoration-color: #f8f8f2; background-color: #272822\"> </span><span style=\"color: #ae81ff; text-decoration-color: #ae81ff; background-color: #272822\">50</span><span style=\"color: #f8f8f2; text-decoration-color: #f8f8f2; background-color: #272822\">;</span><span style=\"background-color: #272822\">                                                                              </span>\n",
       "<span style=\"background-color: #272822\">                                                                                                                   </span>\n",
       "\n",
       "<span style=\"font-weight: bold\">Aggregate by time window:</span>                                                                                          \n",
       "\n",
       "<span style=\"background-color: #272822\">                                                                                                                   </span>\n",
       "<span style=\"background-color: #272822\"> </span><span style=\"color: #66d9ef; text-decoration-color: #66d9ef; background-color: #272822\">SELECT</span><span style=\"color: #f8f8f2; text-decoration-color: #f8f8f2; background-color: #272822\"> </span><span style=\"background-color: #272822\">                                                                                                           </span>\n",
       "<span style=\"background-color: #272822\"> </span><span style=\"color: #f8f8f2; text-decoration-color: #f8f8f2; background-color: #272822\">  date_trunc(</span><span style=\"color: #e6db74; text-decoration-color: #e6db74; background-color: #272822\">'hour'</span><span style=\"color: #f8f8f2; text-decoration-color: #f8f8f2; background-color: #272822\">, (value_attachment_data</span><span style=\"color: #ff4689; text-decoration-color: #ff4689; background-color: #272822\">-&gt;</span><span style=\"color: #e6db74; text-decoration-color: #e6db74; background-color: #272822\">'body'</span><span style=\"color: #ff4689; text-decoration-color: #ff4689; background-color: #272822\">-&gt;</span><span style=\"color: #e6db74; text-decoration-color: #e6db74; background-color: #272822\">'effective_time_frame'</span><span style=\"color: #ff4689; text-decoration-color: #ff4689; background-color: #272822\">-&gt;&gt;</span><span style=\"color: #e6db74; text-decoration-color: #e6db74; background-color: #272822\">'date_time'</span><span style=\"color: #f8f8f2; text-decoration-color: #f8f8f2; background-color: #272822\">)::timestamptz) </span><span style=\"color: #66d9ef; text-decoration-color: #66d9ef; background-color: #272822\">as</span><span style=\"color: #f8f8f2; text-decoration-color: #f8f8f2; background-color: #272822\"> hour,</span><span style=\"background-color: #272822\"> </span>\n",
       "<span style=\"background-color: #272822\"> </span><span style=\"color: #f8f8f2; text-decoration-color: #f8f8f2; background-color: #272822\">  </span><span style=\"color: #66d9ef; text-decoration-color: #66d9ef; background-color: #272822\">AVG</span><span style=\"color: #f8f8f2; text-decoration-color: #f8f8f2; background-color: #272822\">((value_attachment_data</span><span style=\"color: #ff4689; text-decoration-color: #ff4689; background-color: #272822\">-&gt;</span><span style=\"color: #e6db74; text-decoration-color: #e6db74; background-color: #272822\">'body'</span><span style=\"color: #ff4689; text-decoration-color: #ff4689; background-color: #272822\">-&gt;</span><span style=\"color: #e6db74; text-decoration-color: #e6db74; background-color: #272822\">'systolic_blood_pressure'</span><span style=\"color: #ff4689; text-decoration-color: #ff4689; background-color: #272822\">-&gt;&gt;</span><span style=\"color: #e6db74; text-decoration-color: #e6db74; background-color: #272822\">'value'</span><span style=\"color: #f8f8f2; text-decoration-color: #f8f8f2; background-color: #272822\">)::numeric) </span><span style=\"color: #66d9ef; text-decoration-color: #66d9ef; background-color: #272822\">as</span><span style=\"color: #f8f8f2; text-decoration-color: #f8f8f2; background-color: #272822\"> avg_systolic,</span><span style=\"background-color: #272822\">             </span>\n",
       "<span style=\"background-color: #272822\"> </span><span style=\"color: #f8f8f2; text-decoration-color: #f8f8f2; background-color: #272822\">  STDDEV((value_attachment_data</span><span style=\"color: #ff4689; text-decoration-color: #ff4689; background-color: #272822\">-&gt;</span><span style=\"color: #e6db74; text-decoration-color: #e6db74; background-color: #272822\">'body'</span><span style=\"color: #ff4689; text-decoration-color: #ff4689; background-color: #272822\">-&gt;</span><span style=\"color: #e6db74; text-decoration-color: #e6db74; background-color: #272822\">'systolic_blood_pressure'</span><span style=\"color: #ff4689; text-decoration-color: #ff4689; background-color: #272822\">-&gt;&gt;</span><span style=\"color: #e6db74; text-decoration-color: #e6db74; background-color: #272822\">'value'</span><span style=\"color: #f8f8f2; text-decoration-color: #f8f8f2; background-color: #272822\">)::numeric) </span><span style=\"color: #66d9ef; text-decoration-color: #66d9ef; background-color: #272822\">as</span><span style=\"color: #f8f8f2; text-decoration-color: #f8f8f2; background-color: #272822\"> stddev_systolic</span><span style=\"background-color: #272822\">        </span>\n",
       "<span style=\"background-color: #272822\"> </span><span style=\"color: #66d9ef; text-decoration-color: #66d9ef; background-color: #272822\">FROM</span><span style=\"color: #f8f8f2; text-decoration-color: #f8f8f2; background-color: #272822\"> core_observation</span><span style=\"background-color: #272822\">                                                                                             </span>\n",
       "<span style=\"background-color: #272822\"> </span><span style=\"color: #66d9ef; text-decoration-color: #66d9ef; background-color: #272822\">WHERE</span><span style=\"color: #f8f8f2; text-decoration-color: #f8f8f2; background-color: #272822\"> subject_patient_id </span><span style=\"color: #ff4689; text-decoration-color: #ff4689; background-color: #272822\">=</span><span style=\"color: #f8f8f2; text-decoration-color: #f8f8f2; background-color: #272822\"> </span><span style=\"color: #ae81ff; text-decoration-color: #ae81ff; background-color: #272822\">40001</span><span style=\"background-color: #272822\">                                                                                  </span>\n",
       "<span style=\"background-color: #272822\"> </span><span style=\"color: #66d9ef; text-decoration-color: #66d9ef; background-color: #272822\">GROUP</span><span style=\"color: #f8f8f2; text-decoration-color: #f8f8f2; background-color: #272822\"> </span><span style=\"color: #66d9ef; text-decoration-color: #66d9ef; background-color: #272822\">BY</span><span style=\"color: #f8f8f2; text-decoration-color: #f8f8f2; background-color: #272822\"> hour</span><span style=\"background-color: #272822\">                                                                                                     </span>\n",
       "<span style=\"background-color: #272822\"> </span><span style=\"color: #66d9ef; text-decoration-color: #66d9ef; background-color: #272822\">ORDER</span><span style=\"color: #f8f8f2; text-decoration-color: #f8f8f2; background-color: #272822\"> </span><span style=\"color: #66d9ef; text-decoration-color: #66d9ef; background-color: #272822\">BY</span><span style=\"color: #f8f8f2; text-decoration-color: #f8f8f2; background-color: #272822\"> hour;</span><span style=\"background-color: #272822\">                                                                                                    </span>\n",
       "<span style=\"background-color: #272822\">                                                                                                                   </span>\n",
       "\n",
       "<span style=\"font-weight: bold\">Patients in a study:</span>                                                                                               \n",
       "\n",
       "<span style=\"background-color: #272822\">                                                                                                                   </span>\n",
       "<span style=\"background-color: #272822\"> </span><span style=\"color: #66d9ef; text-decoration-color: #66d9ef; background-color: #272822\">SELECT</span><span style=\"color: #f8f8f2; text-decoration-color: #f8f8f2; background-color: #272822\"> p.</span><span style=\"color: #ff4689; text-decoration-color: #ff4689; background-color: #272822\">*</span><span style=\"color: #f8f8f2; text-decoration-color: #f8f8f2; background-color: #272822\">, s.name </span><span style=\"color: #66d9ef; text-decoration-color: #66d9ef; background-color: #272822\">as</span><span style=\"color: #f8f8f2; text-decoration-color: #f8f8f2; background-color: #272822\"> study_name</span><span style=\"background-color: #272822\">                                                                                  </span>\n",
       "<span style=\"background-color: #272822\"> </span><span style=\"color: #66d9ef; text-decoration-color: #66d9ef; background-color: #272822\">FROM</span><span style=\"color: #f8f8f2; text-decoration-color: #f8f8f2; background-color: #272822\"> core_patient p</span><span style=\"background-color: #272822\">                                                                                               </span>\n",
       "<span style=\"background-color: #272822\"> </span><span style=\"color: #66d9ef; text-decoration-color: #66d9ef; background-color: #272822\">JOIN</span><span style=\"color: #f8f8f2; text-decoration-color: #f8f8f2; background-color: #272822\"> core_studypatient sp </span><span style=\"color: #66d9ef; text-decoration-color: #66d9ef; background-color: #272822\">ON</span><span style=\"color: #f8f8f2; text-decoration-color: #f8f8f2; background-color: #272822\"> sp.patient_id </span><span style=\"color: #ff4689; text-decoration-color: #ff4689; background-color: #272822\">=</span><span style=\"color: #f8f8f2; text-decoration-color: #f8f8f2; background-color: #272822\"> p.id</span><span style=\"background-color: #272822\">                                                                 </span>\n",
       "<span style=\"background-color: #272822\"> </span><span style=\"color: #66d9ef; text-decoration-color: #66d9ef; background-color: #272822\">JOIN</span><span style=\"color: #f8f8f2; text-decoration-color: #f8f8f2; background-color: #272822\"> core_study s </span><span style=\"color: #66d9ef; text-decoration-color: #66d9ef; background-color: #272822\">ON</span><span style=\"color: #f8f8f2; text-decoration-color: #f8f8f2; background-color: #272822\"> s.id </span><span style=\"color: #ff4689; text-decoration-color: #ff4689; background-color: #272822\">=</span><span style=\"color: #f8f8f2; text-decoration-color: #f8f8f2; background-color: #272822\"> sp.study_id</span><span style=\"background-color: #272822\">                                                                           </span>\n",
       "<span style=\"background-color: #272822\"> </span><span style=\"color: #66d9ef; text-decoration-color: #66d9ef; background-color: #272822\">WHERE</span><span style=\"color: #f8f8f2; text-decoration-color: #f8f8f2; background-color: #272822\"> sp.study_id </span><span style=\"color: #ff4689; text-decoration-color: #ff4689; background-color: #272822\">=</span><span style=\"color: #f8f8f2; text-decoration-color: #f8f8f2; background-color: #272822\"> </span><span style=\"color: #ae81ff; text-decoration-color: #ae81ff; background-color: #272822\">30001</span><span style=\"color: #f8f8f2; text-decoration-color: #f8f8f2; background-color: #272822\">;</span><span style=\"background-color: #272822\">                                                                                        </span>\n",
       "<span style=\"background-color: #272822\">                                                                                                                   </span>\n",
       "</pre>\n"
      ],
      "text/plain": [
       "┏━━━━━━━━━━━━━━━━━━━━━━━━━━━━━━━━━━━━━━━━━━━━━━━━━━━━━━━━━━━━━━━━━━━━━━━━━━━━━━━━━━━━━━━━━━━━━━━━━━━━━━━━━━━━━━━━━┓\n",
       "┃                                     \u001b[1mJupyterHealth Exchange Database Schema\u001b[0m                                      ┃\n",
       "┗━━━━━━━━━━━━━━━━━━━━━━━━━━━━━━━━━━━━━━━━━━━━━━━━━━━━━━━━━━━━━━━━━━━━━━━━━━━━━━━━━━━━━━━━━━━━━━━━━━━━━━━━━━━━━━━━━┛\n",
       "\n",
       "\n",
       "                                                    \u001b[1;4mCore Tables\u001b[0m                                                    \n",
       "\n",
       "                                                    \u001b[1mcore_study\u001b[0m                                                     \n",
       "\n",
       "Clinical research studies                                                                                          \n",
       "\n",
       "\u001b[1mColumns:\u001b[0m                                                                                                           \n",
       "\n",
       "\u001b[1;33m • \u001b[0m\u001b[1;36;40mid\u001b[0m (bigint): Study identifier (primary key)                                                                     \n",
       "\u001b[1;33m • \u001b[0m\u001b[1;36;40mname\u001b[0m (varchar): Study name                                                                                      \n",
       "\u001b[1;33m • \u001b[0m\u001b[1;36;40mdescription\u001b[0m (text): Study description                                                                           \n",
       "\u001b[1;33m • \u001b[0m\u001b[1;36;40morganization_id\u001b[0m (bigint): FK to core_organization                                                               \n",
       "\u001b[1;33m • \u001b[0m\u001b[1;36;40micon_url\u001b[0m (text): Optional study icon URL                                                                        \n",
       "\n",
       "\u001b[1mRelationships:\u001b[0m                                                                                                     \n",
       "\n",
       "\u001b[1;33m • \u001b[0mBelongs to one Organization (via organization_id)                                                               \n",
       "\u001b[1;33m • \u001b[0mHas many Patients (via core_studypatient M2M table)                                                             \n",
       "\u001b[1;33m • \u001b[0mHas many scope requests (via core_studyscoperequest)                                                            \n",
       "\n",
       "                                                   \u001b[1mcore_patient\u001b[0m                                                    \n",
       "\n",
       "Patient records with demographics                                                                                  \n",
       "\n",
       "\u001b[1mColumns:\u001b[0m                                                                                                           \n",
       "\n",
       "\u001b[1;33m • \u001b[0m\u001b[1;36;40mid\u001b[0m (bigint): Patient identifier                                                                                 \n",
       "\u001b[1;33m • \u001b[0m\u001b[1;36;40mjhe_user_id\u001b[0m (bigint): FK to core_jheuser                                                                        \n",
       "\u001b[1;33m • \u001b[0m\u001b[1;36;40midentifier\u001b[0m (varchar): External patient ID                                                                       \n",
       "\u001b[1;33m • \u001b[0m\u001b[1;36;40mname_family\u001b[0m (varchar): Family name                                                                              \n",
       "\u001b[1;33m • \u001b[0m\u001b[1;36;40mname_given\u001b[0m (varchar): Given name                                                                                \n",
       "\u001b[1;33m • \u001b[0m\u001b[1;36;40mbirth_date\u001b[0m (date): Date of birth                                                                                \n",
       "\u001b[1;33m • \u001b[0m\u001b[1;36;40mtelecom_phone\u001b[0m (varchar): Phone number                                                                           \n",
       "\u001b[1;33m • \u001b[0m\u001b[1;36;40mlast_updated\u001b[0m (timestamptz): Last update timestamp                                                               \n",
       "\n",
       "\u001b[1mRelationships:\u001b[0m                                                                                                     \n",
       "\n",
       "\u001b[1;33m • \u001b[0mHas one JheUser (via jhe_user_id)                                                                               \n",
       "\u001b[1;33m • \u001b[0mBelongs to many Organizations (via core_patientorganization M2M)                                                \n",
       "\u001b[1;33m • \u001b[0mEnrolled in many Studies (via core_studypatient M2M)                                                            \n",
       "\u001b[1;33m • \u001b[0mHas many Observations (subject_patient_id)                                                                      \n",
       "\n",
       "                                                 \u001b[1mcore_observation\u001b[0m                                                  \n",
       "\n",
       "Health observations in FHIR format with OMH data                                                                   \n",
       "\n",
       "\u001b[1mColumns:\u001b[0m                                                                                                           \n",
       "\n",
       "\u001b[1;33m • \u001b[0m\u001b[1;36;40mid\u001b[0m (bigint): Observation identifier                                                                             \n",
       "\u001b[1;33m • \u001b[0m\u001b[1;36;40msubject_patient_id\u001b[0m (bigint): FK to core_patient                                                                 \n",
       "\u001b[1;33m • \u001b[0m\u001b[1;36;40mcodeable_concept_id\u001b[0m (bigint): FK to core_codeableconcept (LOINC/OMH code)                                       \n",
       "\u001b[1;33m • \u001b[0m\u001b[1;36;40mdata_source_id\u001b[0m (bigint): FK to core_datasource (device)                                                         \n",
       "\u001b[1;33m • \u001b[0m\u001b[1;36;40mvalue_attachment_data\u001b[0m (jsonb): OMH data payload (base64 in FHIR)                                                \n",
       "\u001b[1;33m • \u001b[0m\u001b[1;36;40mstatus\u001b[0m (varchar): final|preliminary|amended|etc                                                                 \n",
       "\u001b[1;33m • \u001b[0m\u001b[1;36;40mlast_updated\u001b[0m (timestamptz): Last update timestamp                                                               \n",
       "\n",
       "\u001b[1mRelationships:\u001b[0m                                                                                                     \n",
       "\n",
       "\u001b[1;33m • \u001b[0mBelongs to one Patient (via subject_patient_id)                                                                 \n",
       "\u001b[1;33m • \u001b[0mHas one CodeableConcept (via codeable_concept_id)                                                               \n",
       "\u001b[1;33m • \u001b[0mGenerated by one DataSource/Device (via data_source_id)                                                         \n",
       "\n",
       "\u001b[3mNote: Observations store health data in Open mHealth format within FHIR Observation.valueAttachment\u001b[0m                \n",
       "\n",
       "\u001b[1mJSONB Data Structures:\u001b[0m                                                                                             \n",
       "\n",
       "\u001b[3mBlood pressure observation (OMH schema blood-pressure v4.0)\u001b[0m                                                        \n",
       "\n",
       "\u001b[48;2;39;40;34m                                                                                                                   \u001b[0m\n",
       "\u001b[48;2;39;40;34m \u001b[0m\u001b[38;2;248;248;242;48;2;39;40;34m{\u001b[0m\u001b[48;2;39;40;34m                                                                                                                \u001b[0m\u001b[48;2;39;40;34m \u001b[0m\n",
       "\u001b[48;2;39;40;34m \u001b[0m\u001b[38;2;248;248;242;48;2;39;40;34m  \u001b[0m\u001b[38;2;255;70;137;48;2;39;40;34m\"header\"\u001b[0m\u001b[38;2;248;248;242;48;2;39;40;34m:\u001b[0m\u001b[38;2;248;248;242;48;2;39;40;34m \u001b[0m\u001b[38;2;248;248;242;48;2;39;40;34m{\u001b[0m\u001b[48;2;39;40;34m                                                                                                    \u001b[0m\u001b[48;2;39;40;34m \u001b[0m\n",
       "\u001b[48;2;39;40;34m \u001b[0m\u001b[38;2;248;248;242;48;2;39;40;34m    \u001b[0m\u001b[38;2;255;70;137;48;2;39;40;34m\"uuid\"\u001b[0m\u001b[38;2;248;248;242;48;2;39;40;34m:\u001b[0m\u001b[38;2;248;248;242;48;2;39;40;34m \u001b[0m\u001b[38;2;230;219;116;48;2;39;40;34m\"string - unique observation ID\"\u001b[0m\u001b[38;2;248;248;242;48;2;39;40;34m,\u001b[0m\u001b[48;2;39;40;34m                                                                    \u001b[0m\u001b[48;2;39;40;34m \u001b[0m\n",
       "\u001b[48;2;39;40;34m \u001b[0m\u001b[38;2;248;248;242;48;2;39;40;34m    \u001b[0m\u001b[38;2;255;70;137;48;2;39;40;34m\"modality\"\u001b[0m\u001b[38;2;248;248;242;48;2;39;40;34m:\u001b[0m\u001b[38;2;248;248;242;48;2;39;40;34m \u001b[0m\u001b[38;2;230;219;116;48;2;39;40;34m\"sensed|self-reported\"\u001b[0m\u001b[38;2;248;248;242;48;2;39;40;34m,\u001b[0m\u001b[48;2;39;40;34m                                                                          \u001b[0m\u001b[48;2;39;40;34m \u001b[0m\n",
       "\u001b[48;2;39;40;34m \u001b[0m\u001b[38;2;248;248;242;48;2;39;40;34m    \u001b[0m\u001b[38;2;255;70;137;48;2;39;40;34m\"schema_id\"\u001b[0m\u001b[38;2;248;248;242;48;2;39;40;34m:\u001b[0m\u001b[38;2;248;248;242;48;2;39;40;34m \u001b[0m\u001b[38;2;248;248;242;48;2;39;40;34m{\u001b[0m\u001b[48;2;39;40;34m                                                                                               \u001b[0m\u001b[48;2;39;40;34m \u001b[0m\n",
       "\u001b[48;2;39;40;34m \u001b[0m\u001b[38;2;248;248;242;48;2;39;40;34m      \u001b[0m\u001b[38;2;255;70;137;48;2;39;40;34m\"name\"\u001b[0m\u001b[38;2;248;248;242;48;2;39;40;34m:\u001b[0m\u001b[38;2;248;248;242;48;2;39;40;34m \u001b[0m\u001b[38;2;230;219;116;48;2;39;40;34m\"blood-pressure\"\u001b[0m\u001b[38;2;248;248;242;48;2;39;40;34m,\u001b[0m\u001b[48;2;39;40;34m                                                                                  \u001b[0m\u001b[48;2;39;40;34m \u001b[0m\n",
       "\u001b[48;2;39;40;34m \u001b[0m\u001b[38;2;248;248;242;48;2;39;40;34m      \u001b[0m\u001b[38;2;255;70;137;48;2;39;40;34m\"version\"\u001b[0m\u001b[38;2;248;248;242;48;2;39;40;34m:\u001b[0m\u001b[38;2;248;248;242;48;2;39;40;34m \u001b[0m\u001b[38;2;230;219;116;48;2;39;40;34m\"4.0\"\u001b[0m\u001b[38;2;248;248;242;48;2;39;40;34m,\u001b[0m\u001b[48;2;39;40;34m                                                                                          \u001b[0m\u001b[48;2;39;40;34m \u001b[0m\n",
       "\u001b[48;2;39;40;34m \u001b[0m\u001b[38;2;248;248;242;48;2;39;40;34m      \u001b[0m\u001b[38;2;255;70;137;48;2;39;40;34m\"namespace\"\u001b[0m\u001b[38;2;248;248;242;48;2;39;40;34m:\u001b[0m\u001b[38;2;248;248;242;48;2;39;40;34m \u001b[0m\u001b[38;2;230;219;116;48;2;39;40;34m\"omh\"\u001b[0m\u001b[48;2;39;40;34m                                                                                         \u001b[0m\u001b[48;2;39;40;34m \u001b[0m\n",
       "\u001b[48;2;39;40;34m \u001b[0m\u001b[38;2;248;248;242;48;2;39;40;34m    \u001b[0m\u001b[38;2;248;248;242;48;2;39;40;34m},\u001b[0m\u001b[48;2;39;40;34m                                                                                                           \u001b[0m\u001b[48;2;39;40;34m \u001b[0m\n",
       "\u001b[48;2;39;40;34m \u001b[0m\u001b[38;2;248;248;242;48;2;39;40;34m    \u001b[0m\u001b[38;2;255;70;137;48;2;39;40;34m\"source_creation_date_time\"\u001b[0m\u001b[38;2;248;248;242;48;2;39;40;34m:\u001b[0m\u001b[38;2;248;248;242;48;2;39;40;34m \u001b[0m\u001b[38;2;230;219;116;48;2;39;40;34m\"ISO8601 timestamp\"\u001b[0m\u001b[48;2;39;40;34m                                                             \u001b[0m\u001b[48;2;39;40;34m \u001b[0m\n",
       "\u001b[48;2;39;40;34m \u001b[0m\u001b[38;2;248;248;242;48;2;39;40;34m  \u001b[0m\u001b[38;2;248;248;242;48;2;39;40;34m},\u001b[0m\u001b[48;2;39;40;34m                                                                                                             \u001b[0m\u001b[48;2;39;40;34m \u001b[0m\n",
       "\u001b[48;2;39;40;34m \u001b[0m\u001b[38;2;248;248;242;48;2;39;40;34m  \u001b[0m\u001b[38;2;255;70;137;48;2;39;40;34m\"body\"\u001b[0m\u001b[38;2;248;248;242;48;2;39;40;34m:\u001b[0m\u001b[38;2;248;248;242;48;2;39;40;34m \u001b[0m\u001b[38;2;248;248;242;48;2;39;40;34m{\u001b[0m\u001b[48;2;39;40;34m                                                                                                      \u001b[0m\u001b[48;2;39;40;34m \u001b[0m\n",
       "\u001b[48;2;39;40;34m \u001b[0m\u001b[38;2;248;248;242;48;2;39;40;34m    \u001b[0m\u001b[38;2;255;70;137;48;2;39;40;34m\"effective_time_frame\"\u001b[0m\u001b[38;2;248;248;242;48;2;39;40;34m:\u001b[0m\u001b[38;2;248;248;242;48;2;39;40;34m \u001b[0m\u001b[38;2;248;248;242;48;2;39;40;34m{\u001b[0m\u001b[48;2;39;40;34m                                                                                    \u001b[0m\u001b[48;2;39;40;34m \u001b[0m\n",
       "\u001b[48;2;39;40;34m \u001b[0m\u001b[38;2;248;248;242;48;2;39;40;34m      \u001b[0m\u001b[38;2;255;70;137;48;2;39;40;34m\"date_time\"\u001b[0m\u001b[38;2;248;248;242;48;2;39;40;34m:\u001b[0m\u001b[38;2;248;248;242;48;2;39;40;34m \u001b[0m\u001b[38;2;230;219;116;48;2;39;40;34m\"ISO8601 timestamp - when measured\"\u001b[0m\u001b[48;2;39;40;34m                                                           \u001b[0m\u001b[48;2;39;40;34m \u001b[0m\n",
       "\u001b[48;2;39;40;34m \u001b[0m\u001b[38;2;248;248;242;48;2;39;40;34m    \u001b[0m\u001b[38;2;248;248;242;48;2;39;40;34m},\u001b[0m\u001b[48;2;39;40;34m                                                                                                           \u001b[0m\u001b[48;2;39;40;34m \u001b[0m\n",
       "\u001b[48;2;39;40;34m \u001b[0m\u001b[38;2;248;248;242;48;2;39;40;34m    \u001b[0m\u001b[38;2;255;70;137;48;2;39;40;34m\"systolic_blood_pressure\"\u001b[0m\u001b[38;2;248;248;242;48;2;39;40;34m:\u001b[0m\u001b[38;2;248;248;242;48;2;39;40;34m \u001b[0m\u001b[38;2;248;248;242;48;2;39;40;34m{\u001b[0m\u001b[48;2;39;40;34m                                                                                 \u001b[0m\u001b[48;2;39;40;34m \u001b[0m\n",
       "\u001b[48;2;39;40;34m \u001b[0m\u001b[38;2;248;248;242;48;2;39;40;34m      \u001b[0m\u001b[38;2;255;70;137;48;2;39;40;34m\"unit\"\u001b[0m\u001b[38;2;248;248;242;48;2;39;40;34m:\u001b[0m\u001b[38;2;248;248;242;48;2;39;40;34m \u001b[0m\u001b[38;2;230;219;116;48;2;39;40;34m\"mmHg\"\u001b[0m\u001b[38;2;248;248;242;48;2;39;40;34m,\u001b[0m\u001b[48;2;39;40;34m                                                                                            \u001b[0m\u001b[48;2;39;40;34m \u001b[0m\n",
       "\u001b[48;2;39;40;34m \u001b[0m\u001b[38;2;248;248;242;48;2;39;40;34m      \u001b[0m\u001b[38;2;255;70;137;48;2;39;40;34m\"value\"\u001b[0m\u001b[38;2;248;248;242;48;2;39;40;34m:\u001b[0m\u001b[38;2;248;248;242;48;2;39;40;34m \u001b[0m\u001b[38;2;230;219;116;48;2;39;40;34m\"numeric\"\u001b[0m\u001b[48;2;39;40;34m                                                                                         \u001b[0m\u001b[48;2;39;40;34m \u001b[0m\n",
       "\u001b[48;2;39;40;34m \u001b[0m\u001b[38;2;248;248;242;48;2;39;40;34m    \u001b[0m\u001b[38;2;248;248;242;48;2;39;40;34m},\u001b[0m\u001b[48;2;39;40;34m                                                                                                           \u001b[0m\u001b[48;2;39;40;34m \u001b[0m\n",
       "\u001b[48;2;39;40;34m \u001b[0m\u001b[38;2;248;248;242;48;2;39;40;34m    \u001b[0m\u001b[38;2;255;70;137;48;2;39;40;34m\"diastolic_blood_pressure\"\u001b[0m\u001b[38;2;248;248;242;48;2;39;40;34m:\u001b[0m\u001b[38;2;248;248;242;48;2;39;40;34m \u001b[0m\u001b[38;2;248;248;242;48;2;39;40;34m{\u001b[0m\u001b[48;2;39;40;34m                                                                                \u001b[0m\u001b[48;2;39;40;34m \u001b[0m\n",
       "\u001b[48;2;39;40;34m \u001b[0m\u001b[38;2;248;248;242;48;2;39;40;34m      \u001b[0m\u001b[38;2;255;70;137;48;2;39;40;34m\"unit\"\u001b[0m\u001b[38;2;248;248;242;48;2;39;40;34m:\u001b[0m\u001b[38;2;248;248;242;48;2;39;40;34m \u001b[0m\u001b[38;2;230;219;116;48;2;39;40;34m\"mmHg\"\u001b[0m\u001b[38;2;248;248;242;48;2;39;40;34m,\u001b[0m\u001b[48;2;39;40;34m                                                                                            \u001b[0m\u001b[48;2;39;40;34m \u001b[0m\n",
       "\u001b[48;2;39;40;34m \u001b[0m\u001b[38;2;248;248;242;48;2;39;40;34m      \u001b[0m\u001b[38;2;255;70;137;48;2;39;40;34m\"value\"\u001b[0m\u001b[38;2;248;248;242;48;2;39;40;34m:\u001b[0m\u001b[38;2;248;248;242;48;2;39;40;34m \u001b[0m\u001b[38;2;230;219;116;48;2;39;40;34m\"numeric\"\u001b[0m\u001b[48;2;39;40;34m                                                                                         \u001b[0m\u001b[48;2;39;40;34m \u001b[0m\n",
       "\u001b[48;2;39;40;34m \u001b[0m\u001b[38;2;248;248;242;48;2;39;40;34m    \u001b[0m\u001b[38;2;248;248;242;48;2;39;40;34m}\u001b[0m\u001b[48;2;39;40;34m                                                                                                            \u001b[0m\u001b[48;2;39;40;34m \u001b[0m\n",
       "\u001b[48;2;39;40;34m \u001b[0m\u001b[38;2;248;248;242;48;2;39;40;34m  \u001b[0m\u001b[38;2;248;248;242;48;2;39;40;34m}\u001b[0m\u001b[48;2;39;40;34m                                                                                                              \u001b[0m\u001b[48;2;39;40;34m \u001b[0m\n",
       "\u001b[48;2;39;40;34m \u001b[0m\u001b[38;2;248;248;242;48;2;39;40;34m}\u001b[0m\u001b[48;2;39;40;34m                                                                                                                \u001b[0m\u001b[48;2;39;40;34m \u001b[0m\n",
       "\u001b[48;2;39;40;34m                                                                                                                   \u001b[0m\n",
       "\n",
       "\u001b[1mExtraction examples:\u001b[0m                                                                                               \n",
       "\n",
       "\u001b[1;33m • \u001b[0mSystolic: \u001b[1;36;40m(value_attachment_data->'body'->'systolic_blood_pressure'->>'value')::numeric\u001b[0m                         \n",
       "\u001b[1;33m • \u001b[0mDiastolic: \u001b[1;36;40m(value_attachment_data->'body'->'diastolic_blood_pressure'->>'value')::numeric\u001b[0m                       \n",
       "\u001b[1;33m • \u001b[0mTimestamp: \u001b[1;36;40m(value_attachment_data->'body'->'effective_time_frame'->>'date_time')::timestamptz\u001b[0m                   \n",
       "\n",
       "\u001b[1mExample SQL queries:\u001b[0m                                                                                               \n",
       "\n",
       "\u001b[3mGet all blood pressure readings for a patient on a specific date\u001b[0m                                                   \n",
       "\n",
       "\u001b[48;2;39;40;34m                                                                                                                   \u001b[0m\n",
       "\u001b[48;2;39;40;34m \u001b[0m\u001b[38;2;102;217;239;48;2;39;40;34mSELECT\u001b[0m\u001b[48;2;39;40;34m                                                                                                           \u001b[0m\u001b[48;2;39;40;34m \u001b[0m\n",
       "\u001b[48;2;39;40;34m \u001b[0m\u001b[38;2;248;248;242;48;2;39;40;34m    \u001b[0m\u001b[38;2;248;248;242;48;2;39;40;34m(\u001b[0m\u001b[38;2;248;248;242;48;2;39;40;34mvalue_attachment_data\u001b[0m\u001b[38;2;255;70;137;48;2;39;40;34m-\u001b[0m\u001b[38;2;255;70;137;48;2;39;40;34m>\u001b[0m\u001b[38;2;230;219;116;48;2;39;40;34m'body'\u001b[0m\u001b[38;2;255;70;137;48;2;39;40;34m-\u001b[0m\u001b[38;2;255;70;137;48;2;39;40;34m>\u001b[0m\u001b[38;2;230;219;116;48;2;39;40;34m'systolic_blood_pressure'\u001b[0m\u001b[38;2;255;70;137;48;2;39;40;34m-\u001b[0m\u001b[38;2;255;70;137;48;2;39;40;34m>\u001b[0m\u001b[38;2;255;70;137;48;2;39;40;34m>\u001b[0m\u001b[38;2;230;219;116;48;2;39;40;34m'value'\u001b[0m\u001b[38;2;248;248;242;48;2;39;40;34m)\u001b[0m\u001b[38;2;248;248;242;48;2;39;40;34m:\u001b[0m\u001b[38;2;248;248;242;48;2;39;40;34m:\u001b[0m\u001b[38;2;248;248;242;48;2;39;40;34mnumeric\u001b[0m\u001b[38;2;248;248;242;48;2;39;40;34m \u001b[0m\u001b[38;2;102;217;239;48;2;39;40;34mAS\u001b[0m\u001b[38;2;248;248;242;48;2;39;40;34m \u001b[0m\u001b[38;2;248;248;242;48;2;39;40;34msystolic\u001b[0m\u001b[38;2;248;248;242;48;2;39;40;34m,\u001b[0m\u001b[48;2;39;40;34m                   \u001b[0m\u001b[48;2;39;40;34m \u001b[0m\n",
       "\u001b[48;2;39;40;34m \u001b[0m\u001b[38;2;248;248;242;48;2;39;40;34m    \u001b[0m\u001b[38;2;248;248;242;48;2;39;40;34m(\u001b[0m\u001b[38;2;248;248;242;48;2;39;40;34mvalue_attachment_data\u001b[0m\u001b[38;2;255;70;137;48;2;39;40;34m-\u001b[0m\u001b[38;2;255;70;137;48;2;39;40;34m>\u001b[0m\u001b[38;2;230;219;116;48;2;39;40;34m'body'\u001b[0m\u001b[38;2;255;70;137;48;2;39;40;34m-\u001b[0m\u001b[38;2;255;70;137;48;2;39;40;34m>\u001b[0m\u001b[38;2;230;219;116;48;2;39;40;34m'diastolic_blood_pressure'\u001b[0m\u001b[38;2;255;70;137;48;2;39;40;34m-\u001b[0m\u001b[38;2;255;70;137;48;2;39;40;34m>\u001b[0m\u001b[38;2;255;70;137;48;2;39;40;34m>\u001b[0m\u001b[38;2;230;219;116;48;2;39;40;34m'value'\u001b[0m\u001b[38;2;248;248;242;48;2;39;40;34m)\u001b[0m\u001b[38;2;248;248;242;48;2;39;40;34m:\u001b[0m\u001b[38;2;248;248;242;48;2;39;40;34m:\u001b[0m\u001b[38;2;248;248;242;48;2;39;40;34mnumeric\u001b[0m\u001b[38;2;248;248;242;48;2;39;40;34m \u001b[0m\u001b[38;2;102;217;239;48;2;39;40;34mAS\u001b[0m\u001b[38;2;248;248;242;48;2;39;40;34m \u001b[0m\u001b[38;2;248;248;242;48;2;39;40;34mdiastolic\u001b[0m\u001b[38;2;248;248;242;48;2;39;40;34m,\u001b[0m\u001b[48;2;39;40;34m                 \u001b[0m\u001b[48;2;39;40;34m \u001b[0m\n",
       "\u001b[48;2;39;40;34m \u001b[0m\u001b[38;2;248;248;242;48;2;39;40;34m    \u001b[0m\u001b[38;2;248;248;242;48;2;39;40;34m(\u001b[0m\u001b[38;2;248;248;242;48;2;39;40;34mvalue_attachment_data\u001b[0m\u001b[38;2;255;70;137;48;2;39;40;34m-\u001b[0m\u001b[38;2;255;70;137;48;2;39;40;34m>\u001b[0m\u001b[38;2;230;219;116;48;2;39;40;34m'body'\u001b[0m\u001b[38;2;255;70;137;48;2;39;40;34m-\u001b[0m\u001b[38;2;255;70;137;48;2;39;40;34m>\u001b[0m\u001b[38;2;230;219;116;48;2;39;40;34m'effective_time_frame'\u001b[0m\u001b[38;2;255;70;137;48;2;39;40;34m-\u001b[0m\u001b[38;2;255;70;137;48;2;39;40;34m>\u001b[0m\u001b[38;2;255;70;137;48;2;39;40;34m>\u001b[0m\u001b[38;2;230;219;116;48;2;39;40;34m'date_time'\u001b[0m\u001b[38;2;248;248;242;48;2;39;40;34m)\u001b[0m\u001b[38;2;248;248;242;48;2;39;40;34m \u001b[0m\u001b[38;2;102;217;239;48;2;39;40;34mAS\u001b[0m\u001b[38;2;248;248;242;48;2;39;40;34m \u001b[0m\u001b[38;2;102;217;239;48;2;39;40;34mtimestamp\u001b[0m\u001b[48;2;39;40;34m                           \u001b[0m\u001b[48;2;39;40;34m \u001b[0m\n",
       "\u001b[48;2;39;40;34m \u001b[0m\u001b[38;2;102;217;239;48;2;39;40;34mFROM\u001b[0m\u001b[38;2;248;248;242;48;2;39;40;34m \u001b[0m\u001b[38;2;248;248;242;48;2;39;40;34mcore_observation\u001b[0m\u001b[48;2;39;40;34m                                                                                            \u001b[0m\u001b[48;2;39;40;34m \u001b[0m\n",
       "\u001b[48;2;39;40;34m \u001b[0m\u001b[38;2;102;217;239;48;2;39;40;34mWHERE\u001b[0m\u001b[38;2;248;248;242;48;2;39;40;34m \u001b[0m\u001b[38;2;248;248;242;48;2;39;40;34msubject_patient_id\u001b[0m\u001b[38;2;248;248;242;48;2;39;40;34m \u001b[0m\u001b[38;2;255;70;137;48;2;39;40;34m=\u001b[0m\u001b[38;2;248;248;242;48;2;39;40;34m \u001b[0m\u001b[38;2;174;129;255;48;2;39;40;34m40001\u001b[0m\u001b[48;2;39;40;34m                                                                                 \u001b[0m\u001b[48;2;39;40;34m \u001b[0m\n",
       "\u001b[48;2;39;40;34m \u001b[0m\u001b[38;2;248;248;242;48;2;39;40;34m    \u001b[0m\u001b[38;2;102;217;239;48;2;39;40;34mAND\u001b[0m\u001b[38;2;248;248;242;48;2;39;40;34m \u001b[0m\u001b[38;2;248;248;242;48;2;39;40;34mvalue_attachment_data\u001b[0m\u001b[38;2;255;70;137;48;2;39;40;34m-\u001b[0m\u001b[38;2;255;70;137;48;2;39;40;34m>\u001b[0m\u001b[38;2;230;219;116;48;2;39;40;34m'header'\u001b[0m\u001b[38;2;255;70;137;48;2;39;40;34m-\u001b[0m\u001b[38;2;255;70;137;48;2;39;40;34m>\u001b[0m\u001b[38;2;230;219;116;48;2;39;40;34m'schema_id'\u001b[0m\u001b[38;2;255;70;137;48;2;39;40;34m-\u001b[0m\u001b[38;2;255;70;137;48;2;39;40;34m>\u001b[0m\u001b[38;2;255;70;137;48;2;39;40;34m>\u001b[0m\u001b[38;2;230;219;116;48;2;39;40;34m'name'\u001b[0m\u001b[38;2;248;248;242;48;2;39;40;34m \u001b[0m\u001b[38;2;255;70;137;48;2;39;40;34m=\u001b[0m\u001b[38;2;248;248;242;48;2;39;40;34m \u001b[0m\u001b[38;2;230;219;116;48;2;39;40;34m'blood-pressure'\u001b[0m\u001b[48;2;39;40;34m                                 \u001b[0m\u001b[48;2;39;40;34m \u001b[0m\n",
       "\u001b[48;2;39;40;34m \u001b[0m\u001b[38;2;248;248;242;48;2;39;40;34m    \u001b[0m\u001b[38;2;102;217;239;48;2;39;40;34mAND\u001b[0m\u001b[38;2;248;248;242;48;2;39;40;34m \u001b[0m\u001b[38;2;248;248;242;48;2;39;40;34m(\u001b[0m\u001b[38;2;248;248;242;48;2;39;40;34mvalue_attachment_data\u001b[0m\u001b[38;2;255;70;137;48;2;39;40;34m-\u001b[0m\u001b[38;2;255;70;137;48;2;39;40;34m>\u001b[0m\u001b[38;2;230;219;116;48;2;39;40;34m'body'\u001b[0m\u001b[38;2;255;70;137;48;2;39;40;34m-\u001b[0m\u001b[38;2;255;70;137;48;2;39;40;34m>\u001b[0m\u001b[38;2;230;219;116;48;2;39;40;34m'effective_time_frame'\u001b[0m\u001b[38;2;255;70;137;48;2;39;40;34m-\u001b[0m\u001b[38;2;255;70;137;48;2;39;40;34m>\u001b[0m\u001b[38;2;255;70;137;48;2;39;40;34m>\u001b[0m\u001b[38;2;230;219;116;48;2;39;40;34m'date_time'\u001b[0m\u001b[38;2;248;248;242;48;2;39;40;34m)\u001b[0m\u001b[38;2;248;248;242;48;2;39;40;34m:\u001b[0m\u001b[38;2;248;248;242;48;2;39;40;34m:\u001b[0m\u001b[38;2;248;248;242;48;2;39;40;34mtimestamptz\u001b[0m\u001b[38;2;248;248;242;48;2;39;40;34m:\u001b[0m\u001b[38;2;248;248;242;48;2;39;40;34m:\u001b[0m\u001b[38;2;248;248;242;48;2;39;40;34mdate\u001b[0m\u001b[38;2;248;248;242;48;2;39;40;34m \u001b[0m\u001b[38;2;255;70;137;48;2;39;40;34m=\u001b[0m\u001b[38;2;248;248;242;48;2;39;40;34m \u001b[0m\u001b[38;2;230;219;116;48;2;39;40;34m'2025-02-02'\u001b[0m\u001b[48;2;39;40;34m  \u001b[0m\u001b[48;2;39;40;34m \u001b[0m\n",
       "\u001b[48;2;39;40;34m \u001b[0m\u001b[38;2;102;217;239;48;2;39;40;34mORDER\u001b[0m\u001b[38;2;248;248;242;48;2;39;40;34m \u001b[0m\u001b[38;2;102;217;239;48;2;39;40;34mBY\u001b[0m\u001b[38;2;248;248;242;48;2;39;40;34m \u001b[0m\u001b[38;2;102;217;239;48;2;39;40;34mtimestamp\u001b[0m\u001b[48;2;39;40;34m                                                                                               \u001b[0m\u001b[48;2;39;40;34m \u001b[0m\n",
       "\u001b[48;2;39;40;34m                                                                                                                   \u001b[0m\n",
       "\n",
       "\u001b[3mCalculate average blood pressure for a date range\u001b[0m                                                                  \n",
       "\n",
       "\u001b[48;2;39;40;34m                                                                                                                   \u001b[0m\n",
       "\u001b[48;2;39;40;34m \u001b[0m\u001b[38;2;102;217;239;48;2;39;40;34mSELECT\u001b[0m\u001b[48;2;39;40;34m                                                                                                           \u001b[0m\u001b[48;2;39;40;34m \u001b[0m\n",
       "\u001b[48;2;39;40;34m \u001b[0m\u001b[38;2;248;248;242;48;2;39;40;34m    \u001b[0m\u001b[38;2;102;217;239;48;2;39;40;34mAVG\u001b[0m\u001b[38;2;248;248;242;48;2;39;40;34m(\u001b[0m\u001b[38;2;248;248;242;48;2;39;40;34m(\u001b[0m\u001b[38;2;248;248;242;48;2;39;40;34mvalue_attachment_data\u001b[0m\u001b[38;2;255;70;137;48;2;39;40;34m-\u001b[0m\u001b[38;2;255;70;137;48;2;39;40;34m>\u001b[0m\u001b[38;2;230;219;116;48;2;39;40;34m'body'\u001b[0m\u001b[38;2;255;70;137;48;2;39;40;34m-\u001b[0m\u001b[38;2;255;70;137;48;2;39;40;34m>\u001b[0m\u001b[38;2;230;219;116;48;2;39;40;34m'systolic_blood_pressure'\u001b[0m\u001b[38;2;255;70;137;48;2;39;40;34m-\u001b[0m\u001b[38;2;255;70;137;48;2;39;40;34m>\u001b[0m\u001b[38;2;255;70;137;48;2;39;40;34m>\u001b[0m\u001b[38;2;230;219;116;48;2;39;40;34m'value'\u001b[0m\u001b[38;2;248;248;242;48;2;39;40;34m)\u001b[0m\u001b[38;2;248;248;242;48;2;39;40;34m:\u001b[0m\u001b[38;2;248;248;242;48;2;39;40;34m:\u001b[0m\u001b[38;2;248;248;242;48;2;39;40;34mnumeric\u001b[0m\u001b[38;2;248;248;242;48;2;39;40;34m)\u001b[0m\u001b[38;2;248;248;242;48;2;39;40;34m \u001b[0m\u001b[38;2;102;217;239;48;2;39;40;34mAS\u001b[0m\u001b[38;2;248;248;242;48;2;39;40;34m \u001b[0m\u001b[38;2;248;248;242;48;2;39;40;34mavg_systolic\u001b[0m\u001b[38;2;248;248;242;48;2;39;40;34m,\u001b[0m\u001b[48;2;39;40;34m          \u001b[0m\u001b[48;2;39;40;34m \u001b[0m\n",
       "\u001b[48;2;39;40;34m \u001b[0m\u001b[38;2;248;248;242;48;2;39;40;34m    \u001b[0m\u001b[38;2;102;217;239;48;2;39;40;34mAVG\u001b[0m\u001b[38;2;248;248;242;48;2;39;40;34m(\u001b[0m\u001b[38;2;248;248;242;48;2;39;40;34m(\u001b[0m\u001b[38;2;248;248;242;48;2;39;40;34mvalue_attachment_data\u001b[0m\u001b[38;2;255;70;137;48;2;39;40;34m-\u001b[0m\u001b[38;2;255;70;137;48;2;39;40;34m>\u001b[0m\u001b[38;2;230;219;116;48;2;39;40;34m'body'\u001b[0m\u001b[38;2;255;70;137;48;2;39;40;34m-\u001b[0m\u001b[38;2;255;70;137;48;2;39;40;34m>\u001b[0m\u001b[38;2;230;219;116;48;2;39;40;34m'diastolic_blood_pressure'\u001b[0m\u001b[38;2;255;70;137;48;2;39;40;34m-\u001b[0m\u001b[38;2;255;70;137;48;2;39;40;34m>\u001b[0m\u001b[38;2;255;70;137;48;2;39;40;34m>\u001b[0m\u001b[38;2;230;219;116;48;2;39;40;34m'value'\u001b[0m\u001b[38;2;248;248;242;48;2;39;40;34m)\u001b[0m\u001b[38;2;248;248;242;48;2;39;40;34m:\u001b[0m\u001b[38;2;248;248;242;48;2;39;40;34m:\u001b[0m\u001b[38;2;248;248;242;48;2;39;40;34mnumeric\u001b[0m\u001b[38;2;248;248;242;48;2;39;40;34m)\u001b[0m\u001b[38;2;248;248;242;48;2;39;40;34m \u001b[0m\u001b[38;2;102;217;239;48;2;39;40;34mAS\u001b[0m\u001b[38;2;248;248;242;48;2;39;40;34m \u001b[0m\u001b[38;2;248;248;242;48;2;39;40;34mavg_diastolic\u001b[0m\u001b[48;2;39;40;34m         \u001b[0m\u001b[48;2;39;40;34m \u001b[0m\n",
       "\u001b[48;2;39;40;34m \u001b[0m\u001b[38;2;102;217;239;48;2;39;40;34mFROM\u001b[0m\u001b[38;2;248;248;242;48;2;39;40;34m \u001b[0m\u001b[38;2;248;248;242;48;2;39;40;34mcore_observation\u001b[0m\u001b[48;2;39;40;34m                                                                                            \u001b[0m\u001b[48;2;39;40;34m \u001b[0m\n",
       "\u001b[48;2;39;40;34m \u001b[0m\u001b[38;2;102;217;239;48;2;39;40;34mWHERE\u001b[0m\u001b[38;2;248;248;242;48;2;39;40;34m \u001b[0m\u001b[38;2;248;248;242;48;2;39;40;34msubject_patient_id\u001b[0m\u001b[38;2;248;248;242;48;2;39;40;34m \u001b[0m\u001b[38;2;255;70;137;48;2;39;40;34m=\u001b[0m\u001b[38;2;248;248;242;48;2;39;40;34m \u001b[0m\u001b[38;2;174;129;255;48;2;39;40;34m40001\u001b[0m\u001b[48;2;39;40;34m                                                                                 \u001b[0m\u001b[48;2;39;40;34m \u001b[0m\n",
       "\u001b[48;2;39;40;34m \u001b[0m\u001b[38;2;248;248;242;48;2;39;40;34m    \u001b[0m\u001b[38;2;102;217;239;48;2;39;40;34mAND\u001b[0m\u001b[38;2;248;248;242;48;2;39;40;34m \u001b[0m\u001b[38;2;248;248;242;48;2;39;40;34mvalue_attachment_data\u001b[0m\u001b[38;2;255;70;137;48;2;39;40;34m-\u001b[0m\u001b[38;2;255;70;137;48;2;39;40;34m>\u001b[0m\u001b[38;2;230;219;116;48;2;39;40;34m'header'\u001b[0m\u001b[38;2;255;70;137;48;2;39;40;34m-\u001b[0m\u001b[38;2;255;70;137;48;2;39;40;34m>\u001b[0m\u001b[38;2;230;219;116;48;2;39;40;34m'schema_id'\u001b[0m\u001b[38;2;255;70;137;48;2;39;40;34m-\u001b[0m\u001b[38;2;255;70;137;48;2;39;40;34m>\u001b[0m\u001b[38;2;255;70;137;48;2;39;40;34m>\u001b[0m\u001b[38;2;230;219;116;48;2;39;40;34m'name'\u001b[0m\u001b[38;2;248;248;242;48;2;39;40;34m \u001b[0m\u001b[38;2;255;70;137;48;2;39;40;34m=\u001b[0m\u001b[38;2;248;248;242;48;2;39;40;34m \u001b[0m\u001b[38;2;230;219;116;48;2;39;40;34m'blood-pressure'\u001b[0m\u001b[48;2;39;40;34m                                 \u001b[0m\u001b[48;2;39;40;34m \u001b[0m\n",
       "\u001b[48;2;39;40;34m \u001b[0m\u001b[38;2;248;248;242;48;2;39;40;34m    \u001b[0m\u001b[38;2;102;217;239;48;2;39;40;34mAND\u001b[0m\u001b[38;2;248;248;242;48;2;39;40;34m \u001b[0m\u001b[38;2;248;248;242;48;2;39;40;34m(\u001b[0m\u001b[38;2;248;248;242;48;2;39;40;34mvalue_attachment_data\u001b[0m\u001b[38;2;255;70;137;48;2;39;40;34m-\u001b[0m\u001b[38;2;255;70;137;48;2;39;40;34m>\u001b[0m\u001b[38;2;230;219;116;48;2;39;40;34m'body'\u001b[0m\u001b[38;2;255;70;137;48;2;39;40;34m-\u001b[0m\u001b[38;2;255;70;137;48;2;39;40;34m>\u001b[0m\u001b[38;2;230;219;116;48;2;39;40;34m'effective_time_frame'\u001b[0m\u001b[38;2;255;70;137;48;2;39;40;34m-\u001b[0m\u001b[38;2;255;70;137;48;2;39;40;34m>\u001b[0m\u001b[38;2;255;70;137;48;2;39;40;34m>\u001b[0m\u001b[38;2;230;219;116;48;2;39;40;34m'date_time'\u001b[0m\u001b[38;2;248;248;242;48;2;39;40;34m)\u001b[0m\u001b[38;2;248;248;242;48;2;39;40;34m:\u001b[0m\u001b[38;2;248;248;242;48;2;39;40;34m:\u001b[0m\u001b[38;2;248;248;242;48;2;39;40;34mtimestamptz\u001b[0m\u001b[38;2;248;248;242;48;2;39;40;34m \u001b[0m\u001b[38;2;255;70;137;48;2;39;40;34m>\u001b[0m\u001b[38;2;255;70;137;48;2;39;40;34m=\u001b[0m\u001b[38;2;248;248;242;48;2;39;40;34m \u001b[0m\u001b[38;2;230;219;116;48;2;39;40;34m'2025-02-01'\u001b[0m\u001b[48;2;39;40;34m       \u001b[0m\u001b[48;2;39;40;34m \u001b[0m\n",
       "\u001b[48;2;39;40;34m \u001b[0m\u001b[38;2;248;248;242;48;2;39;40;34m    \u001b[0m\u001b[38;2;102;217;239;48;2;39;40;34mAND\u001b[0m\u001b[38;2;248;248;242;48;2;39;40;34m \u001b[0m\u001b[38;2;248;248;242;48;2;39;40;34m(\u001b[0m\u001b[38;2;248;248;242;48;2;39;40;34mvalue_attachment_data\u001b[0m\u001b[38;2;255;70;137;48;2;39;40;34m-\u001b[0m\u001b[38;2;255;70;137;48;2;39;40;34m>\u001b[0m\u001b[38;2;230;219;116;48;2;39;40;34m'body'\u001b[0m\u001b[38;2;255;70;137;48;2;39;40;34m-\u001b[0m\u001b[38;2;255;70;137;48;2;39;40;34m>\u001b[0m\u001b[38;2;230;219;116;48;2;39;40;34m'effective_time_frame'\u001b[0m\u001b[38;2;255;70;137;48;2;39;40;34m-\u001b[0m\u001b[38;2;255;70;137;48;2;39;40;34m>\u001b[0m\u001b[38;2;255;70;137;48;2;39;40;34m>\u001b[0m\u001b[38;2;230;219;116;48;2;39;40;34m'date_time'\u001b[0m\u001b[38;2;248;248;242;48;2;39;40;34m)\u001b[0m\u001b[38;2;248;248;242;48;2;39;40;34m:\u001b[0m\u001b[38;2;248;248;242;48;2;39;40;34m:\u001b[0m\u001b[38;2;248;248;242;48;2;39;40;34mtimestamptz\u001b[0m\u001b[38;2;248;248;242;48;2;39;40;34m \u001b[0m\u001b[38;2;255;70;137;48;2;39;40;34m<\u001b[0m\u001b[38;2;248;248;242;48;2;39;40;34m \u001b[0m\u001b[38;2;230;219;116;48;2;39;40;34m'2025-03-01'\u001b[0m\u001b[48;2;39;40;34m        \u001b[0m\u001b[48;2;39;40;34m \u001b[0m\n",
       "\u001b[48;2;39;40;34m                                                                                                                   \u001b[0m\n",
       "\n",
       "\u001b[3mGet all blood pressure readings for a patient in a specific study\u001b[0m                                                  \n",
       "\n",
       "\u001b[48;2;39;40;34m                                                                                                                   \u001b[0m\n",
       "\u001b[48;2;39;40;34m \u001b[0m\u001b[38;2;102;217;239;48;2;39;40;34mSELECT\u001b[0m\u001b[48;2;39;40;34m                                                                                                           \u001b[0m\u001b[48;2;39;40;34m \u001b[0m\n",
       "\u001b[48;2;39;40;34m \u001b[0m\u001b[38;2;248;248;242;48;2;39;40;34m    \u001b[0m\u001b[38;2;248;248;242;48;2;39;40;34mo\u001b[0m\u001b[38;2;248;248;242;48;2;39;40;34m.\u001b[0m\u001b[38;2;248;248;242;48;2;39;40;34mid\u001b[0m\u001b[38;2;248;248;242;48;2;39;40;34m,\u001b[0m\u001b[48;2;39;40;34m                                                                                                        \u001b[0m\u001b[48;2;39;40;34m \u001b[0m\n",
       "\u001b[48;2;39;40;34m \u001b[0m\u001b[38;2;248;248;242;48;2;39;40;34m    \u001b[0m\u001b[38;2;248;248;242;48;2;39;40;34m(\u001b[0m\u001b[38;2;248;248;242;48;2;39;40;34mo\u001b[0m\u001b[38;2;248;248;242;48;2;39;40;34m.\u001b[0m\u001b[38;2;248;248;242;48;2;39;40;34mvalue_attachment_data\u001b[0m\u001b[38;2;255;70;137;48;2;39;40;34m-\u001b[0m\u001b[38;2;255;70;137;48;2;39;40;34m>\u001b[0m\u001b[38;2;230;219;116;48;2;39;40;34m'body'\u001b[0m\u001b[38;2;255;70;137;48;2;39;40;34m-\u001b[0m\u001b[38;2;255;70;137;48;2;39;40;34m>\u001b[0m\u001b[38;2;230;219;116;48;2;39;40;34m'systolic_blood_pressure'\u001b[0m\u001b[38;2;255;70;137;48;2;39;40;34m-\u001b[0m\u001b[38;2;255;70;137;48;2;39;40;34m>\u001b[0m\u001b[38;2;255;70;137;48;2;39;40;34m>\u001b[0m\u001b[38;2;230;219;116;48;2;39;40;34m'value'\u001b[0m\u001b[38;2;248;248;242;48;2;39;40;34m)\u001b[0m\u001b[38;2;248;248;242;48;2;39;40;34m:\u001b[0m\u001b[38;2;248;248;242;48;2;39;40;34m:\u001b[0m\u001b[38;2;248;248;242;48;2;39;40;34mnumeric\u001b[0m\u001b[38;2;248;248;242;48;2;39;40;34m \u001b[0m\u001b[38;2;102;217;239;48;2;39;40;34mAS\u001b[0m\u001b[38;2;248;248;242;48;2;39;40;34m \u001b[0m\u001b[38;2;248;248;242;48;2;39;40;34msystolic\u001b[0m\u001b[38;2;248;248;242;48;2;39;40;34m,\u001b[0m\u001b[48;2;39;40;34m                 \u001b[0m\u001b[48;2;39;40;34m \u001b[0m\n",
       "\u001b[48;2;39;40;34m \u001b[0m\u001b[38;2;248;248;242;48;2;39;40;34m    \u001b[0m\u001b[38;2;248;248;242;48;2;39;40;34m(\u001b[0m\u001b[38;2;248;248;242;48;2;39;40;34mo\u001b[0m\u001b[38;2;248;248;242;48;2;39;40;34m.\u001b[0m\u001b[38;2;248;248;242;48;2;39;40;34mvalue_attachment_data\u001b[0m\u001b[38;2;255;70;137;48;2;39;40;34m-\u001b[0m\u001b[38;2;255;70;137;48;2;39;40;34m>\u001b[0m\u001b[38;2;230;219;116;48;2;39;40;34m'body'\u001b[0m\u001b[38;2;255;70;137;48;2;39;40;34m-\u001b[0m\u001b[38;2;255;70;137;48;2;39;40;34m>\u001b[0m\u001b[38;2;230;219;116;48;2;39;40;34m'diastolic_blood_pressure'\u001b[0m\u001b[38;2;255;70;137;48;2;39;40;34m-\u001b[0m\u001b[38;2;255;70;137;48;2;39;40;34m>\u001b[0m\u001b[38;2;255;70;137;48;2;39;40;34m>\u001b[0m\u001b[38;2;230;219;116;48;2;39;40;34m'value'\u001b[0m\u001b[38;2;248;248;242;48;2;39;40;34m)\u001b[0m\u001b[38;2;248;248;242;48;2;39;40;34m:\u001b[0m\u001b[38;2;248;248;242;48;2;39;40;34m:\u001b[0m\u001b[38;2;248;248;242;48;2;39;40;34mnumeric\u001b[0m\u001b[38;2;248;248;242;48;2;39;40;34m \u001b[0m\u001b[38;2;102;217;239;48;2;39;40;34mAS\u001b[0m\u001b[38;2;248;248;242;48;2;39;40;34m \u001b[0m\u001b[38;2;248;248;242;48;2;39;40;34mdiastolic\u001b[0m\u001b[38;2;248;248;242;48;2;39;40;34m,\u001b[0m\u001b[48;2;39;40;34m               \u001b[0m\u001b[48;2;39;40;34m \u001b[0m\n",
       "\u001b[48;2;39;40;34m \u001b[0m\u001b[38;2;248;248;242;48;2;39;40;34m    \u001b[0m\u001b[38;2;248;248;242;48;2;39;40;34m(\u001b[0m\u001b[38;2;248;248;242;48;2;39;40;34mo\u001b[0m\u001b[38;2;248;248;242;48;2;39;40;34m.\u001b[0m\u001b[38;2;248;248;242;48;2;39;40;34mvalue_attachment_data\u001b[0m\u001b[38;2;255;70;137;48;2;39;40;34m-\u001b[0m\u001b[38;2;255;70;137;48;2;39;40;34m>\u001b[0m\u001b[38;2;230;219;116;48;2;39;40;34m'body'\u001b[0m\u001b[38;2;255;70;137;48;2;39;40;34m-\u001b[0m\u001b[38;2;255;70;137;48;2;39;40;34m>\u001b[0m\u001b[38;2;230;219;116;48;2;39;40;34m'effective_time_frame'\u001b[0m\u001b[38;2;255;70;137;48;2;39;40;34m-\u001b[0m\u001b[38;2;255;70;137;48;2;39;40;34m>\u001b[0m\u001b[38;2;255;70;137;48;2;39;40;34m>\u001b[0m\u001b[38;2;230;219;116;48;2;39;40;34m'date_time'\u001b[0m\u001b[38;2;248;248;242;48;2;39;40;34m)\u001b[0m\u001b[38;2;248;248;242;48;2;39;40;34m \u001b[0m\u001b[38;2;102;217;239;48;2;39;40;34mAS\u001b[0m\u001b[38;2;248;248;242;48;2;39;40;34m \u001b[0m\u001b[38;2;102;217;239;48;2;39;40;34mtimestamp\u001b[0m\u001b[38;2;248;248;242;48;2;39;40;34m,\u001b[0m\u001b[48;2;39;40;34m                        \u001b[0m\u001b[48;2;39;40;34m \u001b[0m\n",
       "\u001b[48;2;39;40;34m \u001b[0m\u001b[38;2;248;248;242;48;2;39;40;34m    \u001b[0m\u001b[38;2;248;248;242;48;2;39;40;34mo\u001b[0m\u001b[38;2;248;248;242;48;2;39;40;34m.\u001b[0m\u001b[38;2;248;248;242;48;2;39;40;34mlast_updated\u001b[0m\u001b[48;2;39;40;34m                                                                                               \u001b[0m\u001b[48;2;39;40;34m \u001b[0m\n",
       "\u001b[48;2;39;40;34m \u001b[0m\u001b[38;2;102;217;239;48;2;39;40;34mFROM\u001b[0m\u001b[38;2;248;248;242;48;2;39;40;34m \u001b[0m\u001b[38;2;248;248;242;48;2;39;40;34mcore_observation\u001b[0m\u001b[38;2;248;248;242;48;2;39;40;34m \u001b[0m\u001b[38;2;248;248;242;48;2;39;40;34mo\u001b[0m\u001b[48;2;39;40;34m                                                                                          \u001b[0m\u001b[48;2;39;40;34m \u001b[0m\n",
       "\u001b[48;2;39;40;34m \u001b[0m\u001b[38;2;102;217;239;48;2;39;40;34mJOIN\u001b[0m\u001b[38;2;248;248;242;48;2;39;40;34m \u001b[0m\u001b[38;2;248;248;242;48;2;39;40;34mcore_studypatient\u001b[0m\u001b[38;2;248;248;242;48;2;39;40;34m \u001b[0m\u001b[38;2;248;248;242;48;2;39;40;34msp\u001b[0m\u001b[38;2;248;248;242;48;2;39;40;34m \u001b[0m\u001b[38;2;102;217;239;48;2;39;40;34mON\u001b[0m\u001b[38;2;248;248;242;48;2;39;40;34m \u001b[0m\u001b[38;2;248;248;242;48;2;39;40;34mo\u001b[0m\u001b[38;2;248;248;242;48;2;39;40;34m.\u001b[0m\u001b[38;2;248;248;242;48;2;39;40;34msubject_patient_id\u001b[0m\u001b[38;2;248;248;242;48;2;39;40;34m \u001b[0m\u001b[38;2;255;70;137;48;2;39;40;34m=\u001b[0m\u001b[38;2;248;248;242;48;2;39;40;34m \u001b[0m\u001b[38;2;248;248;242;48;2;39;40;34msp\u001b[0m\u001b[38;2;248;248;242;48;2;39;40;34m.\u001b[0m\u001b[38;2;248;248;242;48;2;39;40;34mpatient_id\u001b[0m\u001b[48;2;39;40;34m                                                \u001b[0m\u001b[48;2;39;40;34m \u001b[0m\n",
       "\u001b[48;2;39;40;34m \u001b[0m\u001b[38;2;102;217;239;48;2;39;40;34mWHERE\u001b[0m\u001b[38;2;248;248;242;48;2;39;40;34m \u001b[0m\u001b[38;2;248;248;242;48;2;39;40;34msp\u001b[0m\u001b[38;2;248;248;242;48;2;39;40;34m.\u001b[0m\u001b[38;2;248;248;242;48;2;39;40;34mstudy_id\u001b[0m\u001b[38;2;248;248;242;48;2;39;40;34m \u001b[0m\u001b[38;2;255;70;137;48;2;39;40;34m=\u001b[0m\u001b[38;2;248;248;242;48;2;39;40;34m \u001b[0m\u001b[38;2;174;129;255;48;2;39;40;34m30001\u001b[0m\u001b[48;2;39;40;34m                                                                                        \u001b[0m\u001b[48;2;39;40;34m \u001b[0m\n",
       "\u001b[48;2;39;40;34m \u001b[0m\u001b[38;2;248;248;242;48;2;39;40;34m    \u001b[0m\u001b[38;2;102;217;239;48;2;39;40;34mAND\u001b[0m\u001b[38;2;248;248;242;48;2;39;40;34m \u001b[0m\u001b[38;2;248;248;242;48;2;39;40;34msp\u001b[0m\u001b[38;2;248;248;242;48;2;39;40;34m.\u001b[0m\u001b[38;2;248;248;242;48;2;39;40;34mpatient_id\u001b[0m\u001b[38;2;248;248;242;48;2;39;40;34m \u001b[0m\u001b[38;2;255;70;137;48;2;39;40;34m=\u001b[0m\u001b[38;2;248;248;242;48;2;39;40;34m \u001b[0m\u001b[38;2;174;129;255;48;2;39;40;34m40001\u001b[0m\u001b[48;2;39;40;34m                                                                                    \u001b[0m\u001b[48;2;39;40;34m \u001b[0m\n",
       "\u001b[48;2;39;40;34m \u001b[0m\u001b[38;2;248;248;242;48;2;39;40;34m    \u001b[0m\u001b[38;2;102;217;239;48;2;39;40;34mAND\u001b[0m\u001b[38;2;248;248;242;48;2;39;40;34m \u001b[0m\u001b[38;2;248;248;242;48;2;39;40;34mo\u001b[0m\u001b[38;2;248;248;242;48;2;39;40;34m.\u001b[0m\u001b[38;2;248;248;242;48;2;39;40;34mvalue_attachment_data\u001b[0m\u001b[38;2;255;70;137;48;2;39;40;34m-\u001b[0m\u001b[38;2;255;70;137;48;2;39;40;34m>\u001b[0m\u001b[38;2;230;219;116;48;2;39;40;34m'header'\u001b[0m\u001b[38;2;255;70;137;48;2;39;40;34m-\u001b[0m\u001b[38;2;255;70;137;48;2;39;40;34m>\u001b[0m\u001b[38;2;230;219;116;48;2;39;40;34m'schema_id'\u001b[0m\u001b[38;2;255;70;137;48;2;39;40;34m-\u001b[0m\u001b[38;2;255;70;137;48;2;39;40;34m>\u001b[0m\u001b[38;2;255;70;137;48;2;39;40;34m>\u001b[0m\u001b[38;2;230;219;116;48;2;39;40;34m'name'\u001b[0m\u001b[38;2;248;248;242;48;2;39;40;34m \u001b[0m\u001b[38;2;255;70;137;48;2;39;40;34m=\u001b[0m\u001b[38;2;248;248;242;48;2;39;40;34m \u001b[0m\u001b[38;2;230;219;116;48;2;39;40;34m'blood-pressure'\u001b[0m\u001b[48;2;39;40;34m                               \u001b[0m\u001b[48;2;39;40;34m \u001b[0m\n",
       "\u001b[48;2;39;40;34m \u001b[0m\u001b[38;2;102;217;239;48;2;39;40;34mORDER\u001b[0m\u001b[38;2;248;248;242;48;2;39;40;34m \u001b[0m\u001b[38;2;102;217;239;48;2;39;40;34mBY\u001b[0m\u001b[38;2;248;248;242;48;2;39;40;34m \u001b[0m\u001b[38;2;248;248;242;48;2;39;40;34mo\u001b[0m\u001b[38;2;248;248;242;48;2;39;40;34m.\u001b[0m\u001b[38;2;248;248;242;48;2;39;40;34mlast_updated\u001b[0m\u001b[38;2;248;248;242;48;2;39;40;34m \u001b[0m\u001b[38;2;102;217;239;48;2;39;40;34mDESC\u001b[0m\u001b[48;2;39;40;34m                                                                                     \u001b[0m\u001b[48;2;39;40;34m \u001b[0m\n",
       "\u001b[48;2;39;40;34m                                                                                                                   \u001b[0m\n",
       "\n",
       "\u001b[3mHeart rate observation (OMH schema heart-rate v2.0)\u001b[0m                                                                \n",
       "\n",
       "\u001b[48;2;39;40;34m                                                                                                                   \u001b[0m\n",
       "\u001b[48;2;39;40;34m \u001b[0m\u001b[38;2;248;248;242;48;2;39;40;34m{\u001b[0m\u001b[48;2;39;40;34m                                                                                                                \u001b[0m\u001b[48;2;39;40;34m \u001b[0m\n",
       "\u001b[48;2;39;40;34m \u001b[0m\u001b[38;2;248;248;242;48;2;39;40;34m  \u001b[0m\u001b[38;2;255;70;137;48;2;39;40;34m\"header\"\u001b[0m\u001b[38;2;248;248;242;48;2;39;40;34m:\u001b[0m\u001b[38;2;248;248;242;48;2;39;40;34m \u001b[0m\u001b[38;2;248;248;242;48;2;39;40;34m{\u001b[0m\u001b[48;2;39;40;34m                                                                                                    \u001b[0m\u001b[48;2;39;40;34m \u001b[0m\n",
       "\u001b[48;2;39;40;34m \u001b[0m\u001b[38;2;248;248;242;48;2;39;40;34m    \u001b[0m\u001b[38;2;255;70;137;48;2;39;40;34m\"uuid\"\u001b[0m\u001b[38;2;248;248;242;48;2;39;40;34m:\u001b[0m\u001b[38;2;248;248;242;48;2;39;40;34m \u001b[0m\u001b[38;2;230;219;116;48;2;39;40;34m\"string - unique observation ID\"\u001b[0m\u001b[38;2;248;248;242;48;2;39;40;34m,\u001b[0m\u001b[48;2;39;40;34m                                                                    \u001b[0m\u001b[48;2;39;40;34m \u001b[0m\n",
       "\u001b[48;2;39;40;34m \u001b[0m\u001b[38;2;248;248;242;48;2;39;40;34m    \u001b[0m\u001b[38;2;255;70;137;48;2;39;40;34m\"modality\"\u001b[0m\u001b[38;2;248;248;242;48;2;39;40;34m:\u001b[0m\u001b[38;2;248;248;242;48;2;39;40;34m \u001b[0m\u001b[38;2;230;219;116;48;2;39;40;34m\"sensed|self-reported\"\u001b[0m\u001b[38;2;248;248;242;48;2;39;40;34m,\u001b[0m\u001b[48;2;39;40;34m                                                                          \u001b[0m\u001b[48;2;39;40;34m \u001b[0m\n",
       "\u001b[48;2;39;40;34m \u001b[0m\u001b[38;2;248;248;242;48;2;39;40;34m    \u001b[0m\u001b[38;2;255;70;137;48;2;39;40;34m\"schema_id\"\u001b[0m\u001b[38;2;248;248;242;48;2;39;40;34m:\u001b[0m\u001b[38;2;248;248;242;48;2;39;40;34m \u001b[0m\u001b[38;2;248;248;242;48;2;39;40;34m{\u001b[0m\u001b[48;2;39;40;34m                                                                                               \u001b[0m\u001b[48;2;39;40;34m \u001b[0m\n",
       "\u001b[48;2;39;40;34m \u001b[0m\u001b[38;2;248;248;242;48;2;39;40;34m      \u001b[0m\u001b[38;2;255;70;137;48;2;39;40;34m\"name\"\u001b[0m\u001b[38;2;248;248;242;48;2;39;40;34m:\u001b[0m\u001b[38;2;248;248;242;48;2;39;40;34m \u001b[0m\u001b[38;2;230;219;116;48;2;39;40;34m\"heart-rate\"\u001b[0m\u001b[38;2;248;248;242;48;2;39;40;34m,\u001b[0m\u001b[48;2;39;40;34m                                                                                      \u001b[0m\u001b[48;2;39;40;34m \u001b[0m\n",
       "\u001b[48;2;39;40;34m \u001b[0m\u001b[38;2;248;248;242;48;2;39;40;34m      \u001b[0m\u001b[38;2;255;70;137;48;2;39;40;34m\"version\"\u001b[0m\u001b[38;2;248;248;242;48;2;39;40;34m:\u001b[0m\u001b[38;2;248;248;242;48;2;39;40;34m \u001b[0m\u001b[38;2;230;219;116;48;2;39;40;34m\"2.0\"\u001b[0m\u001b[38;2;248;248;242;48;2;39;40;34m,\u001b[0m\u001b[48;2;39;40;34m                                                                                          \u001b[0m\u001b[48;2;39;40;34m \u001b[0m\n",
       "\u001b[48;2;39;40;34m \u001b[0m\u001b[38;2;248;248;242;48;2;39;40;34m      \u001b[0m\u001b[38;2;255;70;137;48;2;39;40;34m\"namespace\"\u001b[0m\u001b[38;2;248;248;242;48;2;39;40;34m:\u001b[0m\u001b[38;2;248;248;242;48;2;39;40;34m \u001b[0m\u001b[38;2;230;219;116;48;2;39;40;34m\"omh\"\u001b[0m\u001b[48;2;39;40;34m                                                                                         \u001b[0m\u001b[48;2;39;40;34m \u001b[0m\n",
       "\u001b[48;2;39;40;34m \u001b[0m\u001b[38;2;248;248;242;48;2;39;40;34m    \u001b[0m\u001b[38;2;248;248;242;48;2;39;40;34m},\u001b[0m\u001b[48;2;39;40;34m                                                                                                           \u001b[0m\u001b[48;2;39;40;34m \u001b[0m\n",
       "\u001b[48;2;39;40;34m \u001b[0m\u001b[38;2;248;248;242;48;2;39;40;34m    \u001b[0m\u001b[38;2;255;70;137;48;2;39;40;34m\"source_creation_date_time\"\u001b[0m\u001b[38;2;248;248;242;48;2;39;40;34m:\u001b[0m\u001b[38;2;248;248;242;48;2;39;40;34m \u001b[0m\u001b[38;2;230;219;116;48;2;39;40;34m\"ISO8601 timestamp\"\u001b[0m\u001b[48;2;39;40;34m                                                             \u001b[0m\u001b[48;2;39;40;34m \u001b[0m\n",
       "\u001b[48;2;39;40;34m \u001b[0m\u001b[38;2;248;248;242;48;2;39;40;34m  \u001b[0m\u001b[38;2;248;248;242;48;2;39;40;34m},\u001b[0m\u001b[48;2;39;40;34m                                                                                                             \u001b[0m\u001b[48;2;39;40;34m \u001b[0m\n",
       "\u001b[48;2;39;40;34m \u001b[0m\u001b[38;2;248;248;242;48;2;39;40;34m  \u001b[0m\u001b[38;2;255;70;137;48;2;39;40;34m\"body\"\u001b[0m\u001b[38;2;248;248;242;48;2;39;40;34m:\u001b[0m\u001b[38;2;248;248;242;48;2;39;40;34m \u001b[0m\u001b[38;2;248;248;242;48;2;39;40;34m{\u001b[0m\u001b[48;2;39;40;34m                                                                                                      \u001b[0m\u001b[48;2;39;40;34m \u001b[0m\n",
       "\u001b[48;2;39;40;34m \u001b[0m\u001b[38;2;248;248;242;48;2;39;40;34m    \u001b[0m\u001b[38;2;255;70;137;48;2;39;40;34m\"effective_time_frame\"\u001b[0m\u001b[38;2;248;248;242;48;2;39;40;34m:\u001b[0m\u001b[38;2;248;248;242;48;2;39;40;34m \u001b[0m\u001b[38;2;248;248;242;48;2;39;40;34m{\u001b[0m\u001b[48;2;39;40;34m                                                                                    \u001b[0m\u001b[48;2;39;40;34m \u001b[0m\n",
       "\u001b[48;2;39;40;34m \u001b[0m\u001b[38;2;248;248;242;48;2;39;40;34m      \u001b[0m\u001b[38;2;255;70;137;48;2;39;40;34m\"date_time\"\u001b[0m\u001b[38;2;248;248;242;48;2;39;40;34m:\u001b[0m\u001b[38;2;248;248;242;48;2;39;40;34m \u001b[0m\u001b[38;2;230;219;116;48;2;39;40;34m\"ISO8601 timestamp - when measured\"\u001b[0m\u001b[48;2;39;40;34m                                                           \u001b[0m\u001b[48;2;39;40;34m \u001b[0m\n",
       "\u001b[48;2;39;40;34m \u001b[0m\u001b[38;2;248;248;242;48;2;39;40;34m    \u001b[0m\u001b[38;2;248;248;242;48;2;39;40;34m},\u001b[0m\u001b[48;2;39;40;34m                                                                                                           \u001b[0m\u001b[48;2;39;40;34m \u001b[0m\n",
       "\u001b[48;2;39;40;34m \u001b[0m\u001b[38;2;248;248;242;48;2;39;40;34m    \u001b[0m\u001b[38;2;255;70;137;48;2;39;40;34m\"heart_rate\"\u001b[0m\u001b[38;2;248;248;242;48;2;39;40;34m:\u001b[0m\u001b[38;2;248;248;242;48;2;39;40;34m \u001b[0m\u001b[38;2;248;248;242;48;2;39;40;34m{\u001b[0m\u001b[48;2;39;40;34m                                                                                              \u001b[0m\u001b[48;2;39;40;34m \u001b[0m\n",
       "\u001b[48;2;39;40;34m \u001b[0m\u001b[38;2;248;248;242;48;2;39;40;34m      \u001b[0m\u001b[38;2;255;70;137;48;2;39;40;34m\"unit\"\u001b[0m\u001b[38;2;248;248;242;48;2;39;40;34m:\u001b[0m\u001b[38;2;248;248;242;48;2;39;40;34m \u001b[0m\u001b[38;2;230;219;116;48;2;39;40;34m\"beats/min\"\u001b[0m\u001b[38;2;248;248;242;48;2;39;40;34m,\u001b[0m\u001b[48;2;39;40;34m                                                                                       \u001b[0m\u001b[48;2;39;40;34m \u001b[0m\n",
       "\u001b[48;2;39;40;34m \u001b[0m\u001b[38;2;248;248;242;48;2;39;40;34m      \u001b[0m\u001b[38;2;255;70;137;48;2;39;40;34m\"value\"\u001b[0m\u001b[38;2;248;248;242;48;2;39;40;34m:\u001b[0m\u001b[38;2;248;248;242;48;2;39;40;34m \u001b[0m\u001b[38;2;230;219;116;48;2;39;40;34m\"numeric\"\u001b[0m\u001b[48;2;39;40;34m                                                                                         \u001b[0m\u001b[48;2;39;40;34m \u001b[0m\n",
       "\u001b[48;2;39;40;34m \u001b[0m\u001b[38;2;248;248;242;48;2;39;40;34m    \u001b[0m\u001b[38;2;248;248;242;48;2;39;40;34m}\u001b[0m\u001b[48;2;39;40;34m                                                                                                            \u001b[0m\u001b[48;2;39;40;34m \u001b[0m\n",
       "\u001b[48;2;39;40;34m \u001b[0m\u001b[38;2;248;248;242;48;2;39;40;34m  \u001b[0m\u001b[38;2;248;248;242;48;2;39;40;34m}\u001b[0m\u001b[48;2;39;40;34m                                                                                                              \u001b[0m\u001b[48;2;39;40;34m \u001b[0m\n",
       "\u001b[48;2;39;40;34m \u001b[0m\u001b[38;2;248;248;242;48;2;39;40;34m}\u001b[0m\u001b[48;2;39;40;34m                                                                                                                \u001b[0m\u001b[48;2;39;40;34m \u001b[0m\n",
       "\u001b[48;2;39;40;34m                                                                                                                   \u001b[0m\n",
       "\n",
       "\u001b[1mExtraction examples:\u001b[0m                                                                                               \n",
       "\n",
       "\u001b[1;33m • \u001b[0mValue: \u001b[1;36;40m(value_attachment_data->'body'->'heart_rate'->>'value')::numeric\u001b[0m                                         \n",
       "\u001b[1;33m • \u001b[0mTimestamp: \u001b[1;36;40m(value_attachment_data->'body'->'effective_time_frame'->>'date_time')::timestamptz\u001b[0m                   \n",
       "\n",
       "\u001b[1mCommon JSONB queries:\u001b[0m                                                                                              \n",
       "\n",
       "\u001b[1;33m • \u001b[0mGet schema type: value_attachment_data->'header'->'schema_id'->>'name'                                          \n",
       "\u001b[1;33m • \u001b[0mFilter by modality: value_attachment_data->'header'->>'modality' = 'sensed'                                     \n",
       "\u001b[1;33m • \u001b[0mExtract any timestamp: (value_attachment_data->'body'->'effective_time_frame'->>'date_time')::timestamptz       \n",
       "\u001b[1;33m • \u001b[0mCheck if field exists: value_attachment_data->'body' ? 'systolic_blood_pressure'                                \n",
       "\n",
       "                                                 \u001b[1mcore_organization\u001b[0m                                                 \n",
       "\n",
       "Healthcare organizations and institutions                                                                          \n",
       "\n",
       "\u001b[1mColumns:\u001b[0m                                                                                                           \n",
       "\n",
       "\u001b[1;33m • \u001b[0m\u001b[1;36;40mid\u001b[0m (bigint): Organization identifier                                                                            \n",
       "\u001b[1;33m • \u001b[0m\u001b[1;36;40mname\u001b[0m (varchar): Organization name                                                                               \n",
       "\u001b[1;33m • \u001b[0m\u001b[1;36;40mtype\u001b[0m (varchar): prov|edu|crs|laboratory|etc                                                                     \n",
       "\u001b[1;33m • \u001b[0m\u001b[1;36;40mpart_of_id\u001b[0m (bigint): FK to parent organization (nullable)                                                       \n",
       "\n",
       "\u001b[1mRelationships:\u001b[0m                                                                                                     \n",
       "\n",
       "\u001b[1;33m • \u001b[0mHas many Studies                                                                                                \n",
       "\u001b[1;33m • \u001b[0mHas many Practitioners (via core_practitionerorganization M2M)                                                  \n",
       "\u001b[1;33m • \u001b[0mHas many Patients (via core_patientorganization M2M)                                                            \n",
       "\u001b[1;33m • \u001b[0mCan be part of parent Organization (hierarchical)                                                               \n",
       "\n",
       "                                                   \u001b[1mcore_jheuser\u001b[0m                                                    \n",
       "\n",
       "User accounts (practitioners and patients)                                                                         \n",
       "\n",
       "\u001b[1mColumns:\u001b[0m                                                                                                           \n",
       "\n",
       "\u001b[1;33m • \u001b[0m\u001b[1;36;40mid\u001b[0m (bigint): User identifier                                                                                    \n",
       "\u001b[1;33m • \u001b[0m\u001b[1;36;40memail\u001b[0m (varchar): Email address (unique)                                                                         \n",
       "\u001b[1;33m • \u001b[0m\u001b[1;36;40muser_type\u001b[0m (varchar): patient|practitioner                                                                       \n",
       "\u001b[1;33m • \u001b[0m\u001b[1;36;40mis_superuser\u001b[0m (boolean): Admin flag                                                                              \n",
       "\u001b[1;33m • \u001b[0m\u001b[1;36;40mis_staff\u001b[0m (boolean): Staff access flag                                                                           \n",
       "\n",
       "\u001b[1mRelationships:\u001b[0m                                                                                                     \n",
       "\n",
       "\u001b[1;33m • \u001b[0mHas one Patient profile (via patient_profile)                                                                   \n",
       "\u001b[1;33m • \u001b[0mHas one Practitioner profile (via practitioner_profile)                                                         \n",
       "\n",
       "\n",
       "                                                 \u001b[1;4mPermission Model\u001b[0m                                                  \n",
       "\n",
       "JHE Role-Based Access Control                                                                                      \n",
       "\n",
       "\u001b[1mAccess Flow:\u001b[0m User → Practitioner → PractitionerOrganization (with role) → Organization → Study → Patients          \n",
       "\n",
       "\u001b[1mRoles:\u001b[0m                                                                                                             \n",
       "\n",
       "\u001b[1;33m • \u001b[0m\u001b[1;36;40msuper_user\u001b[0m: Full system access (Django superuser)                                                               \n",
       "\u001b[1;33m • \u001b[0m\u001b[1;36;40mmanager\u001b[0m: Manage organization, patients, and studies                                                             \n",
       "\u001b[1;33m • \u001b[0m\u001b[1;36;40mmember\u001b[0m: Manage patients and studies within organization                                                         \n",
       "\u001b[1;33m • \u001b[0m\u001b[1;36;40mviewer\u001b[0m: Read-only access                                                                                        \n",
       "\n",
       "\n",
       "                                               \u001b[1;4mCommon Query Patterns\u001b[0m                                               \n",
       "\n",
       "\u001b[1mBlood pressure observations for a patient:\u001b[0m                                                                         \n",
       "\n",
       "\u001b[48;2;39;40;34m                                                                                                                   \u001b[0m\n",
       "\u001b[48;2;39;40;34m \u001b[0m\u001b[38;2;102;217;239;48;2;39;40;34mSELECT\u001b[0m\u001b[38;2;248;248;242;48;2;39;40;34m \u001b[0m\u001b[48;2;39;40;34m                                                                                                          \u001b[0m\u001b[48;2;39;40;34m \u001b[0m\n",
       "\u001b[48;2;39;40;34m \u001b[0m\u001b[38;2;248;248;242;48;2;39;40;34m  \u001b[0m\u001b[38;2;248;248;242;48;2;39;40;34m(\u001b[0m\u001b[38;2;248;248;242;48;2;39;40;34mvalue_attachment_data\u001b[0m\u001b[38;2;255;70;137;48;2;39;40;34m-\u001b[0m\u001b[38;2;255;70;137;48;2;39;40;34m>\u001b[0m\u001b[38;2;230;219;116;48;2;39;40;34m'body'\u001b[0m\u001b[38;2;255;70;137;48;2;39;40;34m-\u001b[0m\u001b[38;2;255;70;137;48;2;39;40;34m>\u001b[0m\u001b[38;2;230;219;116;48;2;39;40;34m'systolic_blood_pressure'\u001b[0m\u001b[38;2;255;70;137;48;2;39;40;34m-\u001b[0m\u001b[38;2;255;70;137;48;2;39;40;34m>\u001b[0m\u001b[38;2;255;70;137;48;2;39;40;34m>\u001b[0m\u001b[38;2;230;219;116;48;2;39;40;34m'value'\u001b[0m\u001b[38;2;248;248;242;48;2;39;40;34m)\u001b[0m\u001b[38;2;248;248;242;48;2;39;40;34m:\u001b[0m\u001b[38;2;248;248;242;48;2;39;40;34m:\u001b[0m\u001b[38;2;248;248;242;48;2;39;40;34mnumeric\u001b[0m\u001b[38;2;248;248;242;48;2;39;40;34m \u001b[0m\u001b[38;2;102;217;239;48;2;39;40;34mas\u001b[0m\u001b[38;2;248;248;242;48;2;39;40;34m \u001b[0m\u001b[38;2;248;248;242;48;2;39;40;34msystolic\u001b[0m\u001b[38;2;248;248;242;48;2;39;40;34m,\u001b[0m\u001b[48;2;39;40;34m                     \u001b[0m\u001b[48;2;39;40;34m \u001b[0m\n",
       "\u001b[48;2;39;40;34m \u001b[0m\u001b[38;2;248;248;242;48;2;39;40;34m  \u001b[0m\u001b[38;2;248;248;242;48;2;39;40;34m(\u001b[0m\u001b[38;2;248;248;242;48;2;39;40;34mvalue_attachment_data\u001b[0m\u001b[38;2;255;70;137;48;2;39;40;34m-\u001b[0m\u001b[38;2;255;70;137;48;2;39;40;34m>\u001b[0m\u001b[38;2;230;219;116;48;2;39;40;34m'body'\u001b[0m\u001b[38;2;255;70;137;48;2;39;40;34m-\u001b[0m\u001b[38;2;255;70;137;48;2;39;40;34m>\u001b[0m\u001b[38;2;230;219;116;48;2;39;40;34m'diastolic_blood_pressure'\u001b[0m\u001b[38;2;255;70;137;48;2;39;40;34m-\u001b[0m\u001b[38;2;255;70;137;48;2;39;40;34m>\u001b[0m\u001b[38;2;255;70;137;48;2;39;40;34m>\u001b[0m\u001b[38;2;230;219;116;48;2;39;40;34m'value'\u001b[0m\u001b[38;2;248;248;242;48;2;39;40;34m)\u001b[0m\u001b[38;2;248;248;242;48;2;39;40;34m:\u001b[0m\u001b[38;2;248;248;242;48;2;39;40;34m:\u001b[0m\u001b[38;2;248;248;242;48;2;39;40;34mnumeric\u001b[0m\u001b[38;2;248;248;242;48;2;39;40;34m \u001b[0m\u001b[38;2;102;217;239;48;2;39;40;34mas\u001b[0m\u001b[38;2;248;248;242;48;2;39;40;34m \u001b[0m\u001b[38;2;248;248;242;48;2;39;40;34mdiastolic\u001b[0m\u001b[38;2;248;248;242;48;2;39;40;34m,\u001b[0m\u001b[48;2;39;40;34m                   \u001b[0m\u001b[48;2;39;40;34m \u001b[0m\n",
       "\u001b[48;2;39;40;34m \u001b[0m\u001b[38;2;248;248;242;48;2;39;40;34m  \u001b[0m\u001b[38;2;248;248;242;48;2;39;40;34mvalue_attachment_data\u001b[0m\u001b[38;2;255;70;137;48;2;39;40;34m-\u001b[0m\u001b[38;2;255;70;137;48;2;39;40;34m>\u001b[0m\u001b[38;2;230;219;116;48;2;39;40;34m'body'\u001b[0m\u001b[38;2;255;70;137;48;2;39;40;34m-\u001b[0m\u001b[38;2;255;70;137;48;2;39;40;34m>\u001b[0m\u001b[38;2;230;219;116;48;2;39;40;34m'effective_time_frame'\u001b[0m\u001b[38;2;255;70;137;48;2;39;40;34m-\u001b[0m\u001b[38;2;255;70;137;48;2;39;40;34m>\u001b[0m\u001b[38;2;255;70;137;48;2;39;40;34m>\u001b[0m\u001b[38;2;230;219;116;48;2;39;40;34m'date_time'\u001b[0m\u001b[38;2;248;248;242;48;2;39;40;34m \u001b[0m\u001b[38;2;102;217;239;48;2;39;40;34mas\u001b[0m\u001b[38;2;248;248;242;48;2;39;40;34m \u001b[0m\u001b[38;2;102;217;239;48;2;39;40;34mtimestamp\u001b[0m\u001b[48;2;39;40;34m                               \u001b[0m\u001b[48;2;39;40;34m \u001b[0m\n",
       "\u001b[48;2;39;40;34m \u001b[0m\u001b[38;2;102;217;239;48;2;39;40;34mFROM\u001b[0m\u001b[38;2;248;248;242;48;2;39;40;34m \u001b[0m\u001b[38;2;248;248;242;48;2;39;40;34mcore_observation\u001b[0m\u001b[48;2;39;40;34m                                                                                            \u001b[0m\u001b[48;2;39;40;34m \u001b[0m\n",
       "\u001b[48;2;39;40;34m \u001b[0m\u001b[38;2;102;217;239;48;2;39;40;34mWHERE\u001b[0m\u001b[38;2;248;248;242;48;2;39;40;34m \u001b[0m\u001b[38;2;248;248;242;48;2;39;40;34msubject_patient_id\u001b[0m\u001b[38;2;248;248;242;48;2;39;40;34m \u001b[0m\u001b[38;2;255;70;137;48;2;39;40;34m=\u001b[0m\u001b[38;2;248;248;242;48;2;39;40;34m \u001b[0m\u001b[38;2;174;129;255;48;2;39;40;34m40001\u001b[0m\u001b[48;2;39;40;34m                                                                                 \u001b[0m\u001b[48;2;39;40;34m \u001b[0m\n",
       "\u001b[48;2;39;40;34m \u001b[0m\u001b[38;2;248;248;242;48;2;39;40;34m  \u001b[0m\u001b[38;2;102;217;239;48;2;39;40;34mAND\u001b[0m\u001b[38;2;248;248;242;48;2;39;40;34m \u001b[0m\u001b[38;2;248;248;242;48;2;39;40;34mcodeable_concept_id\u001b[0m\u001b[38;2;248;248;242;48;2;39;40;34m \u001b[0m\u001b[38;2;102;217;239;48;2;39;40;34mIN\u001b[0m\u001b[38;2;248;248;242;48;2;39;40;34m \u001b[0m\u001b[38;2;248;248;242;48;2;39;40;34m(\u001b[0m\u001b[48;2;39;40;34m                                                                                   \u001b[0m\u001b[48;2;39;40;34m \u001b[0m\n",
       "\u001b[48;2;39;40;34m \u001b[0m\u001b[38;2;248;248;242;48;2;39;40;34m    \u001b[0m\u001b[38;2;102;217;239;48;2;39;40;34mSELECT\u001b[0m\u001b[38;2;248;248;242;48;2;39;40;34m \u001b[0m\u001b[38;2;248;248;242;48;2;39;40;34mid\u001b[0m\u001b[38;2;248;248;242;48;2;39;40;34m \u001b[0m\u001b[38;2;102;217;239;48;2;39;40;34mFROM\u001b[0m\u001b[38;2;248;248;242;48;2;39;40;34m \u001b[0m\u001b[38;2;248;248;242;48;2;39;40;34mcore_codeableconcept\u001b[0m\u001b[38;2;248;248;242;48;2;39;40;34m \u001b[0m\u001b[38;2;102;217;239;48;2;39;40;34mWHERE\u001b[0m\u001b[38;2;248;248;242;48;2;39;40;34m \u001b[0m\u001b[38;2;248;248;242;48;2;39;40;34mdisplay\u001b[0m\u001b[38;2;248;248;242;48;2;39;40;34m \u001b[0m\u001b[38;2;102;217;239;48;2;39;40;34mLIKE\u001b[0m\u001b[38;2;248;248;242;48;2;39;40;34m \u001b[0m\u001b[38;2;230;219;116;48;2;39;40;34m'%blood pressure%'\u001b[0m\u001b[48;2;39;40;34m                                    \u001b[0m\u001b[48;2;39;40;34m \u001b[0m\n",
       "\u001b[48;2;39;40;34m \u001b[0m\u001b[38;2;248;248;242;48;2;39;40;34m  \u001b[0m\u001b[38;2;248;248;242;48;2;39;40;34m)\u001b[0m\u001b[48;2;39;40;34m                                                                                                              \u001b[0m\u001b[48;2;39;40;34m \u001b[0m\n",
       "\u001b[48;2;39;40;34m \u001b[0m\u001b[38;2;102;217;239;48;2;39;40;34mORDER\u001b[0m\u001b[38;2;248;248;242;48;2;39;40;34m \u001b[0m\u001b[38;2;102;217;239;48;2;39;40;34mBY\u001b[0m\u001b[38;2;248;248;242;48;2;39;40;34m \u001b[0m\u001b[38;2;248;248;242;48;2;39;40;34mlast_updated\u001b[0m\u001b[38;2;248;248;242;48;2;39;40;34m \u001b[0m\u001b[38;2;102;217;239;48;2;39;40;34mDESC\u001b[0m\u001b[38;2;248;248;242;48;2;39;40;34m \u001b[0m\u001b[38;2;102;217;239;48;2;39;40;34mLIMIT\u001b[0m\u001b[38;2;248;248;242;48;2;39;40;34m \u001b[0m\u001b[38;2;174;129;255;48;2;39;40;34m50\u001b[0m\u001b[38;2;248;248;242;48;2;39;40;34m;\u001b[0m\u001b[48;2;39;40;34m                                                                             \u001b[0m\u001b[48;2;39;40;34m \u001b[0m\n",
       "\u001b[48;2;39;40;34m                                                                                                                   \u001b[0m\n",
       "\n",
       "\u001b[1mAggregate by time window:\u001b[0m                                                                                          \n",
       "\n",
       "\u001b[48;2;39;40;34m                                                                                                                   \u001b[0m\n",
       "\u001b[48;2;39;40;34m \u001b[0m\u001b[38;2;102;217;239;48;2;39;40;34mSELECT\u001b[0m\u001b[38;2;248;248;242;48;2;39;40;34m \u001b[0m\u001b[48;2;39;40;34m                                                                                                          \u001b[0m\u001b[48;2;39;40;34m \u001b[0m\n",
       "\u001b[48;2;39;40;34m \u001b[0m\u001b[38;2;248;248;242;48;2;39;40;34m  \u001b[0m\u001b[38;2;248;248;242;48;2;39;40;34mdate_trunc\u001b[0m\u001b[38;2;248;248;242;48;2;39;40;34m(\u001b[0m\u001b[38;2;230;219;116;48;2;39;40;34m'hour'\u001b[0m\u001b[38;2;248;248;242;48;2;39;40;34m,\u001b[0m\u001b[38;2;248;248;242;48;2;39;40;34m \u001b[0m\u001b[38;2;248;248;242;48;2;39;40;34m(\u001b[0m\u001b[38;2;248;248;242;48;2;39;40;34mvalue_attachment_data\u001b[0m\u001b[38;2;255;70;137;48;2;39;40;34m-\u001b[0m\u001b[38;2;255;70;137;48;2;39;40;34m>\u001b[0m\u001b[38;2;230;219;116;48;2;39;40;34m'body'\u001b[0m\u001b[38;2;255;70;137;48;2;39;40;34m-\u001b[0m\u001b[38;2;255;70;137;48;2;39;40;34m>\u001b[0m\u001b[38;2;230;219;116;48;2;39;40;34m'effective_time_frame'\u001b[0m\u001b[38;2;255;70;137;48;2;39;40;34m-\u001b[0m\u001b[38;2;255;70;137;48;2;39;40;34m>\u001b[0m\u001b[38;2;255;70;137;48;2;39;40;34m>\u001b[0m\u001b[38;2;230;219;116;48;2;39;40;34m'date_time'\u001b[0m\u001b[38;2;248;248;242;48;2;39;40;34m)\u001b[0m\u001b[38;2;248;248;242;48;2;39;40;34m:\u001b[0m\u001b[38;2;248;248;242;48;2;39;40;34m:\u001b[0m\u001b[38;2;248;248;242;48;2;39;40;34mtimestamptz\u001b[0m\u001b[38;2;248;248;242;48;2;39;40;34m)\u001b[0m\u001b[38;2;248;248;242;48;2;39;40;34m \u001b[0m\u001b[38;2;102;217;239;48;2;39;40;34mas\u001b[0m\u001b[38;2;248;248;242;48;2;39;40;34m \u001b[0m\u001b[38;2;248;248;242;48;2;39;40;34mhour\u001b[0m\u001b[38;2;248;248;242;48;2;39;40;34m,\u001b[0m\u001b[48;2;39;40;34m \u001b[0m\n",
       "\u001b[48;2;39;40;34m \u001b[0m\u001b[38;2;248;248;242;48;2;39;40;34m  \u001b[0m\u001b[38;2;102;217;239;48;2;39;40;34mAVG\u001b[0m\u001b[38;2;248;248;242;48;2;39;40;34m(\u001b[0m\u001b[38;2;248;248;242;48;2;39;40;34m(\u001b[0m\u001b[38;2;248;248;242;48;2;39;40;34mvalue_attachment_data\u001b[0m\u001b[38;2;255;70;137;48;2;39;40;34m-\u001b[0m\u001b[38;2;255;70;137;48;2;39;40;34m>\u001b[0m\u001b[38;2;230;219;116;48;2;39;40;34m'body'\u001b[0m\u001b[38;2;255;70;137;48;2;39;40;34m-\u001b[0m\u001b[38;2;255;70;137;48;2;39;40;34m>\u001b[0m\u001b[38;2;230;219;116;48;2;39;40;34m'systolic_blood_pressure'\u001b[0m\u001b[38;2;255;70;137;48;2;39;40;34m-\u001b[0m\u001b[38;2;255;70;137;48;2;39;40;34m>\u001b[0m\u001b[38;2;255;70;137;48;2;39;40;34m>\u001b[0m\u001b[38;2;230;219;116;48;2;39;40;34m'value'\u001b[0m\u001b[38;2;248;248;242;48;2;39;40;34m)\u001b[0m\u001b[38;2;248;248;242;48;2;39;40;34m:\u001b[0m\u001b[38;2;248;248;242;48;2;39;40;34m:\u001b[0m\u001b[38;2;248;248;242;48;2;39;40;34mnumeric\u001b[0m\u001b[38;2;248;248;242;48;2;39;40;34m)\u001b[0m\u001b[38;2;248;248;242;48;2;39;40;34m \u001b[0m\u001b[38;2;102;217;239;48;2;39;40;34mas\u001b[0m\u001b[38;2;248;248;242;48;2;39;40;34m \u001b[0m\u001b[38;2;248;248;242;48;2;39;40;34mavg_systolic\u001b[0m\u001b[38;2;248;248;242;48;2;39;40;34m,\u001b[0m\u001b[48;2;39;40;34m            \u001b[0m\u001b[48;2;39;40;34m \u001b[0m\n",
       "\u001b[48;2;39;40;34m \u001b[0m\u001b[38;2;248;248;242;48;2;39;40;34m  \u001b[0m\u001b[38;2;248;248;242;48;2;39;40;34mSTDDEV\u001b[0m\u001b[38;2;248;248;242;48;2;39;40;34m(\u001b[0m\u001b[38;2;248;248;242;48;2;39;40;34m(\u001b[0m\u001b[38;2;248;248;242;48;2;39;40;34mvalue_attachment_data\u001b[0m\u001b[38;2;255;70;137;48;2;39;40;34m-\u001b[0m\u001b[38;2;255;70;137;48;2;39;40;34m>\u001b[0m\u001b[38;2;230;219;116;48;2;39;40;34m'body'\u001b[0m\u001b[38;2;255;70;137;48;2;39;40;34m-\u001b[0m\u001b[38;2;255;70;137;48;2;39;40;34m>\u001b[0m\u001b[38;2;230;219;116;48;2;39;40;34m'systolic_blood_pressure'\u001b[0m\u001b[38;2;255;70;137;48;2;39;40;34m-\u001b[0m\u001b[38;2;255;70;137;48;2;39;40;34m>\u001b[0m\u001b[38;2;255;70;137;48;2;39;40;34m>\u001b[0m\u001b[38;2;230;219;116;48;2;39;40;34m'value'\u001b[0m\u001b[38;2;248;248;242;48;2;39;40;34m)\u001b[0m\u001b[38;2;248;248;242;48;2;39;40;34m:\u001b[0m\u001b[38;2;248;248;242;48;2;39;40;34m:\u001b[0m\u001b[38;2;248;248;242;48;2;39;40;34mnumeric\u001b[0m\u001b[38;2;248;248;242;48;2;39;40;34m)\u001b[0m\u001b[38;2;248;248;242;48;2;39;40;34m \u001b[0m\u001b[38;2;102;217;239;48;2;39;40;34mas\u001b[0m\u001b[38;2;248;248;242;48;2;39;40;34m \u001b[0m\u001b[38;2;248;248;242;48;2;39;40;34mstddev_systolic\u001b[0m\u001b[48;2;39;40;34m       \u001b[0m\u001b[48;2;39;40;34m \u001b[0m\n",
       "\u001b[48;2;39;40;34m \u001b[0m\u001b[38;2;102;217;239;48;2;39;40;34mFROM\u001b[0m\u001b[38;2;248;248;242;48;2;39;40;34m \u001b[0m\u001b[38;2;248;248;242;48;2;39;40;34mcore_observation\u001b[0m\u001b[48;2;39;40;34m                                                                                            \u001b[0m\u001b[48;2;39;40;34m \u001b[0m\n",
       "\u001b[48;2;39;40;34m \u001b[0m\u001b[38;2;102;217;239;48;2;39;40;34mWHERE\u001b[0m\u001b[38;2;248;248;242;48;2;39;40;34m \u001b[0m\u001b[38;2;248;248;242;48;2;39;40;34msubject_patient_id\u001b[0m\u001b[38;2;248;248;242;48;2;39;40;34m \u001b[0m\u001b[38;2;255;70;137;48;2;39;40;34m=\u001b[0m\u001b[38;2;248;248;242;48;2;39;40;34m \u001b[0m\u001b[38;2;174;129;255;48;2;39;40;34m40001\u001b[0m\u001b[48;2;39;40;34m                                                                                 \u001b[0m\u001b[48;2;39;40;34m \u001b[0m\n",
       "\u001b[48;2;39;40;34m \u001b[0m\u001b[38;2;102;217;239;48;2;39;40;34mGROUP\u001b[0m\u001b[38;2;248;248;242;48;2;39;40;34m \u001b[0m\u001b[38;2;102;217;239;48;2;39;40;34mBY\u001b[0m\u001b[38;2;248;248;242;48;2;39;40;34m \u001b[0m\u001b[38;2;248;248;242;48;2;39;40;34mhour\u001b[0m\u001b[48;2;39;40;34m                                                                                                    \u001b[0m\u001b[48;2;39;40;34m \u001b[0m\n",
       "\u001b[48;2;39;40;34m \u001b[0m\u001b[38;2;102;217;239;48;2;39;40;34mORDER\u001b[0m\u001b[38;2;248;248;242;48;2;39;40;34m \u001b[0m\u001b[38;2;102;217;239;48;2;39;40;34mBY\u001b[0m\u001b[38;2;248;248;242;48;2;39;40;34m \u001b[0m\u001b[38;2;248;248;242;48;2;39;40;34mhour\u001b[0m\u001b[38;2;248;248;242;48;2;39;40;34m;\u001b[0m\u001b[48;2;39;40;34m                                                                                                   \u001b[0m\u001b[48;2;39;40;34m \u001b[0m\n",
       "\u001b[48;2;39;40;34m                                                                                                                   \u001b[0m\n",
       "\n",
       "\u001b[1mPatients in a study:\u001b[0m                                                                                               \n",
       "\n",
       "\u001b[48;2;39;40;34m                                                                                                                   \u001b[0m\n",
       "\u001b[48;2;39;40;34m \u001b[0m\u001b[38;2;102;217;239;48;2;39;40;34mSELECT\u001b[0m\u001b[38;2;248;248;242;48;2;39;40;34m \u001b[0m\u001b[38;2;248;248;242;48;2;39;40;34mp\u001b[0m\u001b[38;2;248;248;242;48;2;39;40;34m.\u001b[0m\u001b[38;2;255;70;137;48;2;39;40;34m*\u001b[0m\u001b[38;2;248;248;242;48;2;39;40;34m,\u001b[0m\u001b[38;2;248;248;242;48;2;39;40;34m \u001b[0m\u001b[38;2;248;248;242;48;2;39;40;34ms\u001b[0m\u001b[38;2;248;248;242;48;2;39;40;34m.\u001b[0m\u001b[38;2;248;248;242;48;2;39;40;34mname\u001b[0m\u001b[38;2;248;248;242;48;2;39;40;34m \u001b[0m\u001b[38;2;102;217;239;48;2;39;40;34mas\u001b[0m\u001b[38;2;248;248;242;48;2;39;40;34m \u001b[0m\u001b[38;2;248;248;242;48;2;39;40;34mstudy_name\u001b[0m\u001b[48;2;39;40;34m                                                                                 \u001b[0m\u001b[48;2;39;40;34m \u001b[0m\n",
       "\u001b[48;2;39;40;34m \u001b[0m\u001b[38;2;102;217;239;48;2;39;40;34mFROM\u001b[0m\u001b[38;2;248;248;242;48;2;39;40;34m \u001b[0m\u001b[38;2;248;248;242;48;2;39;40;34mcore_patient\u001b[0m\u001b[38;2;248;248;242;48;2;39;40;34m \u001b[0m\u001b[38;2;248;248;242;48;2;39;40;34mp\u001b[0m\u001b[48;2;39;40;34m                                                                                              \u001b[0m\u001b[48;2;39;40;34m \u001b[0m\n",
       "\u001b[48;2;39;40;34m \u001b[0m\u001b[38;2;102;217;239;48;2;39;40;34mJOIN\u001b[0m\u001b[38;2;248;248;242;48;2;39;40;34m \u001b[0m\u001b[38;2;248;248;242;48;2;39;40;34mcore_studypatient\u001b[0m\u001b[38;2;248;248;242;48;2;39;40;34m \u001b[0m\u001b[38;2;248;248;242;48;2;39;40;34msp\u001b[0m\u001b[38;2;248;248;242;48;2;39;40;34m \u001b[0m\u001b[38;2;102;217;239;48;2;39;40;34mON\u001b[0m\u001b[38;2;248;248;242;48;2;39;40;34m \u001b[0m\u001b[38;2;248;248;242;48;2;39;40;34msp\u001b[0m\u001b[38;2;248;248;242;48;2;39;40;34m.\u001b[0m\u001b[38;2;248;248;242;48;2;39;40;34mpatient_id\u001b[0m\u001b[38;2;248;248;242;48;2;39;40;34m \u001b[0m\u001b[38;2;255;70;137;48;2;39;40;34m=\u001b[0m\u001b[38;2;248;248;242;48;2;39;40;34m \u001b[0m\u001b[38;2;248;248;242;48;2;39;40;34mp\u001b[0m\u001b[38;2;248;248;242;48;2;39;40;34m.\u001b[0m\u001b[38;2;248;248;242;48;2;39;40;34mid\u001b[0m\u001b[48;2;39;40;34m                                                                \u001b[0m\u001b[48;2;39;40;34m \u001b[0m\n",
       "\u001b[48;2;39;40;34m \u001b[0m\u001b[38;2;102;217;239;48;2;39;40;34mJOIN\u001b[0m\u001b[38;2;248;248;242;48;2;39;40;34m \u001b[0m\u001b[38;2;248;248;242;48;2;39;40;34mcore_study\u001b[0m\u001b[38;2;248;248;242;48;2;39;40;34m \u001b[0m\u001b[38;2;248;248;242;48;2;39;40;34ms\u001b[0m\u001b[38;2;248;248;242;48;2;39;40;34m \u001b[0m\u001b[38;2;102;217;239;48;2;39;40;34mON\u001b[0m\u001b[38;2;248;248;242;48;2;39;40;34m \u001b[0m\u001b[38;2;248;248;242;48;2;39;40;34ms\u001b[0m\u001b[38;2;248;248;242;48;2;39;40;34m.\u001b[0m\u001b[38;2;248;248;242;48;2;39;40;34mid\u001b[0m\u001b[38;2;248;248;242;48;2;39;40;34m \u001b[0m\u001b[38;2;255;70;137;48;2;39;40;34m=\u001b[0m\u001b[38;2;248;248;242;48;2;39;40;34m \u001b[0m\u001b[38;2;248;248;242;48;2;39;40;34msp\u001b[0m\u001b[38;2;248;248;242;48;2;39;40;34m.\u001b[0m\u001b[38;2;248;248;242;48;2;39;40;34mstudy_id\u001b[0m\u001b[48;2;39;40;34m                                                                          \u001b[0m\u001b[48;2;39;40;34m \u001b[0m\n",
       "\u001b[48;2;39;40;34m \u001b[0m\u001b[38;2;102;217;239;48;2;39;40;34mWHERE\u001b[0m\u001b[38;2;248;248;242;48;2;39;40;34m \u001b[0m\u001b[38;2;248;248;242;48;2;39;40;34msp\u001b[0m\u001b[38;2;248;248;242;48;2;39;40;34m.\u001b[0m\u001b[38;2;248;248;242;48;2;39;40;34mstudy_id\u001b[0m\u001b[38;2;248;248;242;48;2;39;40;34m \u001b[0m\u001b[38;2;255;70;137;48;2;39;40;34m=\u001b[0m\u001b[38;2;248;248;242;48;2;39;40;34m \u001b[0m\u001b[38;2;174;129;255;48;2;39;40;34m30001\u001b[0m\u001b[38;2;248;248;242;48;2;39;40;34m;\u001b[0m\u001b[48;2;39;40;34m                                                                                       \u001b[0m\u001b[48;2;39;40;34m \u001b[0m\n",
       "\u001b[48;2;39;40;34m                                                                                                                   \u001b[0m\n"
      ]
     },
     "metadata": {},
     "output_type": "display_data"
    },
    {
     "data": {
      "text/html": [
       "<pre style=\"white-space:pre;overflow-x:auto;line-height:normal;font-family:Menlo,'DejaVu Sans Mono',consolas,'Courier New',monospace\">\n",
       "<span style=\"color: #008000; text-decoration-color: #008000\">✓ Schema exploration complete</span>\n",
       "</pre>\n"
      ],
      "text/plain": [
       "\n",
       "\u001b[32m✓ Schema exploration complete\u001b[0m\n"
      ]
     },
     "metadata": {},
     "output_type": "display_data"
    },
    {
     "data": {
      "text/html": [
       "<pre style=\"white-space:pre;overflow-x:auto;line-height:normal;font-family:Menlo,'DejaVu Sans Mono',consolas,'Courier New',monospace\"><span style=\"color: #7f7f7f; text-decoration-color: #7f7f7f\">Tip: The LLM can use this schema information with example SQL queries to construct accurate queries</span>\n",
       "</pre>\n"
      ],
      "text/plain": [
       "\u001b[2mTip: The LLM can use this schema information with example SQL queries to construct accurate queries\u001b[0m\n"
      ]
     },
     "metadata": {},
     "output_type": "display_data"
    }
   ],
   "source": [
    "# Cell 5: Explore Database Schema\n",
    "# Before running queries, let's understand the database structure using the `get_database_schema` tool.\n",
    "\n",
    "from rich import print as rprint\n",
    "from rich.markdown import Markdown\n",
    "\n",
    "rprint(Panel(\"[bold]Fetching Database Schema[/bold]\", expand=False))\n",
    "\n",
    "# Get the full database schema (returns formatted markdown text, not JSON)\n",
    "schema_result = await call_mcp_tool(\"get_database_schema\")\n",
    "\n",
    "if schema_result:\n",
    "    # Display the schema - render markdown nicely in Jupyter\n",
    "    rprint(\"\\n[bold cyan]Database Schema:[/bold cyan]\\n\")\n",
    "    \n",
    "    # Render markdown with Rich\n",
    "    md = Markdown(schema_result)\n",
    "    rprint(md)\n",
    "    \n",
    "    rprint(\"\\n[green]✓ Schema exploration complete[/green]\")\n",
    "    rprint(\"[dim]Tip: The LLM can use this schema information with example SQL queries to construct accurate queries[/dim]\")\n",
    "else:\n",
    "    rprint(\"[red]✗ Failed to retrieve database schema[/red]\")\n"
   ]
  },
  {
   "cell_type": "markdown",
   "metadata": {},
   "source": [
    "## Cell 6: MCP Tool to OpenAI Function Conversion\n",
    "\n",
    "Convert MCP tool definitions to OpenAI function calling format."
   ]
  },
  {
   "cell_type": "code",
   "execution_count": 6,
   "metadata": {},
   "outputs": [
    {
     "data": {
      "text/html": [
       "<pre style=\"white-space:pre;overflow-x:auto;line-height:normal;font-family:Menlo,'DejaVu Sans Mono',consolas,'Courier New',monospace\"><span style=\"color: #008000; text-decoration-color: #008000\">✓ Converted </span><span style=\"color: #008000; text-decoration-color: #008000; font-weight: bold\">7</span><span style=\"color: #008000; text-decoration-color: #008000\"> MCP tools to OpenAI function format</span>\n",
       "</pre>\n"
      ],
      "text/plain": [
       "\u001b[32m✓ Converted \u001b[0m\u001b[1;32m7\u001b[0m\u001b[32m MCP tools to OpenAI function format\u001b[0m\n"
      ]
     },
     "metadata": {},
     "output_type": "display_data"
    },
    {
     "data": {
      "text/html": [
       "<pre style=\"white-space:pre;overflow-x:auto;line-height:normal;font-family:Menlo,'DejaVu Sans Mono',consolas,'Courier New',monospace\">\n",
       "<span style=\"font-weight: bold\">Example OpenAI Function Definition:</span>\n",
       "</pre>\n"
      ],
      "text/plain": [
       "\n",
       "\u001b[1mExample OpenAI Function Definition:\u001b[0m\n"
      ]
     },
     "metadata": {},
     "output_type": "display_data"
    },
    {
     "data": {
      "text/html": [
       "<pre style=\"white-space:pre;overflow-x:auto;line-height:normal;font-family:Menlo,'DejaVu Sans Mono',consolas,'Courier New',monospace\"><span style=\"font-weight: bold\">{</span>\n",
       "  <span style=\"color: #000080; text-decoration-color: #000080; font-weight: bold\">\"type\"</span>: <span style=\"color: #008000; text-decoration-color: #008000\">\"function\"</span>,\n",
       "  <span style=\"color: #000080; text-decoration-color: #000080; font-weight: bold\">\"function\"</span>: <span style=\"font-weight: bold\">{</span>\n",
       "    <span style=\"color: #000080; text-decoration-color: #000080; font-weight: bold\">\"name\"</span>: <span style=\"color: #008000; text-decoration-color: #008000\">\"get_study_count\"</span>,\n",
       "    <span style=\"color: #000080; text-decoration-color: #000080; font-weight: bold\">\"description\"</span>: <span style=\"color: #008000; text-decoration-color: #008000\">\"Count total studies accessible to the authenticated user based on their role and organization </span>\n",
       "<span style=\"color: #008000; text-decoration-color: #008000\">permissions\"</span>,\n",
       "    <span style=\"color: #000080; text-decoration-color: #000080; font-weight: bold\">\"parameters\"</span>: <span style=\"font-weight: bold\">{</span>\n",
       "      <span style=\"color: #000080; text-decoration-color: #000080; font-weight: bold\">\"type\"</span>: <span style=\"color: #008000; text-decoration-color: #008000\">\"object\"</span>,\n",
       "      <span style=\"color: #000080; text-decoration-color: #000080; font-weight: bold\">\"properties\"</span>: <span style=\"font-weight: bold\">{}</span>,\n",
       "      <span style=\"color: #000080; text-decoration-color: #000080; font-weight: bold\">\"required\"</span>: <span style=\"font-weight: bold\">[]</span>\n",
       "    <span style=\"font-weight: bold\">}</span>\n",
       "  <span style=\"font-weight: bold\">}</span>\n",
       "<span style=\"font-weight: bold\">}</span>\n",
       "</pre>\n"
      ],
      "text/plain": [
       "\u001b[1m{\u001b[0m\n",
       "  \u001b[1;34m\"type\"\u001b[0m: \u001b[32m\"function\"\u001b[0m,\n",
       "  \u001b[1;34m\"function\"\u001b[0m: \u001b[1m{\u001b[0m\n",
       "    \u001b[1;34m\"name\"\u001b[0m: \u001b[32m\"get_study_count\"\u001b[0m,\n",
       "    \u001b[1;34m\"description\"\u001b[0m: \u001b[32m\"Count total studies accessible to the authenticated user based on their role and organization \u001b[0m\n",
       "\u001b[32mpermissions\"\u001b[0m,\n",
       "    \u001b[1;34m\"parameters\"\u001b[0m: \u001b[1m{\u001b[0m\n",
       "      \u001b[1;34m\"type\"\u001b[0m: \u001b[32m\"object\"\u001b[0m,\n",
       "      \u001b[1;34m\"properties\"\u001b[0m: \u001b[1m{\u001b[0m\u001b[1m}\u001b[0m,\n",
       "      \u001b[1;34m\"required\"\u001b[0m: \u001b[1m[\u001b[0m\u001b[1m]\u001b[0m\n",
       "    \u001b[1m}\u001b[0m\n",
       "  \u001b[1m}\u001b[0m\n",
       "\u001b[1m}\u001b[0m\n"
      ]
     },
     "metadata": {},
     "output_type": "display_data"
    }
   ],
   "source": [
    "def mcp_tool_to_openai_function(tool) -> Dict[str, Any]:\n",
    "    \"\"\"Convert an MCP tool to OpenAI function calling format\"\"\"\n",
    "    return {\n",
    "        \"type\": \"function\",\n",
    "        \"function\": {\n",
    "            \"name\": tool.name,\n",
    "            \"description\": tool.description,\n",
    "            \"parameters\": tool.inputSchema\n",
    "        }\n",
    "    }\n",
    "\n",
    "# Convert all MCP tools to OpenAI format\n",
    "openai_tools = [mcp_tool_to_openai_function(tool) for tool in mcp_tools]\n",
    "\n",
    "console.print(f\"[green]✓ Converted {len(openai_tools)} MCP tools to OpenAI function format[/green]\")\n",
    "\n",
    "# Display one example\n",
    "console.print(\"\\n[bold]Example OpenAI Function Definition:[/bold]\")\n",
    "console.print(JSON(json.dumps(openai_tools[0], indent=2)))"
   ]
  },
  {
   "cell_type": "markdown",
   "metadata": {},
   "source": [
    "## Cell 7: LLM + MCP Integration Function\n",
    "\n",
    "Create a function that handles the full LLM → MCP tool calling → response flow."
   ]
  },
  {
   "cell_type": "code",
   "execution_count": 7,
   "metadata": {},
   "outputs": [
    {
     "data": {
      "text/html": [
       "<pre style=\"white-space:pre;overflow-x:auto;line-height:normal;font-family:Menlo,'DejaVu Sans Mono',consolas,'Courier New',monospace\"><span style=\"color: #008000; text-decoration-color: #008000\">✓ LLM integration function ready</span>\n",
       "</pre>\n"
      ],
      "text/plain": [
       "\u001b[32m✓ LLM integration function ready\u001b[0m\n"
      ]
     },
     "metadata": {},
     "output_type": "display_data"
    }
   ],
   "source": [
    "async def query_with_llm(user_query: str, max_iterations: int = 5) -> str:\n",
    "    \"\"\"\n",
    "    Send a query to the LLM with access to MCP tools.\n",
    "    The LLM can make function calls to retrieve health data.\n",
    "    \n",
    "    Args:\n",
    "        user_query: Natural language query from the user\n",
    "        max_iterations: Maximum number of tool calls to allow\n",
    "        \n",
    "    Returns:\n",
    "        Final response from the LLM\n",
    "    \"\"\"\n",
    "    console.print(Panel(f\"[bold cyan]User Query:[/bold cyan] {user_query}\", expand=False))\n",
    "    \n",
    "    # Initialize conversation with user query\n",
    "    messages = [\n",
    "        {\n",
    "            \"role\": \"system\",\n",
    "            \"content\": \"You are a helpful assistant with access to a JupyterHealth Exchange database. \"\n",
    "                      \"Use the available tools to answer questions about health data. \"\n",
    "                      \"When you need database schema information, call get_database_schema first. \"\n",
    "                      \"For complex queries, use execute_filtered_query with proper SQL.\"\n",
    "        },\n",
    "        {\"role\": \"user\", \"content\": user_query}\n",
    "    ]\n",
    "    \n",
    "    iteration = 0\n",
    "    \n",
    "    while iteration < max_iterations:\n",
    "        iteration += 1\n",
    "        console.print(f\"\\n[dim]→ LLM iteration {iteration}/{max_iterations}[/dim]\")\n",
    "        \n",
    "        # Call LLM with tools\n",
    "        response = llm_client.chat.completions.create(\n",
    "            model=NRP_MODEL,\n",
    "            messages=messages,\n",
    "            tools=openai_tools,\n",
    "            tool_choice=\"auto\"\n",
    "        )\n",
    "        \n",
    "        assistant_message = response.choices[0].message\n",
    "        messages.append(assistant_message)\n",
    "        \n",
    "        # Check if LLM wants to call a tool\n",
    "        if assistant_message.tool_calls:\n",
    "            console.print(f\"[yellow]LLM requested {len(assistant_message.tool_calls)} tool call(s)[/yellow]\")\n",
    "            \n",
    "            # Execute each tool call\n",
    "            for tool_call in assistant_message.tool_calls:\n",
    "                tool_name = tool_call.function.name\n",
    "                tool_args = json.loads(tool_call.function.arguments)\n",
    "                \n",
    "                console.print(f\"  [cyan]→ Calling: {tool_name}[/cyan]\")\n",
    "                \n",
    "                # Call the MCP tool\n",
    "                tool_result = await call_mcp_tool(tool_name, tool_args)\n",
    "                \n",
    "                # Add tool result to conversation\n",
    "                messages.append({\n",
    "                    \"role\": \"tool\",\n",
    "                    \"tool_call_id\": tool_call.id,\n",
    "                    \"content\": tool_result or \"Error: Tool call failed\"\n",
    "                })\n",
    "        else:\n",
    "            # LLM has finished - return final response\n",
    "            final_response = assistant_message.content\n",
    "            console.print(\"\\n[green]✓ LLM completed response[/green]\")\n",
    "            return final_response\n",
    "    \n",
    "    return \"Maximum iterations reached. The query may be too complex.\"\n",
    "\n",
    "console.print(\"[green]✓ LLM integration function ready[/green]\")"
   ]
  },
  {
   "cell_type": "markdown",
   "metadata": {},
   "source": [
    "## Cell 8: Simple Query Example\n",
    "\n",
    "Test the integration with a simple query."
   ]
  },
  {
   "cell_type": "code",
   "execution_count": 8,
   "metadata": {},
   "outputs": [
    {
     "data": {
      "text/html": [
       "<pre style=\"white-space:pre;overflow-x:auto;line-height:normal;font-family:Menlo,'DejaVu Sans Mono',consolas,'Courier New',monospace\">╭─────────────────────────────────────────────────╮\n",
       "│ <span style=\"color: #008080; text-decoration-color: #008080; font-weight: bold\">User Query:</span> How many studies are in the system? │\n",
       "╰─────────────────────────────────────────────────╯\n",
       "</pre>\n"
      ],
      "text/plain": [
       "╭─────────────────────────────────────────────────╮\n",
       "│ \u001b[1;36mUser Query:\u001b[0m How many studies are in the system? │\n",
       "╰─────────────────────────────────────────────────╯\n"
      ]
     },
     "metadata": {},
     "output_type": "display_data"
    },
    {
     "data": {
      "text/html": [
       "<pre style=\"white-space:pre;overflow-x:auto;line-height:normal;font-family:Menlo,'DejaVu Sans Mono',consolas,'Courier New',monospace\">\n",
       "<span style=\"color: #7f7f7f; text-decoration-color: #7f7f7f\">→ LLM iteration </span><span style=\"color: #7fbfbf; text-decoration-color: #7fbfbf; font-weight: bold\">1</span><span style=\"color: #7f7f7f; text-decoration-color: #7f7f7f\">/</span><span style=\"color: #7fbfbf; text-decoration-color: #7fbfbf; font-weight: bold\">5</span>\n",
       "</pre>\n"
      ],
      "text/plain": [
       "\n",
       "\u001b[2m→ LLM iteration \u001b[0m\u001b[1;2;36m1\u001b[0m\u001b[2m/\u001b[0m\u001b[1;2;36m5\u001b[0m\n"
      ]
     },
     "metadata": {},
     "output_type": "display_data"
    },
    {
     "data": {
      "text/html": [
       "<pre style=\"white-space:pre;overflow-x:auto;line-height:normal;font-family:Menlo,'DejaVu Sans Mono',consolas,'Courier New',monospace\"><span style=\"color: #808000; text-decoration-color: #808000\">LLM requested </span><span style=\"color: #808000; text-decoration-color: #808000; font-weight: bold\">1</span><span style=\"color: #808000; text-decoration-color: #808000\"> tool </span><span style=\"color: #808000; text-decoration-color: #808000; font-weight: bold\">call(</span><span style=\"color: #808000; text-decoration-color: #808000\">s</span><span style=\"color: #808000; text-decoration-color: #808000; font-weight: bold\">)</span>\n",
       "</pre>\n"
      ],
      "text/plain": [
       "\u001b[33mLLM requested \u001b[0m\u001b[1;33m1\u001b[0m\u001b[33m tool \u001b[0m\u001b[1;33mcall\u001b[0m\u001b[1;33m(\u001b[0m\u001b[33ms\u001b[0m\u001b[1;33m)\u001b[0m\n"
      ]
     },
     "metadata": {},
     "output_type": "display_data"
    },
    {
     "data": {
      "text/html": [
       "<pre style=\"white-space:pre;overflow-x:auto;line-height:normal;font-family:Menlo,'DejaVu Sans Mono',consolas,'Courier New',monospace\">  <span style=\"color: #008080; text-decoration-color: #008080\">→ Calling: get_study_count</span>\n",
       "</pre>\n"
      ],
      "text/plain": [
       "  \u001b[36m→ Calling: get_study_count\u001b[0m\n"
      ]
     },
     "metadata": {},
     "output_type": "display_data"
    },
    {
     "data": {
      "text/html": [
       "<pre style=\"white-space:pre;overflow-x:auto;line-height:normal;font-family:Menlo,'DejaVu Sans Mono',consolas,'Courier New',monospace\"><span style=\"color: #008080; text-decoration-color: #008080\">Calling MCP tool: get_study_count</span>\n",
       "</pre>\n"
      ],
      "text/plain": [
       "\u001b[36mCalling MCP tool: get_study_count\u001b[0m\n"
      ]
     },
     "metadata": {},
     "output_type": "display_data"
    },
    {
     "data": {
      "text/html": [
       "<pre style=\"white-space:pre;overflow-x:auto;line-height:normal;font-family:Menlo,'DejaVu Sans Mono',consolas,'Courier New',monospace\"><span style=\"color: #008000; text-decoration-color: #008000\">✓ Tool call successful</span>\n",
       "\n",
       "</pre>\n"
      ],
      "text/plain": [
       "\u001b[32m✓ Tool call successful\u001b[0m\n",
       "\n"
      ]
     },
     "metadata": {},
     "output_type": "display_data"
    },
    {
     "data": {
      "text/html": [
       "<pre style=\"white-space:pre;overflow-x:auto;line-height:normal;font-family:Menlo,'DejaVu Sans Mono',consolas,'Courier New',monospace\">\n",
       "<span style=\"color: #7f7f7f; text-decoration-color: #7f7f7f\">→ LLM iteration </span><span style=\"color: #7fbfbf; text-decoration-color: #7fbfbf; font-weight: bold\">2</span><span style=\"color: #7f7f7f; text-decoration-color: #7f7f7f\">/</span><span style=\"color: #7fbfbf; text-decoration-color: #7fbfbf; font-weight: bold\">5</span>\n",
       "</pre>\n"
      ],
      "text/plain": [
       "\n",
       "\u001b[2m→ LLM iteration \u001b[0m\u001b[1;2;36m2\u001b[0m\u001b[2m/\u001b[0m\u001b[1;2;36m5\u001b[0m\n"
      ]
     },
     "metadata": {},
     "output_type": "display_data"
    },
    {
     "data": {
      "text/html": [
       "<pre style=\"white-space:pre;overflow-x:auto;line-height:normal;font-family:Menlo,'DejaVu Sans Mono',consolas,'Courier New',monospace\">\n",
       "<span style=\"color: #008000; text-decoration-color: #008000\">✓ LLM completed response</span>\n",
       "</pre>\n"
      ],
      "text/plain": [
       "\n",
       "\u001b[32m✓ LLM completed response\u001b[0m\n"
      ]
     },
     "metadata": {},
     "output_type": "display_data"
    },
    {
     "data": {
      "text/html": [
       "<pre style=\"white-space:pre;overflow-x:auto;line-height:normal;font-family:Menlo,'DejaVu Sans Mono',consolas,'Courier New',monospace\">\n",
       "============================================================\n",
       "</pre>\n"
      ],
      "text/plain": [
       "\n",
       "============================================================\n"
      ]
     },
     "metadata": {},
     "output_type": "display_data"
    },
    {
     "data": {
      "text/html": [
       "<pre style=\"white-space:pre;overflow-x:auto;line-height:normal;font-family:Menlo,'DejaVu Sans Mono',consolas,'Courier New',monospace\"><span style=\"color: #008000; text-decoration-color: #008000\">╭──────────────────────────────────────────────── </span><span style=\"color: #008000; text-decoration-color: #008000; font-weight: bold\">Final Response</span><span style=\"color: #008000; text-decoration-color: #008000\"> ─────────────────────────────────────────────────╮</span>\n",
       "<span style=\"color: #008000; text-decoration-color: #008000\">│</span>                                                                                                                 <span style=\"color: #008000; text-decoration-color: #008000\">│</span>\n",
       "<span style=\"color: #008000; text-decoration-color: #008000\">│</span>                                                                                                                 <span style=\"color: #008000; text-decoration-color: #008000\">│</span>\n",
       "<span style=\"color: #008000; text-decoration-color: #008000\">│</span> The system contains **3 studies** that you have access to.                                                      <span style=\"color: #008000; text-decoration-color: #008000\">│</span>\n",
       "<span style=\"color: #008000; text-decoration-color: #008000\">╰─────────────────────────────────────────────────────────────────────────────────────────────────────────────────╯</span>\n",
       "</pre>\n"
      ],
      "text/plain": [
       "\u001b[32m╭─\u001b[0m\u001b[32m───────────────────────────────────────────────\u001b[0m\u001b[32m \u001b[0m\u001b[1;32mFinal Response\u001b[0m\u001b[32m \u001b[0m\u001b[32m────────────────────────────────────────────────\u001b[0m\u001b[32m─╮\u001b[0m\n",
       "\u001b[32m│\u001b[0m                                                                                                                 \u001b[32m│\u001b[0m\n",
       "\u001b[32m│\u001b[0m                                                                                                                 \u001b[32m│\u001b[0m\n",
       "\u001b[32m│\u001b[0m The system contains **3 studies** that you have access to.                                                      \u001b[32m│\u001b[0m\n",
       "\u001b[32m╰─────────────────────────────────────────────────────────────────────────────────────────────────────────────────╯\u001b[0m\n"
      ]
     },
     "metadata": {},
     "output_type": "display_data"
    }
   ],
   "source": [
    "# Simple query\n",
    "query = \"How many studies are in the system?\"\n",
    "\n",
    "response = await query_with_llm(query)\n",
    "\n",
    "console.print(\"\\n\" + \"=\"*60)\n",
    "console.print(Panel(response, title=\"[bold green]Final Response[/bold green]\", border_style=\"green\"))"
   ]
  },
  {
   "cell_type": "markdown",
   "metadata": {},
   "source": [
    "## Cell 9: Complex Health Data Query\n",
    "\n",
    "Query blood pressure data with filtering and aggregation using LLM."
   ]
  },
  {
   "cell_type": "code",
   "execution_count": 10,
   "metadata": {},
   "outputs": [
    {
     "data": {
      "text/html": [
       "<pre style=\"white-space:pre;overflow-x:auto;line-height:normal;font-family:Menlo,'DejaVu Sans Mono',consolas,'Courier New',monospace\">╭──────────────────────────────────────────────────╮\n",
       "│ <span style=\"font-weight: bold\">Complex Blood Pressure Query with Schema Context</span> │\n",
       "╰──────────────────────────────────────────────────╯\n",
       "</pre>\n"
      ],
      "text/plain": [
       "╭──────────────────────────────────────────────────╮\n",
       "│ \u001b[1mComplex Blood Pressure Query with Schema Context\u001b[0m │\n",
       "╰──────────────────────────────────────────────────╯\n"
      ]
     },
     "metadata": {},
     "output_type": "display_data"
    },
    {
     "data": {
      "text/html": [
       "<pre style=\"white-space:pre;overflow-x:auto;line-height:normal;font-family:Menlo,'DejaVu Sans Mono',consolas,'Courier New',monospace\"><span style=\"color: #008080; text-decoration-color: #008080\">Step </span><span style=\"color: #008080; text-decoration-color: #008080; font-weight: bold\">1</span><span style=\"color: #008080; text-decoration-color: #008080\">: Fetching database schema...</span>\n",
       "</pre>\n"
      ],
      "text/plain": [
       "\u001b[36mStep \u001b[0m\u001b[1;36m1\u001b[0m\u001b[36m: Fetching database schema\u001b[0m\u001b[36m...\u001b[0m\n"
      ]
     },
     "metadata": {},
     "output_type": "display_data"
    },
    {
     "data": {
      "text/html": [
       "<pre style=\"white-space:pre;overflow-x:auto;line-height:normal;font-family:Menlo,'DejaVu Sans Mono',consolas,'Courier New',monospace\"><span style=\"color: #008080; text-decoration-color: #008080\">Calling MCP tool: get_database_schema</span>\n",
       "</pre>\n"
      ],
      "text/plain": [
       "\u001b[36mCalling MCP tool: get_database_schema\u001b[0m\n"
      ]
     },
     "metadata": {},
     "output_type": "display_data"
    },
    {
     "data": {
      "text/html": [
       "<pre style=\"white-space:pre;overflow-x:auto;line-height:normal;font-family:Menlo,'DejaVu Sans Mono',consolas,'Courier New',monospace\"><span style=\"color: #008000; text-decoration-color: #008000\">✓ Tool call successful</span>\n",
       "\n",
       "</pre>\n"
      ],
      "text/plain": [
       "\u001b[32m✓ Tool call successful\u001b[0m\n",
       "\n"
      ]
     },
     "metadata": {},
     "output_type": "display_data"
    },
    {
     "data": {
      "text/html": [
       "<pre style=\"white-space:pre;overflow-x:auto;line-height:normal;font-family:Menlo,'DejaVu Sans Mono',consolas,'Courier New',monospace\"><span style=\"color: #008000; text-decoration-color: #008000\">✓ Schema fetched successfully</span>\n",
       "</pre>\n"
      ],
      "text/plain": [
       "\u001b[32m✓ Schema fetched successfully\u001b[0m\n"
      ]
     },
     "metadata": {},
     "output_type": "display_data"
    },
    {
     "data": {
      "text/html": [
       "<pre style=\"white-space:pre;overflow-x:auto;line-height:normal;font-family:Menlo,'DejaVu Sans Mono',consolas,'Courier New',monospace\">\n",
       "<span style=\"color: #008080; text-decoration-color: #008080\">Step </span><span style=\"color: #008080; text-decoration-color: #008080; font-weight: bold\">2</span><span style=\"color: #008080; text-decoration-color: #008080\">: Asking LLM to query blood pressure data...</span>\n",
       "</pre>\n"
      ],
      "text/plain": [
       "\n",
       "\u001b[36mStep \u001b[0m\u001b[1;36m2\u001b[0m\u001b[36m: Asking LLM to query blood pressure data\u001b[0m\u001b[36m...\u001b[0m\n"
      ]
     },
     "metadata": {},
     "output_type": "display_data"
    },
    {
     "data": {
      "text/html": [
       "<pre style=\"white-space:pre;overflow-x:auto;line-height:normal;font-family:Menlo,'DejaVu Sans Mono',consolas,'Courier New',monospace\">╭─────────────────────────────────────────────────────────────────────────────────────────────────────────────────╮\n",
       "│ <span style=\"color: #008080; text-decoration-color: #008080; font-weight: bold\">User Query:</span> I have access to a database with this schema:                                                       │\n",
       "│                                                                                                                 │\n",
       "│ # JupyterHealth Exchange Database Schema                                                                        │\n",
       "│                                                                                                                 │\n",
       "│ ## Core Tables                                                                                                  │\n",
       "│                                                                                                                 │\n",
       "│                                                                                                                 │\n",
       "│ ### core_study                                                                                                  │\n",
       "│ Clinical research studies                                                                                       │\n",
       "│                                                                                                                 │\n",
       "│ **Columns:**                                                                                                    │\n",
       "│   - `id` (bigint): Study identifier (primary key)                                                               │\n",
       "│   - `name` (varchar): Study name                                                                                │\n",
       "│   - `description` (text): Study description                                                                     │\n",
       "│   - `organization_id` (bigint): FK to core_organization                                                         │\n",
       "│   - `icon_url` (text): Optional study icon URL                                                                  │\n",
       "│                                                                                                                 │\n",
       "│ **Relationships:**                                                                                              │\n",
       "│   - Belongs to one Organization (via organization_id)                                                           │\n",
       "│   - Has many Patients (via core_studypatient M2M table)                                                         │\n",
       "│   - Has many scope requests (via core_studyscoperequest)                                                        │\n",
       "│                                                                                                                 │\n",
       "│                                                                                                                 │\n",
       "│ ### core_patient                                                                                                │\n",
       "│ Patient records with demographics                                                                               │\n",
       "│                                                                                                                 │\n",
       "│ **Columns:**                                                                                                    │\n",
       "│   - `id` (bigint): Patient identifier                                                                           │\n",
       "│   - `jhe_user_id` (bigint): FK to core_jheuser                                                                  │\n",
       "│   - `identifier` (varchar): External patient ID                                                                 │\n",
       "│   - `name_family` (varchar): Family name                                                                        │\n",
       "│   - `name_given` (varchar): Given name                                                                          │\n",
       "│   - `birth_date` (date): Date of birth                                                                          │\n",
       "│   - `telecom_phone` (varchar): Phone number                                                                     │\n",
       "│   - `last_updated` (timestamptz): Last update timestamp                                                         │\n",
       "│                                                                                                                 │\n",
       "│ **Relationships:**                                                                                              │\n",
       "│   - Has one JheUser (via jhe_user_id)                                                                           │\n",
       "│   - Belongs to many Organizations (via core_patientorganization M2M)                                            │\n",
       "│   - Enrolled in many Studies (via core_studypatient M2M)                                                        │\n",
       "│   - Has many Observations (subject_patient_id)                                                                  │\n",
       "│                                                                                                                 │\n",
       "│                                                                                                                 │\n",
       "│ ### core_observation                                                                                            │\n",
       "│ Health observations in FHIR format with OMH data                                                                │\n",
       "│                                                                                                                 │\n",
       "│ **Columns:**                                                                                                    │\n",
       "│   - `id` (bigint): Observation identifier                                                                       │\n",
       "│   - `subject_patient_id` (bigint): FK to core_patient                                                           │\n",
       "│   - `codeable_concept_id` (bigint): FK to core_codeableconcept (LOINC/OMH code)                                 │\n",
       "│   - `data_source_id` (bigint): FK to core_datasource (device)                                                   │\n",
       "│   - `value_attachment_data` (jsonb): OMH data payload (base64 in FHIR)                                          │\n",
       "│   - `status` (varchar): final|preliminary|amended|etc                                                           │\n",
       "│   - `last_updated` (timestamptz): Last update timestamp                                                         │\n",
       "│                                                                                                                 │\n",
       "│ **Relationships:**                                                                                              │\n",
       "│   - Belongs to one Patient (via subject_patient_id)                                                             │\n",
       "│   - Has one CodeableConcept (via codeable_concept_id)                                                           │\n",
       "│   - Generated by one DataSource/Device (via data_source_id)                                                     │\n",
       "│                                                                                                                 │\n",
       "│ *Note: Observations store health data in Open mHealth format within FHIR Observation.valueAttachment*           │\n",
       "│                                                                                                                 │\n",
       "│ **JSONB Data Structures:**                                                                                      │\n",
       "│                                                                                                                 │\n",
       "│ *Blood pressure observation (OMH schema blood-pressure v4.0)*                                                   │\n",
       "│ ```json                                                                                                         │\n",
       "│ {                                                                                                               │\n",
       "│   \"header\": {                                                                                                   │\n",
       "│     \"uuid\": \"string - unique observation ID\",                                                                   │\n",
       "│     \"modality\": \"sensed|self-reported\",                                                                         │\n",
       "│     \"schema_id\": {                                                                                              │\n",
       "│       \"name\": \"blood-pressure\",                                                                                 │\n",
       "│       \"version\": \"4.0\",                                                                                         │\n",
       "│       \"namespace\": \"omh\"                                                                                        │\n",
       "│     },                                                                                                          │\n",
       "│     \"source_creation_date_time\": \"ISO8601 timestamp\"                                                            │\n",
       "│   },                                                                                                            │\n",
       "│   \"body\": {                                                                                                     │\n",
       "│     \"effective_time_frame\": {                                                                                   │\n",
       "│       \"date_time\": \"ISO8601 timestamp - when measured\"                                                          │\n",
       "│     },                                                                                                          │\n",
       "│     \"systolic_blood_pressure\": {                                                                                │\n",
       "│       \"unit\": \"mmHg\",                                                                                           │\n",
       "│       \"value\": \"numeric\"                                                                                        │\n",
       "│     },                                                                                                          │\n",
       "│     \"diastolic_blood_pressure\": {                                                                               │\n",
       "│       \"unit\": \"mmHg\",                                                                                           │\n",
       "│       \"value\": \"numeric\"                                                                                        │\n",
       "│     }                                                                                                           │\n",
       "│   }                                                                                                             │\n",
       "│ }                                                                                                               │\n",
       "│ ```                                                                                                             │\n",
       "│ **Extraction examples:**                                                                                        │\n",
       "│   - Systolic: `(value_attachment_data-&gt;'body'-&gt;'systolic_blood_pressure'-&gt;&gt;'value')::numeric`                   │\n",
       "│   - Diastolic: `(value_attachment_data-&gt;'body'-&gt;'diastolic_blood_pressure'-&gt;&gt;'value')::numeric`                 │\n",
       "│   - Timestamp: `(value_attachment_data-&gt;'body'-&gt;'effective_time_frame'-&gt;&gt;'date_time')::timestamptz`             │\n",
       "│                                                                                                                 │\n",
       "│ **Example SQL queries:**                                                                                        │\n",
       "│                                                                                                                 │\n",
       "│ *Get all blood pressure readings for a patient on a specific date*                                              │\n",
       "│ ```sql                                                                                                          │\n",
       "│ SELECT                                                                                                          │\n",
       "│     (value_attachment_data-&gt;'body'-&gt;'systolic_blood_pressure'-&gt;&gt;'value')::numeric AS systolic,                  │\n",
       "│     (value_attachment_data-&gt;'body'-&gt;'diastolic_blood_pressure'-&gt;&gt;'value')::numeric AS diastolic,                │\n",
       "│     (value_attachment_data-&gt;'body'-&gt;'effective_time_frame'-&gt;&gt;'date_time') AS timestamp                          │\n",
       "│ FROM core_observation                                                                                           │\n",
       "│ WHERE subject_patient_id = 40001                                                                                │\n",
       "│     AND value_attachment_data-&gt;'header'-&gt;'schema_id'-&gt;&gt;'name' = 'blood-pressure'                                │\n",
       "│     AND (value_attachment_data-&gt;'body'-&gt;'effective_time_frame'-&gt;&gt;'date_time')::timestamptz::date = '2025-02-02' │\n",
       "│ ORDER BY timestamp                                                                                              │\n",
       "│ ```                                                                                                             │\n",
       "│                                                                                                                 │\n",
       "│ *Calculate average blood pressure for a date range*                                                             │\n",
       "│ ```sql                                                                                                          │\n",
       "│ SELECT                                                                                                          │\n",
       "│     AVG((value_attachment_data-&gt;'body'-&gt;'systolic_blood_pressure'-&gt;&gt;'value')::numeric) AS avg_systolic,         │\n",
       "│     AVG((value_attachment_data-&gt;'body'-&gt;'diastolic_blood_pressure'-&gt;&gt;'value')::numeric) AS avg_diastolic        │\n",
       "│ FROM core_observation                                                                                           │\n",
       "│ WHERE subject_patient_id = 40001                                                                                │\n",
       "│     AND value_attachment_data-&gt;'header'-&gt;'schema_id'-&gt;&gt;'name' = 'blood-pressure'                                │\n",
       "│     AND (value_attachment_data-&gt;'body'-&gt;'effective_time_frame'-&gt;&gt;'date_time')::timestamptz &gt;= '2025-02-01'      │\n",
       "│     AND (value_attachment_data-&gt;'body'-&gt;'effective_time_frame'-&gt;&gt;'date_time')::timestamptz &lt; '2025-03-01'       │\n",
       "│ ```                                                                                                             │\n",
       "│                                                                                                                 │\n",
       "│ *Get all blood pressure readings for a patient in a specific study*                                             │\n",
       "│ ```sql                                                                                                          │\n",
       "│ SELECT                                                                                                          │\n",
       "│     o.id,                                                                                                       │\n",
       "│     (o.value_attachment_data-&gt;'body'-&gt;'systolic_blood_pressure'-&gt;&gt;'value')::numeric AS systolic,                │\n",
       "│     (o.value_attachment_data-&gt;'body'-&gt;'diastolic_blood_pressure'-&gt;&gt;'value')::numeric AS diastolic,              │\n",
       "│     (o.value_attachment_data-&gt;'body'-&gt;'effective_time_frame'-&gt;&gt;'date_time') AS timestamp,                       │\n",
       "│     o.last_updated                                                                                              │\n",
       "│ FROM core_observation o                                                                                         │\n",
       "│ JOIN core_studypatient sp ON o.subject_patient_id = sp.patient_id                                               │\n",
       "│ WHERE sp.study_id = 30001                                                                                       │\n",
       "│     AND sp.patient_id = 40001                                                                                   │\n",
       "│     AND o.value_attachment_data-&gt;'header'-&gt;'schema_id'-&gt;&gt;'name' = 'blood-pressure'                              │\n",
       "│ ORDER BY o.last_updated DESC                                                                                    │\n",
       "│ ```                                                                                                             │\n",
       "│                                                                                                                 │\n",
       "│ *Heart rate observation (OMH schema heart-rate v2.0)*                                                           │\n",
       "│ ```json                                                                                                         │\n",
       "│ {                                                                                                               │\n",
       "│   \"header\": {                                                                                                   │\n",
       "│     \"uuid\": \"string - unique observation ID\",                                                                   │\n",
       "│     \"modality\": \"sensed|self-reported\",                                                                         │\n",
       "│     \"schema_id\": {                                                                                              │\n",
       "│       \"name\": \"heart-rate\",                                                                                     │\n",
       "│       \"version\": \"2.0\",                                                                                         │\n",
       "│       \"namespace\": \"omh\"                                                                                        │\n",
       "│     },                                                                                                          │\n",
       "│     \"source_creation_date_time\": \"ISO8601 timestamp\"                                                            │\n",
       "│   },                                                                                                            │\n",
       "│   \"body\": {                                                                                                     │\n",
       "│     \"effective_time_frame\": {                                                                                   │\n",
       "│       \"date_time\": \"ISO8601 timestamp - when measured\"                                                          │\n",
       "│     },                                                                                                          │\n",
       "│     \"heart_rate\": {                                                                                             │\n",
       "│       \"unit\": \"beats/min\",                                                                                      │\n",
       "│       \"value\": \"numeric\"                                                                                        │\n",
       "│     }                                                                                                           │\n",
       "│   }                                                                                                             │\n",
       "│ }                                                                                                               │\n",
       "│ ```                                                                                                             │\n",
       "│ **Extraction examples:**                                                                                        │\n",
       "│   - Value: `(value_attachment_data-&gt;'body'-&gt;'heart_rate'-&gt;&gt;'value')::numeric`                                   │\n",
       "│   - Timestamp: `(value_attachment_data-&gt;'body'-&gt;'effective_time_frame'-&gt;&gt;'date_time')::timestamptz`             │\n",
       "│                                                                                                                 │\n",
       "│ **Common JSONB queries:**                                                                                       │\n",
       "│   - Get schema type: value_attachment_data-&gt;'header'-&gt;'schema_id'-&gt;&gt;'name'                                      │\n",
       "│   - Filter by modality: value_attachment_data-&gt;'header'-&gt;&gt;'modality' = 'sensed'                                 │\n",
       "│   - Extract any timestamp: (value_attachment_data-&gt;'body'-&gt;'effective_time_frame'-&gt;&gt;'date_time')::timestamptz   │\n",
       "│   - Check if field exists: value_attachment_data-&gt;'body' ? 'systolic_blood_pressure'                            │\n",
       "│                                                                                                                 │\n",
       "│                                                                                                                 │\n",
       "│ ### core_organization                                                                                           │\n",
       "│ Healthcare organizations and institutions                                                                       │\n",
       "│                                                                                                                 │\n",
       "│ **Columns:**                                                                                                    │\n",
       "│   - `id` (bigint): Organization identifier                                                                      │\n",
       "│   - `name` (varchar): Organization name                                                                         │\n",
       "│   - `type` (varchar): prov|edu|crs|laboratory|etc                                                               │\n",
       "│   - `part_of_id` (bigint): FK to parent organization (nullable)                                                 │\n",
       "│                                                                                                                 │\n",
       "│ **Relationships:**                                                                                              │\n",
       "│   - Has many Studies                                                                                            │\n",
       "│   - Has many Practitioners (via core_practitionerorganization M2M)                                              │\n",
       "│   - Has many Patients (via core_patientorganization M2M)                                                        │\n",
       "│   - Can be part of parent Organization (hierarchical)                                                           │\n",
       "│                                                                                                                 │\n",
       "│                                                                                                                 │\n",
       "│ ### core_jheuser                                                                                                │\n",
       "│ User accounts (practitioners and patients)                                                                      │\n",
       "│                                                                                                                 │\n",
       "│ **Columns:**                                                                                                    │\n",
       "│   - `id` (bigint): User identifier                                                                              │\n",
       "│   - `email` (varchar): Email address (unique)                                                                   │\n",
       "│   - `user_type` (varchar): patient|practitioner                                                                 │\n",
       "│   - `is_superuser` (boolean): Admin flag                                                                        │\n",
       "│   - `is_staff` (boolean): Staff access flag                                                                     │\n",
       "│                                                                                                                 │\n",
       "│ **Relationships:**                                                                                              │\n",
       "│   - Has one Patient profile (via patient_profile)                                                               │\n",
       "│   - Has one Practitioner profile (via practitioner_profile)                                                     │\n",
       "│                                                                                                                 │\n",
       "│                                                                                                                 │\n",
       "│ ## Permission Model                                                                                             │\n",
       "│ JHE Role-Based Access Control                                                                                   │\n",
       "│                                                                                                                 │\n",
       "│ **Access Flow:** User → Practitioner → PractitionerOrganization (with role) → Organization → Study → Patients   │\n",
       "│                                                                                                                 │\n",
       "│ **Roles:**                                                                                                      │\n",
       "│   - `super_user`: Full system access (Django superuser)                                                         │\n",
       "│   - `manager`: Manage organization, patients, and studies                                                       │\n",
       "│   - `member`: Manage patients and studies within organization                                                   │\n",
       "│   - `viewer`: Read-only access                                                                                  │\n",
       "│                                                                                                                 │\n",
       "│ ## Common Query Patterns                                                                                        │\n",
       "│                                                                                                                 │\n",
       "│ **Blood pressure observations for a patient:**                                                                  │\n",
       "│ ```sql                                                                                                          │\n",
       "│ SELECT                                                                                                          │\n",
       "│   (value_attachment_data-&gt;'body'-&gt;'systolic_blood_pressure'-&gt;&gt;'value')::numeric as systolic,                    │\n",
       "│   (value_attachment_data-&gt;'body'-&gt;'diastolic_blood_pressure'-&gt;&gt;'value')::numeric as diastolic,                  │\n",
       "│   value_attachment_data-&gt;'body'-&gt;'effective_time_frame'-&gt;&gt;'date_time' as timestamp                              │\n",
       "│ FROM core_observation                                                                                           │\n",
       "│ WHERE subject_patient_id = 40001                                                                                │\n",
       "│   AND codeable_concept_id IN (                                                                                  │\n",
       "│     SELECT id FROM core_codeableconcept WHERE display LIKE '%blood pressure%'                                   │\n",
       "│   )                                                                                                             │\n",
       "│ ORDER BY last_updated DESC LIMIT 50;                                                                            │\n",
       "│ ```                                                                                                             │\n",
       "│                                                                                                                 │\n",
       "│ **Aggregate by time window:**                                                                                   │\n",
       "│ ```sql                                                                                                          │\n",
       "│ SELECT                                                                                                          │\n",
       "│   date_trunc('hour', (value_attachment_data-&gt;'body'-&gt;'effective_time_frame'-&gt;&gt;'date_time')::timestamptz) as     │\n",
       "│ hour,                                                                                                           │\n",
       "│   AVG((value_attachment_data-&gt;'body'-&gt;'systolic_blood_pressure'-&gt;&gt;'value')::numeric) as avg_systolic,           │\n",
       "│   STDDEV((value_attachment_data-&gt;'body'-&gt;'systolic_blood_pressure'-&gt;&gt;'value')::numeric) as stddev_systolic      │\n",
       "│ FROM core_observation                                                                                           │\n",
       "│ WHERE subject_patient_id = 40001                                                                                │\n",
       "│ GROUP BY hour                                                                                                   │\n",
       "│ ORDER BY hour;                                                                                                  │\n",
       "│ ```                                                                                                             │\n",
       "│                                                                                                                 │\n",
       "│ **Patients in a study:**                                                                                        │\n",
       "│ ```sql                                                                                                          │\n",
       "│ SELECT p.*, s.name as study_name                                                                                │\n",
       "│ FROM core_patient p                                                                                             │\n",
       "│ JOIN core_studypatient sp ON sp.patient_id = p.id                                                               │\n",
       "│ JOIN core_study s ON s.id = sp.study_id                                                                         │\n",
       "│ WHERE sp.study_id = 30001;                                                                                      │\n",
       "│ ```                                                                                                             │\n",
       "│                                                                                                                 │\n",
       "│ Now, using this schema, please:                                                                                 │\n",
       "│ Show me all blood pressure readings for patient 40001 on February 2, 2025.                                      │\n",
       "│ Calculate the average systolic and diastolic pressure for that day.                                             │\n",
       "│                                                                                                                 │\n",
       "│ Use the example SQL queries in the schema as a guide.                                                           │\n",
       "╰─────────────────────────────────────────────────────────────────────────────────────────────────────────────────╯\n",
       "</pre>\n"
      ],
      "text/plain": [
       "╭─────────────────────────────────────────────────────────────────────────────────────────────────────────────────╮\n",
       "│ \u001b[1;36mUser Query:\u001b[0m I have access to a database with this schema:                                                       │\n",
       "│                                                                                                                 │\n",
       "│ # JupyterHealth Exchange Database Schema                                                                        │\n",
       "│                                                                                                                 │\n",
       "│ ## Core Tables                                                                                                  │\n",
       "│                                                                                                                 │\n",
       "│                                                                                                                 │\n",
       "│ ### core_study                                                                                                  │\n",
       "│ Clinical research studies                                                                                       │\n",
       "│                                                                                                                 │\n",
       "│ **Columns:**                                                                                                    │\n",
       "│   - `id` (bigint): Study identifier (primary key)                                                               │\n",
       "│   - `name` (varchar): Study name                                                                                │\n",
       "│   - `description` (text): Study description                                                                     │\n",
       "│   - `organization_id` (bigint): FK to core_organization                                                         │\n",
       "│   - `icon_url` (text): Optional study icon URL                                                                  │\n",
       "│                                                                                                                 │\n",
       "│ **Relationships:**                                                                                              │\n",
       "│   - Belongs to one Organization (via organization_id)                                                           │\n",
       "│   - Has many Patients (via core_studypatient M2M table)                                                         │\n",
       "│   - Has many scope requests (via core_studyscoperequest)                                                        │\n",
       "│                                                                                                                 │\n",
       "│                                                                                                                 │\n",
       "│ ### core_patient                                                                                                │\n",
       "│ Patient records with demographics                                                                               │\n",
       "│                                                                                                                 │\n",
       "│ **Columns:**                                                                                                    │\n",
       "│   - `id` (bigint): Patient identifier                                                                           │\n",
       "│   - `jhe_user_id` (bigint): FK to core_jheuser                                                                  │\n",
       "│   - `identifier` (varchar): External patient ID                                                                 │\n",
       "│   - `name_family` (varchar): Family name                                                                        │\n",
       "│   - `name_given` (varchar): Given name                                                                          │\n",
       "│   - `birth_date` (date): Date of birth                                                                          │\n",
       "│   - `telecom_phone` (varchar): Phone number                                                                     │\n",
       "│   - `last_updated` (timestamptz): Last update timestamp                                                         │\n",
       "│                                                                                                                 │\n",
       "│ **Relationships:**                                                                                              │\n",
       "│   - Has one JheUser (via jhe_user_id)                                                                           │\n",
       "│   - Belongs to many Organizations (via core_patientorganization M2M)                                            │\n",
       "│   - Enrolled in many Studies (via core_studypatient M2M)                                                        │\n",
       "│   - Has many Observations (subject_patient_id)                                                                  │\n",
       "│                                                                                                                 │\n",
       "│                                                                                                                 │\n",
       "│ ### core_observation                                                                                            │\n",
       "│ Health observations in FHIR format with OMH data                                                                │\n",
       "│                                                                                                                 │\n",
       "│ **Columns:**                                                                                                    │\n",
       "│   - `id` (bigint): Observation identifier                                                                       │\n",
       "│   - `subject_patient_id` (bigint): FK to core_patient                                                           │\n",
       "│   - `codeable_concept_id` (bigint): FK to core_codeableconcept (LOINC/OMH code)                                 │\n",
       "│   - `data_source_id` (bigint): FK to core_datasource (device)                                                   │\n",
       "│   - `value_attachment_data` (jsonb): OMH data payload (base64 in FHIR)                                          │\n",
       "│   - `status` (varchar): final|preliminary|amended|etc                                                           │\n",
       "│   - `last_updated` (timestamptz): Last update timestamp                                                         │\n",
       "│                                                                                                                 │\n",
       "│ **Relationships:**                                                                                              │\n",
       "│   - Belongs to one Patient (via subject_patient_id)                                                             │\n",
       "│   - Has one CodeableConcept (via codeable_concept_id)                                                           │\n",
       "│   - Generated by one DataSource/Device (via data_source_id)                                                     │\n",
       "│                                                                                                                 │\n",
       "│ *Note: Observations store health data in Open mHealth format within FHIR Observation.valueAttachment*           │\n",
       "│                                                                                                                 │\n",
       "│ **JSONB Data Structures:**                                                                                      │\n",
       "│                                                                                                                 │\n",
       "│ *Blood pressure observation (OMH schema blood-pressure v4.0)*                                                   │\n",
       "│ ```json                                                                                                         │\n",
       "│ {                                                                                                               │\n",
       "│   \"header\": {                                                                                                   │\n",
       "│     \"uuid\": \"string - unique observation ID\",                                                                   │\n",
       "│     \"modality\": \"sensed|self-reported\",                                                                         │\n",
       "│     \"schema_id\": {                                                                                              │\n",
       "│       \"name\": \"blood-pressure\",                                                                                 │\n",
       "│       \"version\": \"4.0\",                                                                                         │\n",
       "│       \"namespace\": \"omh\"                                                                                        │\n",
       "│     },                                                                                                          │\n",
       "│     \"source_creation_date_time\": \"ISO8601 timestamp\"                                                            │\n",
       "│   },                                                                                                            │\n",
       "│   \"body\": {                                                                                                     │\n",
       "│     \"effective_time_frame\": {                                                                                   │\n",
       "│       \"date_time\": \"ISO8601 timestamp - when measured\"                                                          │\n",
       "│     },                                                                                                          │\n",
       "│     \"systolic_blood_pressure\": {                                                                                │\n",
       "│       \"unit\": \"mmHg\",                                                                                           │\n",
       "│       \"value\": \"numeric\"                                                                                        │\n",
       "│     },                                                                                                          │\n",
       "│     \"diastolic_blood_pressure\": {                                                                               │\n",
       "│       \"unit\": \"mmHg\",                                                                                           │\n",
       "│       \"value\": \"numeric\"                                                                                        │\n",
       "│     }                                                                                                           │\n",
       "│   }                                                                                                             │\n",
       "│ }                                                                                                               │\n",
       "│ ```                                                                                                             │\n",
       "│ **Extraction examples:**                                                                                        │\n",
       "│   - Systolic: `(value_attachment_data->'body'->'systolic_blood_pressure'->>'value')::numeric`                   │\n",
       "│   - Diastolic: `(value_attachment_data->'body'->'diastolic_blood_pressure'->>'value')::numeric`                 │\n",
       "│   - Timestamp: `(value_attachment_data->'body'->'effective_time_frame'->>'date_time')::timestamptz`             │\n",
       "│                                                                                                                 │\n",
       "│ **Example SQL queries:**                                                                                        │\n",
       "│                                                                                                                 │\n",
       "│ *Get all blood pressure readings for a patient on a specific date*                                              │\n",
       "│ ```sql                                                                                                          │\n",
       "│ SELECT                                                                                                          │\n",
       "│     (value_attachment_data->'body'->'systolic_blood_pressure'->>'value')::numeric AS systolic,                  │\n",
       "│     (value_attachment_data->'body'->'diastolic_blood_pressure'->>'value')::numeric AS diastolic,                │\n",
       "│     (value_attachment_data->'body'->'effective_time_frame'->>'date_time') AS timestamp                          │\n",
       "│ FROM core_observation                                                                                           │\n",
       "│ WHERE subject_patient_id = 40001                                                                                │\n",
       "│     AND value_attachment_data->'header'->'schema_id'->>'name' = 'blood-pressure'                                │\n",
       "│     AND (value_attachment_data->'body'->'effective_time_frame'->>'date_time')::timestamptz::date = '2025-02-02' │\n",
       "│ ORDER BY timestamp                                                                                              │\n",
       "│ ```                                                                                                             │\n",
       "│                                                                                                                 │\n",
       "│ *Calculate average blood pressure for a date range*                                                             │\n",
       "│ ```sql                                                                                                          │\n",
       "│ SELECT                                                                                                          │\n",
       "│     AVG((value_attachment_data->'body'->'systolic_blood_pressure'->>'value')::numeric) AS avg_systolic,         │\n",
       "│     AVG((value_attachment_data->'body'->'diastolic_blood_pressure'->>'value')::numeric) AS avg_diastolic        │\n",
       "│ FROM core_observation                                                                                           │\n",
       "│ WHERE subject_patient_id = 40001                                                                                │\n",
       "│     AND value_attachment_data->'header'->'schema_id'->>'name' = 'blood-pressure'                                │\n",
       "│     AND (value_attachment_data->'body'->'effective_time_frame'->>'date_time')::timestamptz >= '2025-02-01'      │\n",
       "│     AND (value_attachment_data->'body'->'effective_time_frame'->>'date_time')::timestamptz < '2025-03-01'       │\n",
       "│ ```                                                                                                             │\n",
       "│                                                                                                                 │\n",
       "│ *Get all blood pressure readings for a patient in a specific study*                                             │\n",
       "│ ```sql                                                                                                          │\n",
       "│ SELECT                                                                                                          │\n",
       "│     o.id,                                                                                                       │\n",
       "│     (o.value_attachment_data->'body'->'systolic_blood_pressure'->>'value')::numeric AS systolic,                │\n",
       "│     (o.value_attachment_data->'body'->'diastolic_blood_pressure'->>'value')::numeric AS diastolic,              │\n",
       "│     (o.value_attachment_data->'body'->'effective_time_frame'->>'date_time') AS timestamp,                       │\n",
       "│     o.last_updated                                                                                              │\n",
       "│ FROM core_observation o                                                                                         │\n",
       "│ JOIN core_studypatient sp ON o.subject_patient_id = sp.patient_id                                               │\n",
       "│ WHERE sp.study_id = 30001                                                                                       │\n",
       "│     AND sp.patient_id = 40001                                                                                   │\n",
       "│     AND o.value_attachment_data->'header'->'schema_id'->>'name' = 'blood-pressure'                              │\n",
       "│ ORDER BY o.last_updated DESC                                                                                    │\n",
       "│ ```                                                                                                             │\n",
       "│                                                                                                                 │\n",
       "│ *Heart rate observation (OMH schema heart-rate v2.0)*                                                           │\n",
       "│ ```json                                                                                                         │\n",
       "│ {                                                                                                               │\n",
       "│   \"header\": {                                                                                                   │\n",
       "│     \"uuid\": \"string - unique observation ID\",                                                                   │\n",
       "│     \"modality\": \"sensed|self-reported\",                                                                         │\n",
       "│     \"schema_id\": {                                                                                              │\n",
       "│       \"name\": \"heart-rate\",                                                                                     │\n",
       "│       \"version\": \"2.0\",                                                                                         │\n",
       "│       \"namespace\": \"omh\"                                                                                        │\n",
       "│     },                                                                                                          │\n",
       "│     \"source_creation_date_time\": \"ISO8601 timestamp\"                                                            │\n",
       "│   },                                                                                                            │\n",
       "│   \"body\": {                                                                                                     │\n",
       "│     \"effective_time_frame\": {                                                                                   │\n",
       "│       \"date_time\": \"ISO8601 timestamp - when measured\"                                                          │\n",
       "│     },                                                                                                          │\n",
       "│     \"heart_rate\": {                                                                                             │\n",
       "│       \"unit\": \"beats/min\",                                                                                      │\n",
       "│       \"value\": \"numeric\"                                                                                        │\n",
       "│     }                                                                                                           │\n",
       "│   }                                                                                                             │\n",
       "│ }                                                                                                               │\n",
       "│ ```                                                                                                             │\n",
       "│ **Extraction examples:**                                                                                        │\n",
       "│   - Value: `(value_attachment_data->'body'->'heart_rate'->>'value')::numeric`                                   │\n",
       "│   - Timestamp: `(value_attachment_data->'body'->'effective_time_frame'->>'date_time')::timestamptz`             │\n",
       "│                                                                                                                 │\n",
       "│ **Common JSONB queries:**                                                                                       │\n",
       "│   - Get schema type: value_attachment_data->'header'->'schema_id'->>'name'                                      │\n",
       "│   - Filter by modality: value_attachment_data->'header'->>'modality' = 'sensed'                                 │\n",
       "│   - Extract any timestamp: (value_attachment_data->'body'->'effective_time_frame'->>'date_time')::timestamptz   │\n",
       "│   - Check if field exists: value_attachment_data->'body' ? 'systolic_blood_pressure'                            │\n",
       "│                                                                                                                 │\n",
       "│                                                                                                                 │\n",
       "│ ### core_organization                                                                                           │\n",
       "│ Healthcare organizations and institutions                                                                       │\n",
       "│                                                                                                                 │\n",
       "│ **Columns:**                                                                                                    │\n",
       "│   - `id` (bigint): Organization identifier                                                                      │\n",
       "│   - `name` (varchar): Organization name                                                                         │\n",
       "│   - `type` (varchar): prov|edu|crs|laboratory|etc                                                               │\n",
       "│   - `part_of_id` (bigint): FK to parent organization (nullable)                                                 │\n",
       "│                                                                                                                 │\n",
       "│ **Relationships:**                                                                                              │\n",
       "│   - Has many Studies                                                                                            │\n",
       "│   - Has many Practitioners (via core_practitionerorganization M2M)                                              │\n",
       "│   - Has many Patients (via core_patientorganization M2M)                                                        │\n",
       "│   - Can be part of parent Organization (hierarchical)                                                           │\n",
       "│                                                                                                                 │\n",
       "│                                                                                                                 │\n",
       "│ ### core_jheuser                                                                                                │\n",
       "│ User accounts (practitioners and patients)                                                                      │\n",
       "│                                                                                                                 │\n",
       "│ **Columns:**                                                                                                    │\n",
       "│   - `id` (bigint): User identifier                                                                              │\n",
       "│   - `email` (varchar): Email address (unique)                                                                   │\n",
       "│   - `user_type` (varchar): patient|practitioner                                                                 │\n",
       "│   - `is_superuser` (boolean): Admin flag                                                                        │\n",
       "│   - `is_staff` (boolean): Staff access flag                                                                     │\n",
       "│                                                                                                                 │\n",
       "│ **Relationships:**                                                                                              │\n",
       "│   - Has one Patient profile (via patient_profile)                                                               │\n",
       "│   - Has one Practitioner profile (via practitioner_profile)                                                     │\n",
       "│                                                                                                                 │\n",
       "│                                                                                                                 │\n",
       "│ ## Permission Model                                                                                             │\n",
       "│ JHE Role-Based Access Control                                                                                   │\n",
       "│                                                                                                                 │\n",
       "│ **Access Flow:** User → Practitioner → PractitionerOrganization (with role) → Organization → Study → Patients   │\n",
       "│                                                                                                                 │\n",
       "│ **Roles:**                                                                                                      │\n",
       "│   - `super_user`: Full system access (Django superuser)                                                         │\n",
       "│   - `manager`: Manage organization, patients, and studies                                                       │\n",
       "│   - `member`: Manage patients and studies within organization                                                   │\n",
       "│   - `viewer`: Read-only access                                                                                  │\n",
       "│                                                                                                                 │\n",
       "│ ## Common Query Patterns                                                                                        │\n",
       "│                                                                                                                 │\n",
       "│ **Blood pressure observations for a patient:**                                                                  │\n",
       "│ ```sql                                                                                                          │\n",
       "│ SELECT                                                                                                          │\n",
       "│   (value_attachment_data->'body'->'systolic_blood_pressure'->>'value')::numeric as systolic,                    │\n",
       "│   (value_attachment_data->'body'->'diastolic_blood_pressure'->>'value')::numeric as diastolic,                  │\n",
       "│   value_attachment_data->'body'->'effective_time_frame'->>'date_time' as timestamp                              │\n",
       "│ FROM core_observation                                                                                           │\n",
       "│ WHERE subject_patient_id = 40001                                                                                │\n",
       "│   AND codeable_concept_id IN (                                                                                  │\n",
       "│     SELECT id FROM core_codeableconcept WHERE display LIKE '%blood pressure%'                                   │\n",
       "│   )                                                                                                             │\n",
       "│ ORDER BY last_updated DESC LIMIT 50;                                                                            │\n",
       "│ ```                                                                                                             │\n",
       "│                                                                                                                 │\n",
       "│ **Aggregate by time window:**                                                                                   │\n",
       "│ ```sql                                                                                                          │\n",
       "│ SELECT                                                                                                          │\n",
       "│   date_trunc('hour', (value_attachment_data->'body'->'effective_time_frame'->>'date_time')::timestamptz) as     │\n",
       "│ hour,                                                                                                           │\n",
       "│   AVG((value_attachment_data->'body'->'systolic_blood_pressure'->>'value')::numeric) as avg_systolic,           │\n",
       "│   STDDEV((value_attachment_data->'body'->'systolic_blood_pressure'->>'value')::numeric) as stddev_systolic      │\n",
       "│ FROM core_observation                                                                                           │\n",
       "│ WHERE subject_patient_id = 40001                                                                                │\n",
       "│ GROUP BY hour                                                                                                   │\n",
       "│ ORDER BY hour;                                                                                                  │\n",
       "│ ```                                                                                                             │\n",
       "│                                                                                                                 │\n",
       "│ **Patients in a study:**                                                                                        │\n",
       "│ ```sql                                                                                                          │\n",
       "│ SELECT p.*, s.name as study_name                                                                                │\n",
       "│ FROM core_patient p                                                                                             │\n",
       "│ JOIN core_studypatient sp ON sp.patient_id = p.id                                                               │\n",
       "│ JOIN core_study s ON s.id = sp.study_id                                                                         │\n",
       "│ WHERE sp.study_id = 30001;                                                                                      │\n",
       "│ ```                                                                                                             │\n",
       "│                                                                                                                 │\n",
       "│ Now, using this schema, please:                                                                                 │\n",
       "│ Show me all blood pressure readings for patient 40001 on February 2, 2025.                                      │\n",
       "│ Calculate the average systolic and diastolic pressure for that day.                                             │\n",
       "│                                                                                                                 │\n",
       "│ Use the example SQL queries in the schema as a guide.                                                           │\n",
       "╰─────────────────────────────────────────────────────────────────────────────────────────────────────────────────╯\n"
      ]
     },
     "metadata": {},
     "output_type": "display_data"
    },
    {
     "data": {
      "text/html": [
       "<pre style=\"white-space:pre;overflow-x:auto;line-height:normal;font-family:Menlo,'DejaVu Sans Mono',consolas,'Courier New',monospace\">\n",
       "<span style=\"color: #7f7f7f; text-decoration-color: #7f7f7f\">→ LLM iteration </span><span style=\"color: #7fbfbf; text-decoration-color: #7fbfbf; font-weight: bold\">1</span><span style=\"color: #7f7f7f; text-decoration-color: #7f7f7f\">/</span><span style=\"color: #7fbfbf; text-decoration-color: #7fbfbf; font-weight: bold\">5</span>\n",
       "</pre>\n"
      ],
      "text/plain": [
       "\n",
       "\u001b[2m→ LLM iteration \u001b[0m\u001b[1;2;36m1\u001b[0m\u001b[2m/\u001b[0m\u001b[1;2;36m5\u001b[0m\n"
      ]
     },
     "metadata": {},
     "output_type": "display_data"
    },
    {
     "data": {
      "text/html": [
       "<pre style=\"white-space:pre;overflow-x:auto;line-height:normal;font-family:Menlo,'DejaVu Sans Mono',consolas,'Courier New',monospace\"><span style=\"color: #808000; text-decoration-color: #808000\">LLM requested </span><span style=\"color: #808000; text-decoration-color: #808000; font-weight: bold\">2</span><span style=\"color: #808000; text-decoration-color: #808000\"> tool </span><span style=\"color: #808000; text-decoration-color: #808000; font-weight: bold\">call(</span><span style=\"color: #808000; text-decoration-color: #808000\">s</span><span style=\"color: #808000; text-decoration-color: #808000; font-weight: bold\">)</span>\n",
       "</pre>\n"
      ],
      "text/plain": [
       "\u001b[33mLLM requested \u001b[0m\u001b[1;33m2\u001b[0m\u001b[33m tool \u001b[0m\u001b[1;33mcall\u001b[0m\u001b[1;33m(\u001b[0m\u001b[33ms\u001b[0m\u001b[1;33m)\u001b[0m\n"
      ]
     },
     "metadata": {},
     "output_type": "display_data"
    },
    {
     "data": {
      "text/html": [
       "<pre style=\"white-space:pre;overflow-x:auto;line-height:normal;font-family:Menlo,'DejaVu Sans Mono',consolas,'Courier New',monospace\">  <span style=\"color: #008080; text-decoration-color: #008080\">→ Calling: execute_filtered_query</span>\n",
       "</pre>\n"
      ],
      "text/plain": [
       "  \u001b[36m→ Calling: execute_filtered_query\u001b[0m\n"
      ]
     },
     "metadata": {},
     "output_type": "display_data"
    },
    {
     "data": {
      "text/html": [
       "<pre style=\"white-space:pre;overflow-x:auto;line-height:normal;font-family:Menlo,'DejaVu Sans Mono',consolas,'Courier New',monospace\"><span style=\"color: #008080; text-decoration-color: #008080\">Calling MCP tool: execute_filtered_query</span>\n",
       "</pre>\n"
      ],
      "text/plain": [
       "\u001b[36mCalling MCP tool: execute_filtered_query\u001b[0m\n"
      ]
     },
     "metadata": {},
     "output_type": "display_data"
    },
    {
     "data": {
      "text/html": [
       "<pre style=\"white-space:pre;overflow-x:auto;line-height:normal;font-family:Menlo,'DejaVu Sans Mono',consolas,'Courier New',monospace\"><span style=\"color: #7f7f7f; text-decoration-color: #7f7f7f\">Arguments: </span><span style=\"color: #7f7f7f; text-decoration-color: #7f7f7f; font-weight: bold\">{</span>\n",
       "<span style=\"color: #7f7f7f; text-decoration-color: #7f7f7f\">  </span><span style=\"color: #7fbf7f; text-decoration-color: #7fbf7f\">\"sql_query\"</span><span style=\"color: #7f7f7f; text-decoration-color: #7f7f7f\">: </span><span style=\"color: #7fbf7f; text-decoration-color: #7fbf7f\">\"SELECT (value_attachment_data-&gt;'body'-&gt;'systolic_blood_pressure'-&gt;&gt;'value')::numeric AS systolic, </span>\n",
       "<span style=\"color: #7fbf7f; text-decoration-color: #7fbf7f\">(value_attachment_data-&gt;'body'-&gt;'diastolic_blood_pressure'-&gt;&gt;'value')::numeric AS diastolic, </span>\n",
       "<span style=\"color: #7fbf7f; text-decoration-color: #7fbf7f\">(value_attachment_data-&gt;'body'-&gt;'effective_time_frame'-&gt;&gt;'date_time') AS timestamp FROM core_observation WHERE </span>\n",
       "<span style=\"color: #7fbf7f; text-decoration-color: #7fbf7f\">subject_patient_id = 40001 AND value_attachment_data-&gt;'header'-&gt;'schema_id'-&gt;&gt;'name' = 'blood-pressure' AND </span>\n",
       "<span style=\"color: #7fbf7f; text-decoration-color: #7fbf7f\">(value_attachment_data-&gt;'body'-&gt;'effective_time_frame'-&gt;&gt;'date_time')::timestamptz::date = '2025-02-02' ORDER BY </span>\n",
       "<span style=\"color: #7fbf7f; text-decoration-color: #7fbf7f\">timestamp;\"</span>\n",
       "<span style=\"color: #7f7f7f; text-decoration-color: #7f7f7f; font-weight: bold\">}</span>\n",
       "</pre>\n"
      ],
      "text/plain": [
       "\u001b[2mArguments: \u001b[0m\u001b[1;2m{\u001b[0m\n",
       "\u001b[2m  \u001b[0m\u001b[2;32m\"sql_query\"\u001b[0m\u001b[2m: \u001b[0m\u001b[2;32m\"SELECT \u001b[0m\u001b[2;32m(\u001b[0m\u001b[2;32mvalue_attachment_data->'body'->'systolic_blood_pressure'->>'value'\u001b[0m\u001b[2;32m)\u001b[0m\u001b[2;32m::numeric AS systolic, \u001b[0m\n",
       "\u001b[2;32m(\u001b[0m\u001b[2;32mvalue_attachment_data->'body'->'diastolic_blood_pressure'->>'value'\u001b[0m\u001b[2;32m)\u001b[0m\u001b[2;32m::numeric AS diastolic, \u001b[0m\n",
       "\u001b[2;32m(\u001b[0m\u001b[2;32mvalue_attachment_data->'body'->'effective_time_frame'->>'date_time'\u001b[0m\u001b[2;32m)\u001b[0m\u001b[2;32m AS timestamp FROM core_observation WHERE \u001b[0m\n",
       "\u001b[2;32msubject_patient_id = 40001 AND value_attachment_data->'header'->'schema_id'->>'name' = 'blood-pressure' AND \u001b[0m\n",
       "\u001b[2;32m(\u001b[0m\u001b[2;32mvalue_attachment_data->'body'->'effective_time_frame'->>'date_time'\u001b[0m\u001b[2;32m)\u001b[0m\u001b[2;32m::timestamptz::date = '2025-02-02' ORDER BY \u001b[0m\n",
       "\u001b[2;32mtimestamp;\"\u001b[0m\n",
       "\u001b[1;2m}\u001b[0m\n"
      ]
     },
     "metadata": {},
     "output_type": "display_data"
    },
    {
     "data": {
      "text/html": [
       "<pre style=\"white-space:pre;overflow-x:auto;line-height:normal;font-family:Menlo,'DejaVu Sans Mono',consolas,'Courier New',monospace\"><span style=\"color: #008000; text-decoration-color: #008000\">✓ Tool call successful</span>\n",
       "\n",
       "</pre>\n"
      ],
      "text/plain": [
       "\u001b[32m✓ Tool call successful\u001b[0m\n",
       "\n"
      ]
     },
     "metadata": {},
     "output_type": "display_data"
    },
    {
     "data": {
      "text/html": [
       "<pre style=\"white-space:pre;overflow-x:auto;line-height:normal;font-family:Menlo,'DejaVu Sans Mono',consolas,'Courier New',monospace\">  <span style=\"color: #008080; text-decoration-color: #008080\">→ Calling: execute_filtered_query</span>\n",
       "</pre>\n"
      ],
      "text/plain": [
       "  \u001b[36m→ Calling: execute_filtered_query\u001b[0m\n"
      ]
     },
     "metadata": {},
     "output_type": "display_data"
    },
    {
     "data": {
      "text/html": [
       "<pre style=\"white-space:pre;overflow-x:auto;line-height:normal;font-family:Menlo,'DejaVu Sans Mono',consolas,'Courier New',monospace\"><span style=\"color: #008080; text-decoration-color: #008080\">Calling MCP tool: execute_filtered_query</span>\n",
       "</pre>\n"
      ],
      "text/plain": [
       "\u001b[36mCalling MCP tool: execute_filtered_query\u001b[0m\n"
      ]
     },
     "metadata": {},
     "output_type": "display_data"
    },
    {
     "data": {
      "text/html": [
       "<pre style=\"white-space:pre;overflow-x:auto;line-height:normal;font-family:Menlo,'DejaVu Sans Mono',consolas,'Courier New',monospace\"><span style=\"color: #7f7f7f; text-decoration-color: #7f7f7f\">Arguments: </span><span style=\"color: #7f7f7f; text-decoration-color: #7f7f7f; font-weight: bold\">{</span>\n",
       "<span style=\"color: #7f7f7f; text-decoration-color: #7f7f7f\">  </span><span style=\"color: #7fbf7f; text-decoration-color: #7fbf7f\">\"sql_query\"</span><span style=\"color: #7f7f7f; text-decoration-color: #7f7f7f\">: </span><span style=\"color: #7fbf7f; text-decoration-color: #7fbf7f\">\"SELECT AVG((value_attachment_data-&gt;'body'-&gt;'systolic_blood_pressure'-&gt;&gt;'value')::numeric) AS </span>\n",
       "<span style=\"color: #7fbf7f; text-decoration-color: #7fbf7f\">avg_systolic, AVG((value_attachment_data-&gt;'body'-&gt;'diastolic_blood_pressure'-&gt;&gt;'value')::numeric) AS avg_diastolic </span>\n",
       "<span style=\"color: #7fbf7f; text-decoration-color: #7fbf7f\">FROM core_observation WHERE subject_patient_id = 40001 AND value_attachment_data-&gt;'header'-&gt;'schema_id'-&gt;&gt;'name' = </span>\n",
       "<span style=\"color: #7fbf7f; text-decoration-color: #7fbf7f\">'blood-pressure' AND (value_attachment_data-&gt;'body'-&gt;'effective_time_frame'-&gt;&gt;'date_time')::timestamptz::date = </span>\n",
       "<span style=\"color: #7fbf7f; text-decoration-color: #7fbf7f\">'2025-02-02';\"</span>\n",
       "<span style=\"color: #7f7f7f; text-decoration-color: #7f7f7f; font-weight: bold\">}</span>\n",
       "</pre>\n"
      ],
      "text/plain": [
       "\u001b[2mArguments: \u001b[0m\u001b[1;2m{\u001b[0m\n",
       "\u001b[2m  \u001b[0m\u001b[2;32m\"sql_query\"\u001b[0m\u001b[2m: \u001b[0m\u001b[2;32m\"SELECT AVG\u001b[0m\u001b[2;32m(\u001b[0m\u001b[2;32m(\u001b[0m\u001b[2;32mvalue_attachment_data->'body'->'systolic_blood_pressure'->>'value'\u001b[0m\u001b[2;32m)\u001b[0m\u001b[2;32m::numeric\u001b[0m\u001b[2;32m)\u001b[0m\u001b[2;32m AS \u001b[0m\n",
       "\u001b[2;32mavg_systolic, AVG\u001b[0m\u001b[2;32m(\u001b[0m\u001b[2;32m(\u001b[0m\u001b[2;32mvalue_attachment_data->'body'->'diastolic_blood_pressure'->>'value'\u001b[0m\u001b[2;32m)\u001b[0m\u001b[2;32m::numeric\u001b[0m\u001b[2;32m)\u001b[0m\u001b[2;32m AS avg_diastolic \u001b[0m\n",
       "\u001b[2;32mFROM core_observation WHERE subject_patient_id = 40001 AND value_attachment_data->'header'->'schema_id'->>'name' = \u001b[0m\n",
       "\u001b[2;32m'blood-pressure' AND \u001b[0m\u001b[2;32m(\u001b[0m\u001b[2;32mvalue_attachment_data->'body'->'effective_time_frame'->>'date_time'\u001b[0m\u001b[2;32m)\u001b[0m\u001b[2;32m::timestamptz::date = \u001b[0m\n",
       "\u001b[2;32m'2025-02-02';\"\u001b[0m\n",
       "\u001b[1;2m}\u001b[0m\n"
      ]
     },
     "metadata": {},
     "output_type": "display_data"
    },
    {
     "data": {
      "text/html": [
       "<pre style=\"white-space:pre;overflow-x:auto;line-height:normal;font-family:Menlo,'DejaVu Sans Mono',consolas,'Courier New',monospace\"><span style=\"color: #008000; text-decoration-color: #008000\">✓ Tool call successful</span>\n",
       "\n",
       "</pre>\n"
      ],
      "text/plain": [
       "\u001b[32m✓ Tool call successful\u001b[0m\n",
       "\n"
      ]
     },
     "metadata": {},
     "output_type": "display_data"
    },
    {
     "data": {
      "text/html": [
       "<pre style=\"white-space:pre;overflow-x:auto;line-height:normal;font-family:Menlo,'DejaVu Sans Mono',consolas,'Courier New',monospace\">\n",
       "<span style=\"color: #7f7f7f; text-decoration-color: #7f7f7f\">→ LLM iteration </span><span style=\"color: #7fbfbf; text-decoration-color: #7fbfbf; font-weight: bold\">2</span><span style=\"color: #7f7f7f; text-decoration-color: #7f7f7f\">/</span><span style=\"color: #7fbfbf; text-decoration-color: #7fbfbf; font-weight: bold\">5</span>\n",
       "</pre>\n"
      ],
      "text/plain": [
       "\n",
       "\u001b[2m→ LLM iteration \u001b[0m\u001b[1;2;36m2\u001b[0m\u001b[2m/\u001b[0m\u001b[1;2;36m5\u001b[0m\n"
      ]
     },
     "metadata": {},
     "output_type": "display_data"
    },
    {
     "data": {
      "text/html": [
       "<pre style=\"white-space:pre;overflow-x:auto;line-height:normal;font-family:Menlo,'DejaVu Sans Mono',consolas,'Courier New',monospace\"><span style=\"color: #808000; text-decoration-color: #808000\">LLM requested </span><span style=\"color: #808000; text-decoration-color: #808000; font-weight: bold\">2</span><span style=\"color: #808000; text-decoration-color: #808000\"> tool </span><span style=\"color: #808000; text-decoration-color: #808000; font-weight: bold\">call(</span><span style=\"color: #808000; text-decoration-color: #808000\">s</span><span style=\"color: #808000; text-decoration-color: #808000; font-weight: bold\">)</span>\n",
       "</pre>\n"
      ],
      "text/plain": [
       "\u001b[33mLLM requested \u001b[0m\u001b[1;33m2\u001b[0m\u001b[33m tool \u001b[0m\u001b[1;33mcall\u001b[0m\u001b[1;33m(\u001b[0m\u001b[33ms\u001b[0m\u001b[1;33m)\u001b[0m\n"
      ]
     },
     "metadata": {},
     "output_type": "display_data"
    },
    {
     "data": {
      "text/html": [
       "<pre style=\"white-space:pre;overflow-x:auto;line-height:normal;font-family:Menlo,'DejaVu Sans Mono',consolas,'Courier New',monospace\">  <span style=\"color: #008080; text-decoration-color: #008080\">→ Calling: execute_filtered_query</span>\n",
       "</pre>\n"
      ],
      "text/plain": [
       "  \u001b[36m→ Calling: execute_filtered_query\u001b[0m\n"
      ]
     },
     "metadata": {},
     "output_type": "display_data"
    },
    {
     "data": {
      "text/html": [
       "<pre style=\"white-space:pre;overflow-x:auto;line-height:normal;font-family:Menlo,'DejaVu Sans Mono',consolas,'Courier New',monospace\"><span style=\"color: #008080; text-decoration-color: #008080\">Calling MCP tool: execute_filtered_query</span>\n",
       "</pre>\n"
      ],
      "text/plain": [
       "\u001b[36mCalling MCP tool: execute_filtered_query\u001b[0m\n"
      ]
     },
     "metadata": {},
     "output_type": "display_data"
    },
    {
     "data": {
      "text/html": [
       "<pre style=\"white-space:pre;overflow-x:auto;line-height:normal;font-family:Menlo,'DejaVu Sans Mono',consolas,'Courier New',monospace\"><span style=\"color: #7f7f7f; text-decoration-color: #7f7f7f\">Arguments: </span><span style=\"color: #7f7f7f; text-decoration-color: #7f7f7f; font-weight: bold\">{</span>\n",
       "<span style=\"color: #7f7f7f; text-decoration-color: #7f7f7f\">  </span><span style=\"color: #7fbf7f; text-decoration-color: #7fbf7f\">\"sql_query\"</span><span style=\"color: #7f7f7f; text-decoration-color: #7f7f7f\">: </span><span style=\"color: #7fbf7f; text-decoration-color: #7fbf7f\">\"SELECT (value_attachment_data-&gt;'body'-&gt;'systolic_blood_pressure'-&gt;&gt;'value')::numeric AS systolic, </span>\n",
       "<span style=\"color: #7fbf7f; text-decoration-color: #7fbf7f\">(value_attachment_data-&gt;'body'-&gt;'diastolic_blood_pressure'-&gt;&gt;'value')::numeric AS diastolic, </span>\n",
       "<span style=\"color: #7fbf7f; text-decoration-color: #7fbf7f\">(value_attachment_data-&gt;'body'-&gt;'effective_time_frame'-&gt;&gt;'date_time') AS timestamp FROM core_observation WHERE </span>\n",
       "<span style=\"color: #7fbf7f; text-decoration-color: #7fbf7f\">subject_patient_id = 40001 AND value_attachment_data-&gt;'header'-&gt;'schema_id'-&gt;&gt;'name' = 'blood-pressure' AND </span>\n",
       "<span style=\"color: #7fbf7f; text-decoration-color: #7fbf7f\">(value_attachment_data-&gt;'body'-&gt;'effective_time_frame'-&gt;&gt;'date_time')::timestamptz::date = '2025-02-02' ORDER BY </span>\n",
       "<span style=\"color: #7fbf7f; text-decoration-color: #7fbf7f\">timestamp\"</span>\n",
       "<span style=\"color: #7f7f7f; text-decoration-color: #7f7f7f; font-weight: bold\">}</span>\n",
       "</pre>\n"
      ],
      "text/plain": [
       "\u001b[2mArguments: \u001b[0m\u001b[1;2m{\u001b[0m\n",
       "\u001b[2m  \u001b[0m\u001b[2;32m\"sql_query\"\u001b[0m\u001b[2m: \u001b[0m\u001b[2;32m\"SELECT \u001b[0m\u001b[2;32m(\u001b[0m\u001b[2;32mvalue_attachment_data->'body'->'systolic_blood_pressure'->>'value'\u001b[0m\u001b[2;32m)\u001b[0m\u001b[2;32m::numeric AS systolic, \u001b[0m\n",
       "\u001b[2;32m(\u001b[0m\u001b[2;32mvalue_attachment_data->'body'->'diastolic_blood_pressure'->>'value'\u001b[0m\u001b[2;32m)\u001b[0m\u001b[2;32m::numeric AS diastolic, \u001b[0m\n",
       "\u001b[2;32m(\u001b[0m\u001b[2;32mvalue_attachment_data->'body'->'effective_time_frame'->>'date_time'\u001b[0m\u001b[2;32m)\u001b[0m\u001b[2;32m AS timestamp FROM core_observation WHERE \u001b[0m\n",
       "\u001b[2;32msubject_patient_id = 40001 AND value_attachment_data->'header'->'schema_id'->>'name' = 'blood-pressure' AND \u001b[0m\n",
       "\u001b[2;32m(\u001b[0m\u001b[2;32mvalue_attachment_data->'body'->'effective_time_frame'->>'date_time'\u001b[0m\u001b[2;32m)\u001b[0m\u001b[2;32m::timestamptz::date = '2025-02-02' ORDER BY \u001b[0m\n",
       "\u001b[2;32mtimestamp\"\u001b[0m\n",
       "\u001b[1;2m}\u001b[0m\n"
      ]
     },
     "metadata": {},
     "output_type": "display_data"
    },
    {
     "data": {
      "text/html": [
       "<pre style=\"white-space:pre;overflow-x:auto;line-height:normal;font-family:Menlo,'DejaVu Sans Mono',consolas,'Courier New',monospace\"><span style=\"color: #008000; text-decoration-color: #008000\">✓ Tool call successful</span>\n",
       "\n",
       "</pre>\n"
      ],
      "text/plain": [
       "\u001b[32m✓ Tool call successful\u001b[0m\n",
       "\n"
      ]
     },
     "metadata": {},
     "output_type": "display_data"
    },
    {
     "data": {
      "text/html": [
       "<pre style=\"white-space:pre;overflow-x:auto;line-height:normal;font-family:Menlo,'DejaVu Sans Mono',consolas,'Courier New',monospace\">  <span style=\"color: #008080; text-decoration-color: #008080\">→ Calling: execute_filtered_query</span>\n",
       "</pre>\n"
      ],
      "text/plain": [
       "  \u001b[36m→ Calling: execute_filtered_query\u001b[0m\n"
      ]
     },
     "metadata": {},
     "output_type": "display_data"
    },
    {
     "data": {
      "text/html": [
       "<pre style=\"white-space:pre;overflow-x:auto;line-height:normal;font-family:Menlo,'DejaVu Sans Mono',consolas,'Courier New',monospace\"><span style=\"color: #008080; text-decoration-color: #008080\">Calling MCP tool: execute_filtered_query</span>\n",
       "</pre>\n"
      ],
      "text/plain": [
       "\u001b[36mCalling MCP tool: execute_filtered_query\u001b[0m\n"
      ]
     },
     "metadata": {},
     "output_type": "display_data"
    },
    {
     "data": {
      "text/html": [
       "<pre style=\"white-space:pre;overflow-x:auto;line-height:normal;font-family:Menlo,'DejaVu Sans Mono',consolas,'Courier New',monospace\"><span style=\"color: #7f7f7f; text-decoration-color: #7f7f7f\">Arguments: </span><span style=\"color: #7f7f7f; text-decoration-color: #7f7f7f; font-weight: bold\">{</span>\n",
       "<span style=\"color: #7f7f7f; text-decoration-color: #7f7f7f\">  </span><span style=\"color: #7fbf7f; text-decoration-color: #7fbf7f\">\"sql_query\"</span><span style=\"color: #7f7f7f; text-decoration-color: #7f7f7f\">: </span><span style=\"color: #7fbf7f; text-decoration-color: #7fbf7f\">\"SELECT AVG((value_attachment_data-&gt;'body'-&gt;'systolic_blood_pressure'-&gt;&gt;'value')::numeric) AS </span>\n",
       "<span style=\"color: #7fbf7f; text-decoration-color: #7fbf7f\">avg_systolic, AVG((value_attachment_data-&gt;'body'-&gt;'diastolic_blood_pressure'-&gt;&gt;'value')::numeric) AS avg_diastolic </span>\n",
       "<span style=\"color: #7fbf7f; text-decoration-color: #7fbf7f\">FROM core_observation WHERE subject_patient_id = 40001 AND value_attachment_data-&gt;'header'-&gt;'schema_id'-&gt;&gt;'name' = </span>\n",
       "<span style=\"color: #7fbf7f; text-decoration-color: #7fbf7f\">'blood-pressure' AND (value_attachment_data-&gt;'body'-&gt;'effective_time_frame'-&gt;&gt;'date_time')::timestamptz::date = </span>\n",
       "<span style=\"color: #7fbf7f; text-decoration-color: #7fbf7f\">'2025-02-02'\"</span>\n",
       "<span style=\"color: #7f7f7f; text-decoration-color: #7f7f7f; font-weight: bold\">}</span>\n",
       "</pre>\n"
      ],
      "text/plain": [
       "\u001b[2mArguments: \u001b[0m\u001b[1;2m{\u001b[0m\n",
       "\u001b[2m  \u001b[0m\u001b[2;32m\"sql_query\"\u001b[0m\u001b[2m: \u001b[0m\u001b[2;32m\"SELECT AVG\u001b[0m\u001b[2;32m(\u001b[0m\u001b[2;32m(\u001b[0m\u001b[2;32mvalue_attachment_data->'body'->'systolic_blood_pressure'->>'value'\u001b[0m\u001b[2;32m)\u001b[0m\u001b[2;32m::numeric\u001b[0m\u001b[2;32m)\u001b[0m\u001b[2;32m AS \u001b[0m\n",
       "\u001b[2;32mavg_systolic, AVG\u001b[0m\u001b[2;32m(\u001b[0m\u001b[2;32m(\u001b[0m\u001b[2;32mvalue_attachment_data->'body'->'diastolic_blood_pressure'->>'value'\u001b[0m\u001b[2;32m)\u001b[0m\u001b[2;32m::numeric\u001b[0m\u001b[2;32m)\u001b[0m\u001b[2;32m AS avg_diastolic \u001b[0m\n",
       "\u001b[2;32mFROM core_observation WHERE subject_patient_id = 40001 AND value_attachment_data->'header'->'schema_id'->>'name' = \u001b[0m\n",
       "\u001b[2;32m'blood-pressure' AND \u001b[0m\u001b[2;32m(\u001b[0m\u001b[2;32mvalue_attachment_data->'body'->'effective_time_frame'->>'date_time'\u001b[0m\u001b[2;32m)\u001b[0m\u001b[2;32m::timestamptz::date = \u001b[0m\n",
       "\u001b[2;32m'2025-02-02'\"\u001b[0m\n",
       "\u001b[1;2m}\u001b[0m\n"
      ]
     },
     "metadata": {},
     "output_type": "display_data"
    },
    {
     "data": {
      "text/html": [
       "<pre style=\"white-space:pre;overflow-x:auto;line-height:normal;font-family:Menlo,'DejaVu Sans Mono',consolas,'Courier New',monospace\"><span style=\"color: #008000; text-decoration-color: #008000\">✓ Tool call successful</span>\n",
       "\n",
       "</pre>\n"
      ],
      "text/plain": [
       "\u001b[32m✓ Tool call successful\u001b[0m\n",
       "\n"
      ]
     },
     "metadata": {},
     "output_type": "display_data"
    },
    {
     "data": {
      "text/html": [
       "<pre style=\"white-space:pre;overflow-x:auto;line-height:normal;font-family:Menlo,'DejaVu Sans Mono',consolas,'Courier New',monospace\">\n",
       "<span style=\"color: #7f7f7f; text-decoration-color: #7f7f7f\">→ LLM iteration </span><span style=\"color: #7fbfbf; text-decoration-color: #7fbfbf; font-weight: bold\">3</span><span style=\"color: #7f7f7f; text-decoration-color: #7f7f7f\">/</span><span style=\"color: #7fbfbf; text-decoration-color: #7fbfbf; font-weight: bold\">5</span>\n",
       "</pre>\n"
      ],
      "text/plain": [
       "\n",
       "\u001b[2m→ LLM iteration \u001b[0m\u001b[1;2;36m3\u001b[0m\u001b[2m/\u001b[0m\u001b[1;2;36m5\u001b[0m\n"
      ]
     },
     "metadata": {},
     "output_type": "display_data"
    },
    {
     "data": {
      "text/html": [
       "<pre style=\"white-space:pre;overflow-x:auto;line-height:normal;font-family:Menlo,'DejaVu Sans Mono',consolas,'Courier New',monospace\"><span style=\"color: #808000; text-decoration-color: #808000\">LLM requested </span><span style=\"color: #808000; text-decoration-color: #808000; font-weight: bold\">1</span><span style=\"color: #808000; text-decoration-color: #808000\"> tool </span><span style=\"color: #808000; text-decoration-color: #808000; font-weight: bold\">call(</span><span style=\"color: #808000; text-decoration-color: #808000\">s</span><span style=\"color: #808000; text-decoration-color: #808000; font-weight: bold\">)</span>\n",
       "</pre>\n"
      ],
      "text/plain": [
       "\u001b[33mLLM requested \u001b[0m\u001b[1;33m1\u001b[0m\u001b[33m tool \u001b[0m\u001b[1;33mcall\u001b[0m\u001b[1;33m(\u001b[0m\u001b[33ms\u001b[0m\u001b[1;33m)\u001b[0m\n"
      ]
     },
     "metadata": {},
     "output_type": "display_data"
    },
    {
     "data": {
      "text/html": [
       "<pre style=\"white-space:pre;overflow-x:auto;line-height:normal;font-family:Menlo,'DejaVu Sans Mono',consolas,'Courier New',monospace\">  <span style=\"color: #008080; text-decoration-color: #008080\">→ Calling: get_database_schema</span>\n",
       "</pre>\n"
      ],
      "text/plain": [
       "  \u001b[36m→ Calling: get_database_schema\u001b[0m\n"
      ]
     },
     "metadata": {},
     "output_type": "display_data"
    },
    {
     "data": {
      "text/html": [
       "<pre style=\"white-space:pre;overflow-x:auto;line-height:normal;font-family:Menlo,'DejaVu Sans Mono',consolas,'Courier New',monospace\"><span style=\"color: #008080; text-decoration-color: #008080\">Calling MCP tool: get_database_schema</span>\n",
       "</pre>\n"
      ],
      "text/plain": [
       "\u001b[36mCalling MCP tool: get_database_schema\u001b[0m\n"
      ]
     },
     "metadata": {},
     "output_type": "display_data"
    },
    {
     "data": {
      "text/html": [
       "<pre style=\"white-space:pre;overflow-x:auto;line-height:normal;font-family:Menlo,'DejaVu Sans Mono',consolas,'Courier New',monospace\"><span style=\"color: #008000; text-decoration-color: #008000\">✓ Tool call successful</span>\n",
       "\n",
       "</pre>\n"
      ],
      "text/plain": [
       "\u001b[32m✓ Tool call successful\u001b[0m\n",
       "\n"
      ]
     },
     "metadata": {},
     "output_type": "display_data"
    },
    {
     "data": {
      "text/html": [
       "<pre style=\"white-space:pre;overflow-x:auto;line-height:normal;font-family:Menlo,'DejaVu Sans Mono',consolas,'Courier New',monospace\">\n",
       "<span style=\"color: #7f7f7f; text-decoration-color: #7f7f7f\">→ LLM iteration </span><span style=\"color: #7fbfbf; text-decoration-color: #7fbfbf; font-weight: bold\">4</span><span style=\"color: #7f7f7f; text-decoration-color: #7f7f7f\">/</span><span style=\"color: #7fbfbf; text-decoration-color: #7fbfbf; font-weight: bold\">5</span>\n",
       "</pre>\n"
      ],
      "text/plain": [
       "\n",
       "\u001b[2m→ LLM iteration \u001b[0m\u001b[1;2;36m4\u001b[0m\u001b[2m/\u001b[0m\u001b[1;2;36m5\u001b[0m\n"
      ]
     },
     "metadata": {},
     "output_type": "display_data"
    },
    {
     "data": {
      "text/html": [
       "<pre style=\"white-space:pre;overflow-x:auto;line-height:normal;font-family:Menlo,'DejaVu Sans Mono',consolas,'Courier New',monospace\"><span style=\"color: #808000; text-decoration-color: #808000\">LLM requested </span><span style=\"color: #808000; text-decoration-color: #808000; font-weight: bold\">2</span><span style=\"color: #808000; text-decoration-color: #808000\"> tool </span><span style=\"color: #808000; text-decoration-color: #808000; font-weight: bold\">call(</span><span style=\"color: #808000; text-decoration-color: #808000\">s</span><span style=\"color: #808000; text-decoration-color: #808000; font-weight: bold\">)</span>\n",
       "</pre>\n"
      ],
      "text/plain": [
       "\u001b[33mLLM requested \u001b[0m\u001b[1;33m2\u001b[0m\u001b[33m tool \u001b[0m\u001b[1;33mcall\u001b[0m\u001b[1;33m(\u001b[0m\u001b[33ms\u001b[0m\u001b[1;33m)\u001b[0m\n"
      ]
     },
     "metadata": {},
     "output_type": "display_data"
    },
    {
     "data": {
      "text/html": [
       "<pre style=\"white-space:pre;overflow-x:auto;line-height:normal;font-family:Menlo,'DejaVu Sans Mono',consolas,'Courier New',monospace\">  <span style=\"color: #008080; text-decoration-color: #008080\">→ Calling: execute_filtered_query</span>\n",
       "</pre>\n"
      ],
      "text/plain": [
       "  \u001b[36m→ Calling: execute_filtered_query\u001b[0m\n"
      ]
     },
     "metadata": {},
     "output_type": "display_data"
    },
    {
     "data": {
      "text/html": [
       "<pre style=\"white-space:pre;overflow-x:auto;line-height:normal;font-family:Menlo,'DejaVu Sans Mono',consolas,'Courier New',monospace\"><span style=\"color: #008080; text-decoration-color: #008080\">Calling MCP tool: execute_filtered_query</span>\n",
       "</pre>\n"
      ],
      "text/plain": [
       "\u001b[36mCalling MCP tool: execute_filtered_query\u001b[0m\n"
      ]
     },
     "metadata": {},
     "output_type": "display_data"
    },
    {
     "data": {
      "text/html": [
       "<pre style=\"white-space:pre;overflow-x:auto;line-height:normal;font-family:Menlo,'DejaVu Sans Mono',consolas,'Courier New',monospace\"><span style=\"color: #7f7f7f; text-decoration-color: #7f7f7f\">Arguments: </span><span style=\"color: #7f7f7f; text-decoration-color: #7f7f7f; font-weight: bold\">{</span>\n",
       "<span style=\"color: #7f7f7f; text-decoration-color: #7f7f7f\">  </span><span style=\"color: #7fbf7f; text-decoration-color: #7fbf7f\">\"sql_query\"</span><span style=\"color: #7f7f7f; text-decoration-color: #7f7f7f\">: </span><span style=\"color: #7fbf7f; text-decoration-color: #7fbf7f\">\"SELECT (value_attachment_data-&gt;'body'-&gt;'systolic_blood_pressure'-&gt;&gt;'value')::numeric AS systolic, </span>\n",
       "<span style=\"color: #7fbf7f; text-decoration-color: #7fbf7f\">(value_attachment_data-&gt;'body'-&gt;'diastolic_blood_pressure'-&gt;&gt;'value')::numeric AS diastolic, </span>\n",
       "<span style=\"color: #7fbf7f; text-decoration-color: #7fbf7f\">(value_attachment_data-&gt;'body'-&gt;'effective_time_frame'-&gt;&gt;'date_time') AS timestamp FROM core_observation WHERE </span>\n",
       "<span style=\"color: #7fbf7f; text-decoration-color: #7fbf7f\">patient_id = 40001 AND value_attachment_data-&gt;'header'-&gt;'schema_id'-&gt;&gt;'name' = 'blood-pressure' AND </span>\n",
       "<span style=\"color: #7fbf7f; text-decoration-color: #7fbf7f\">(value_attachment_data-&gt;'body'-&gt;'effective_time_frame'-&gt;&gt;'date_time')::timestamptz::date = '2025-02-02' ORDER BY </span>\n",
       "<span style=\"color: #7fbf7f; text-decoration-color: #7fbf7f\">timestamp\"</span>\n",
       "<span style=\"color: #7f7f7f; text-decoration-color: #7f7f7f; font-weight: bold\">}</span>\n",
       "</pre>\n"
      ],
      "text/plain": [
       "\u001b[2mArguments: \u001b[0m\u001b[1;2m{\u001b[0m\n",
       "\u001b[2m  \u001b[0m\u001b[2;32m\"sql_query\"\u001b[0m\u001b[2m: \u001b[0m\u001b[2;32m\"SELECT \u001b[0m\u001b[2;32m(\u001b[0m\u001b[2;32mvalue_attachment_data->'body'->'systolic_blood_pressure'->>'value'\u001b[0m\u001b[2;32m)\u001b[0m\u001b[2;32m::numeric AS systolic, \u001b[0m\n",
       "\u001b[2;32m(\u001b[0m\u001b[2;32mvalue_attachment_data->'body'->'diastolic_blood_pressure'->>'value'\u001b[0m\u001b[2;32m)\u001b[0m\u001b[2;32m::numeric AS diastolic, \u001b[0m\n",
       "\u001b[2;32m(\u001b[0m\u001b[2;32mvalue_attachment_data->'body'->'effective_time_frame'->>'date_time'\u001b[0m\u001b[2;32m)\u001b[0m\u001b[2;32m AS timestamp FROM core_observation WHERE \u001b[0m\n",
       "\u001b[2;32mpatient_id = 40001 AND value_attachment_data->'header'->'schema_id'->>'name' = 'blood-pressure' AND \u001b[0m\n",
       "\u001b[2;32m(\u001b[0m\u001b[2;32mvalue_attachment_data->'body'->'effective_time_frame'->>'date_time'\u001b[0m\u001b[2;32m)\u001b[0m\u001b[2;32m::timestamptz::date = '2025-02-02' ORDER BY \u001b[0m\n",
       "\u001b[2;32mtimestamp\"\u001b[0m\n",
       "\u001b[1;2m}\u001b[0m\n"
      ]
     },
     "metadata": {},
     "output_type": "display_data"
    },
    {
     "data": {
      "text/html": [
       "<pre style=\"white-space:pre;overflow-x:auto;line-height:normal;font-family:Menlo,'DejaVu Sans Mono',consolas,'Courier New',monospace\"><span style=\"color: #008000; text-decoration-color: #008000\">✓ Tool call successful</span>\n",
       "\n",
       "</pre>\n"
      ],
      "text/plain": [
       "\u001b[32m✓ Tool call successful\u001b[0m\n",
       "\n"
      ]
     },
     "metadata": {},
     "output_type": "display_data"
    },
    {
     "data": {
      "text/html": [
       "<pre style=\"white-space:pre;overflow-x:auto;line-height:normal;font-family:Menlo,'DejaVu Sans Mono',consolas,'Courier New',monospace\">  <span style=\"color: #008080; text-decoration-color: #008080\">→ Calling: execute_filtered_query</span>\n",
       "</pre>\n"
      ],
      "text/plain": [
       "  \u001b[36m→ Calling: execute_filtered_query\u001b[0m\n"
      ]
     },
     "metadata": {},
     "output_type": "display_data"
    },
    {
     "data": {
      "text/html": [
       "<pre style=\"white-space:pre;overflow-x:auto;line-height:normal;font-family:Menlo,'DejaVu Sans Mono',consolas,'Courier New',monospace\"><span style=\"color: #008080; text-decoration-color: #008080\">Calling MCP tool: execute_filtered_query</span>\n",
       "</pre>\n"
      ],
      "text/plain": [
       "\u001b[36mCalling MCP tool: execute_filtered_query\u001b[0m\n"
      ]
     },
     "metadata": {},
     "output_type": "display_data"
    },
    {
     "data": {
      "text/html": [
       "<pre style=\"white-space:pre;overflow-x:auto;line-height:normal;font-family:Menlo,'DejaVu Sans Mono',consolas,'Courier New',monospace\"><span style=\"color: #7f7f7f; text-decoration-color: #7f7f7f\">Arguments: </span><span style=\"color: #7f7f7f; text-decoration-color: #7f7f7f; font-weight: bold\">{</span>\n",
       "<span style=\"color: #7f7f7f; text-decoration-color: #7f7f7f\">  </span><span style=\"color: #7fbf7f; text-decoration-color: #7fbf7f\">\"sql_query\"</span><span style=\"color: #7f7f7f; text-decoration-color: #7f7f7f\">: </span><span style=\"color: #7fbf7f; text-decoration-color: #7fbf7f\">\"SELECT AVG((value_attachment_data-&gt;'body'-&gt;'systolic_blood_pressure'-&gt;&gt;'value')::numeric) AS </span>\n",
       "<span style=\"color: #7fbf7f; text-decoration-color: #7fbf7f\">avg_systolic, AVG((value_attachment_data-&gt;'body'-&gt;'diastolic_blood_pressure'-&gt;&gt;'value')::numeric) AS avg_diastolic </span>\n",
       "<span style=\"color: #7fbf7f; text-decoration-color: #7fbf7f\">FROM core_observation WHERE patient_id = 40001 AND value_attachment_data-&gt;'header'-&gt;'schema_id'-&gt;&gt;'name' = </span>\n",
       "<span style=\"color: #7fbf7f; text-decoration-color: #7fbf7f\">'blood-pressure' AND (value_attachment_data-&gt;'body'-&gt;'effective_time_frame'-&gt;&gt;'date_time')::timestamptz::date = </span>\n",
       "<span style=\"color: #7fbf7f; text-decoration-color: #7fbf7f\">'2025-02-02'\"</span>\n",
       "<span style=\"color: #7f7f7f; text-decoration-color: #7f7f7f; font-weight: bold\">}</span>\n",
       "</pre>\n"
      ],
      "text/plain": [
       "\u001b[2mArguments: \u001b[0m\u001b[1;2m{\u001b[0m\n",
       "\u001b[2m  \u001b[0m\u001b[2;32m\"sql_query\"\u001b[0m\u001b[2m: \u001b[0m\u001b[2;32m\"SELECT AVG\u001b[0m\u001b[2;32m(\u001b[0m\u001b[2;32m(\u001b[0m\u001b[2;32mvalue_attachment_data->'body'->'systolic_blood_pressure'->>'value'\u001b[0m\u001b[2;32m)\u001b[0m\u001b[2;32m::numeric\u001b[0m\u001b[2;32m)\u001b[0m\u001b[2;32m AS \u001b[0m\n",
       "\u001b[2;32mavg_systolic, AVG\u001b[0m\u001b[2;32m(\u001b[0m\u001b[2;32m(\u001b[0m\u001b[2;32mvalue_attachment_data->'body'->'diastolic_blood_pressure'->>'value'\u001b[0m\u001b[2;32m)\u001b[0m\u001b[2;32m::numeric\u001b[0m\u001b[2;32m)\u001b[0m\u001b[2;32m AS avg_diastolic \u001b[0m\n",
       "\u001b[2;32mFROM core_observation WHERE patient_id = 40001 AND value_attachment_data->'header'->'schema_id'->>'name' = \u001b[0m\n",
       "\u001b[2;32m'blood-pressure' AND \u001b[0m\u001b[2;32m(\u001b[0m\u001b[2;32mvalue_attachment_data->'body'->'effective_time_frame'->>'date_time'\u001b[0m\u001b[2;32m)\u001b[0m\u001b[2;32m::timestamptz::date = \u001b[0m\n",
       "\u001b[2;32m'2025-02-02'\"\u001b[0m\n",
       "\u001b[1;2m}\u001b[0m\n"
      ]
     },
     "metadata": {},
     "output_type": "display_data"
    },
    {
     "data": {
      "text/html": [
       "<pre style=\"white-space:pre;overflow-x:auto;line-height:normal;font-family:Menlo,'DejaVu Sans Mono',consolas,'Courier New',monospace\"><span style=\"color: #008000; text-decoration-color: #008000\">✓ Tool call successful</span>\n",
       "\n",
       "</pre>\n"
      ],
      "text/plain": [
       "\u001b[32m✓ Tool call successful\u001b[0m\n",
       "\n"
      ]
     },
     "metadata": {},
     "output_type": "display_data"
    },
    {
     "data": {
      "text/html": [
       "<pre style=\"white-space:pre;overflow-x:auto;line-height:normal;font-family:Menlo,'DejaVu Sans Mono',consolas,'Courier New',monospace\">\n",
       "<span style=\"color: #7f7f7f; text-decoration-color: #7f7f7f\">→ LLM iteration </span><span style=\"color: #7fbfbf; text-decoration-color: #7fbfbf; font-weight: bold\">5</span><span style=\"color: #7f7f7f; text-decoration-color: #7f7f7f\">/</span><span style=\"color: #7fbfbf; text-decoration-color: #7fbfbf; font-weight: bold\">5</span>\n",
       "</pre>\n"
      ],
      "text/plain": [
       "\n",
       "\u001b[2m→ LLM iteration \u001b[0m\u001b[1;2;36m5\u001b[0m\u001b[2m/\u001b[0m\u001b[1;2;36m5\u001b[0m\n"
      ]
     },
     "metadata": {},
     "output_type": "display_data"
    },
    {
     "data": {
      "text/html": [
       "<pre style=\"white-space:pre;overflow-x:auto;line-height:normal;font-family:Menlo,'DejaVu Sans Mono',consolas,'Courier New',monospace\"><span style=\"color: #808000; text-decoration-color: #808000\">LLM requested </span><span style=\"color: #808000; text-decoration-color: #808000; font-weight: bold\">2</span><span style=\"color: #808000; text-decoration-color: #808000\"> tool </span><span style=\"color: #808000; text-decoration-color: #808000; font-weight: bold\">call(</span><span style=\"color: #808000; text-decoration-color: #808000\">s</span><span style=\"color: #808000; text-decoration-color: #808000; font-weight: bold\">)</span>\n",
       "</pre>\n"
      ],
      "text/plain": [
       "\u001b[33mLLM requested \u001b[0m\u001b[1;33m2\u001b[0m\u001b[33m tool \u001b[0m\u001b[1;33mcall\u001b[0m\u001b[1;33m(\u001b[0m\u001b[33ms\u001b[0m\u001b[1;33m)\u001b[0m\n"
      ]
     },
     "metadata": {},
     "output_type": "display_data"
    },
    {
     "data": {
      "text/html": [
       "<pre style=\"white-space:pre;overflow-x:auto;line-height:normal;font-family:Menlo,'DejaVu Sans Mono',consolas,'Courier New',monospace\">  <span style=\"color: #008080; text-decoration-color: #008080\">→ Calling: execute_filtered_query</span>\n",
       "</pre>\n"
      ],
      "text/plain": [
       "  \u001b[36m→ Calling: execute_filtered_query\u001b[0m\n"
      ]
     },
     "metadata": {},
     "output_type": "display_data"
    },
    {
     "data": {
      "text/html": [
       "<pre style=\"white-space:pre;overflow-x:auto;line-height:normal;font-family:Menlo,'DejaVu Sans Mono',consolas,'Courier New',monospace\"><span style=\"color: #008080; text-decoration-color: #008080\">Calling MCP tool: execute_filtered_query</span>\n",
       "</pre>\n"
      ],
      "text/plain": [
       "\u001b[36mCalling MCP tool: execute_filtered_query\u001b[0m\n"
      ]
     },
     "metadata": {},
     "output_type": "display_data"
    },
    {
     "data": {
      "text/html": [
       "<pre style=\"white-space:pre;overflow-x:auto;line-height:normal;font-family:Menlo,'DejaVu Sans Mono',consolas,'Courier New',monospace\"><span style=\"color: #7f7f7f; text-decoration-color: #7f7f7f\">Arguments: </span><span style=\"color: #7f7f7f; text-decoration-color: #7f7f7f; font-weight: bold\">{</span>\n",
       "<span style=\"color: #7f7f7f; text-decoration-color: #7f7f7f\">  </span><span style=\"color: #7fbf7f; text-decoration-color: #7fbf7f\">\"sql_query\"</span><span style=\"color: #7f7f7f; text-decoration-color: #7f7f7f\">: </span><span style=\"color: #7fbf7f; text-decoration-color: #7fbf7f\">\"SELECT (value_attachment_data-&gt;'body'-&gt;'systolic_blood_pressure'-&gt;&gt;'value')::numeric AS systolic, </span>\n",
       "<span style=\"color: #7fbf7f; text-decoration-color: #7fbf7f\">(value_attachment_data-&gt;'body'-&gt;'diastolic_blood_pressure'-&gt;&gt;'value')::numeric AS diastolic, </span>\n",
       "<span style=\"color: #7fbf7f; text-decoration-color: #7fbf7f\">value_attachment_data-&gt;'body'-&gt;'effective_time_frame'-&gt;&gt;'date_time' AS timestamp FROM core_observation WHERE </span>\n",
       "<span style=\"color: #7fbf7f; text-decoration-color: #7fbf7f\">subject_patient_id = 40001 AND codeable_concept_id IN (SELECT id FROM core_codeableconcept WHERE display ILIKE </span>\n",
       "<span style=\"color: #7fbf7f; text-decoration-color: #7fbf7f\">'%blood pressure%') AND (value_attachment_data-&gt;'body'-&gt;'effective_time_frame'-&gt;&gt;'date_time')::timestamptz::date = </span>\n",
       "<span style=\"color: #7fbf7f; text-decoration-color: #7fbf7f\">'2025-02-02' ORDER BY timestamp\"</span>\n",
       "<span style=\"color: #7f7f7f; text-decoration-color: #7f7f7f; font-weight: bold\">}</span>\n",
       "</pre>\n"
      ],
      "text/plain": [
       "\u001b[2mArguments: \u001b[0m\u001b[1;2m{\u001b[0m\n",
       "\u001b[2m  \u001b[0m\u001b[2;32m\"sql_query\"\u001b[0m\u001b[2m: \u001b[0m\u001b[2;32m\"SELECT \u001b[0m\u001b[2;32m(\u001b[0m\u001b[2;32mvalue_attachment_data->'body'->'systolic_blood_pressure'->>'value'\u001b[0m\u001b[2;32m)\u001b[0m\u001b[2;32m::numeric AS systolic, \u001b[0m\n",
       "\u001b[2;32m(\u001b[0m\u001b[2;32mvalue_attachment_data->'body'->'diastolic_blood_pressure'->>'value'\u001b[0m\u001b[2;32m)\u001b[0m\u001b[2;32m::numeric AS diastolic, \u001b[0m\n",
       "\u001b[2;32mvalue_attachment_data->'body'->'effective_time_frame'->>'date_time' AS timestamp FROM core_observation WHERE \u001b[0m\n",
       "\u001b[2;32msubject_patient_id = 40001 AND codeable_concept_id IN \u001b[0m\u001b[2;32m(\u001b[0m\u001b[2;32mSELECT id FROM core_codeableconcept WHERE display ILIKE \u001b[0m\n",
       "\u001b[2;32m'%blood pressure%'\u001b[0m\u001b[2;32m)\u001b[0m\u001b[2;32m AND \u001b[0m\u001b[2;32m(\u001b[0m\u001b[2;32mvalue_attachment_data->'body'->'effective_time_frame'->>'date_time'\u001b[0m\u001b[2;32m)\u001b[0m\u001b[2;32m::timestamptz::date = \u001b[0m\n",
       "\u001b[2;32m'2025-02-02' ORDER BY timestamp\"\u001b[0m\n",
       "\u001b[1;2m}\u001b[0m\n"
      ]
     },
     "metadata": {},
     "output_type": "display_data"
    },
    {
     "data": {
      "text/html": [
       "<pre style=\"white-space:pre;overflow-x:auto;line-height:normal;font-family:Menlo,'DejaVu Sans Mono',consolas,'Courier New',monospace\"><span style=\"color: #008000; text-decoration-color: #008000\">✓ Tool call successful</span>\n",
       "\n",
       "</pre>\n"
      ],
      "text/plain": [
       "\u001b[32m✓ Tool call successful\u001b[0m\n",
       "\n"
      ]
     },
     "metadata": {},
     "output_type": "display_data"
    },
    {
     "data": {
      "text/html": [
       "<pre style=\"white-space:pre;overflow-x:auto;line-height:normal;font-family:Menlo,'DejaVu Sans Mono',consolas,'Courier New',monospace\">  <span style=\"color: #008080; text-decoration-color: #008080\">→ Calling: execute_filtered_query</span>\n",
       "</pre>\n"
      ],
      "text/plain": [
       "  \u001b[36m→ Calling: execute_filtered_query\u001b[0m\n"
      ]
     },
     "metadata": {},
     "output_type": "display_data"
    },
    {
     "data": {
      "text/html": [
       "<pre style=\"white-space:pre;overflow-x:auto;line-height:normal;font-family:Menlo,'DejaVu Sans Mono',consolas,'Courier New',monospace\"><span style=\"color: #008080; text-decoration-color: #008080\">Calling MCP tool: execute_filtered_query</span>\n",
       "</pre>\n"
      ],
      "text/plain": [
       "\u001b[36mCalling MCP tool: execute_filtered_query\u001b[0m\n"
      ]
     },
     "metadata": {},
     "output_type": "display_data"
    },
    {
     "data": {
      "text/html": [
       "<pre style=\"white-space:pre;overflow-x:auto;line-height:normal;font-family:Menlo,'DejaVu Sans Mono',consolas,'Courier New',monospace\"><span style=\"color: #7f7f7f; text-decoration-color: #7f7f7f\">Arguments: </span><span style=\"color: #7f7f7f; text-decoration-color: #7f7f7f; font-weight: bold\">{</span>\n",
       "<span style=\"color: #7f7f7f; text-decoration-color: #7f7f7f\">  </span><span style=\"color: #7fbf7f; text-decoration-color: #7fbf7f\">\"sql_query\"</span><span style=\"color: #7f7f7f; text-decoration-color: #7f7f7f\">: </span><span style=\"color: #7fbf7f; text-decoration-color: #7fbf7f\">\"SELECT AVG((value_attachment_data-&gt;'body'-&gt;'systolic_blood_pressure'-&gt;&gt;'value')::numeric) AS </span>\n",
       "<span style=\"color: #7fbf7f; text-decoration-color: #7fbf7f\">avg_systolic, AVG((value_attachment_data-&gt;'body'-&gt;'diastolic_blood_pressure'-&gt;&gt;'value')::numeric) AS avg_diastolic </span>\n",
       "<span style=\"color: #7fbf7f; text-decoration-color: #7fbf7f\">FROM core_observation WHERE subject_patient_id = 40001 AND codeable_concept_id IN (SELECT id FROM </span>\n",
       "<span style=\"color: #7fbf7f; text-decoration-color: #7fbf7f\">core_codeableconcept WHERE display ILIKE '%blood pressure%') AND </span>\n",
       "<span style=\"color: #7fbf7f; text-decoration-color: #7fbf7f\">(value_attachment_data-&gt;'body'-&gt;'effective_time_frame'-&gt;&gt;'date_time')::timestamptz::date = '2025-02-02'\"</span>\n",
       "<span style=\"color: #7f7f7f; text-decoration-color: #7f7f7f; font-weight: bold\">}</span>\n",
       "</pre>\n"
      ],
      "text/plain": [
       "\u001b[2mArguments: \u001b[0m\u001b[1;2m{\u001b[0m\n",
       "\u001b[2m  \u001b[0m\u001b[2;32m\"sql_query\"\u001b[0m\u001b[2m: \u001b[0m\u001b[2;32m\"SELECT AVG\u001b[0m\u001b[2;32m(\u001b[0m\u001b[2;32m(\u001b[0m\u001b[2;32mvalue_attachment_data->'body'->'systolic_blood_pressure'->>'value'\u001b[0m\u001b[2;32m)\u001b[0m\u001b[2;32m::numeric\u001b[0m\u001b[2;32m)\u001b[0m\u001b[2;32m AS \u001b[0m\n",
       "\u001b[2;32mavg_systolic, AVG\u001b[0m\u001b[2;32m(\u001b[0m\u001b[2;32m(\u001b[0m\u001b[2;32mvalue_attachment_data->'body'->'diastolic_blood_pressure'->>'value'\u001b[0m\u001b[2;32m)\u001b[0m\u001b[2;32m::numeric\u001b[0m\u001b[2;32m)\u001b[0m\u001b[2;32m AS avg_diastolic \u001b[0m\n",
       "\u001b[2;32mFROM core_observation WHERE subject_patient_id = 40001 AND codeable_concept_id IN \u001b[0m\u001b[2;32m(\u001b[0m\u001b[2;32mSELECT id FROM \u001b[0m\n",
       "\u001b[2;32mcore_codeableconcept WHERE display ILIKE '%blood pressure%'\u001b[0m\u001b[2;32m)\u001b[0m\u001b[2;32m AND \u001b[0m\n",
       "\u001b[2;32m(\u001b[0m\u001b[2;32mvalue_attachment_data->'body'->'effective_time_frame'->>'date_time'\u001b[0m\u001b[2;32m)\u001b[0m\u001b[2;32m::timestamptz::date = '2025-02-02'\"\u001b[0m\n",
       "\u001b[1;2m}\u001b[0m\n"
      ]
     },
     "metadata": {},
     "output_type": "display_data"
    },
    {
     "data": {
      "text/html": [
       "<pre style=\"white-space:pre;overflow-x:auto;line-height:normal;font-family:Menlo,'DejaVu Sans Mono',consolas,'Courier New',monospace\"><span style=\"color: #008000; text-decoration-color: #008000\">✓ Tool call successful</span>\n",
       "\n",
       "</pre>\n"
      ],
      "text/plain": [
       "\u001b[32m✓ Tool call successful\u001b[0m\n",
       "\n"
      ]
     },
     "metadata": {},
     "output_type": "display_data"
    },
    {
     "data": {
      "text/html": [
       "<pre style=\"white-space:pre;overflow-x:auto;line-height:normal;font-family:Menlo,'DejaVu Sans Mono',consolas,'Courier New',monospace\">\n",
       "============================================================\n",
       "</pre>\n"
      ],
      "text/plain": [
       "\n",
       "============================================================\n"
      ]
     },
     "metadata": {},
     "output_type": "display_data"
    },
    {
     "data": {
      "text/html": [
       "<pre style=\"white-space:pre;overflow-x:auto;line-height:normal;font-family:Menlo,'DejaVu Sans Mono',consolas,'Courier New',monospace\"><span style=\"color: #008000; text-decoration-color: #008000\">╭──────────────────────────────────────────────── </span><span style=\"color: #008000; text-decoration-color: #008000; font-weight: bold\">Final Response</span><span style=\"color: #008000; text-decoration-color: #008000\"> ─────────────────────────────────────────────────╮</span>\n",
       "<span style=\"color: #008000; text-decoration-color: #008000\">│</span> Maximum iterations reached. The query may be too complex.                                                       <span style=\"color: #008000; text-decoration-color: #008000\">│</span>\n",
       "<span style=\"color: #008000; text-decoration-color: #008000\">╰─────────────────────────────────────────────────────────────────────────────────────────────────────────────────╯</span>\n",
       "</pre>\n"
      ],
      "text/plain": [
       "\u001b[32m╭─\u001b[0m\u001b[32m───────────────────────────────────────────────\u001b[0m\u001b[32m \u001b[0m\u001b[1;32mFinal Response\u001b[0m\u001b[32m \u001b[0m\u001b[32m────────────────────────────────────────────────\u001b[0m\u001b[32m─╮\u001b[0m\n",
       "\u001b[32m│\u001b[0m Maximum iterations reached. The query may be too complex.                                                       \u001b[32m│\u001b[0m\n",
       "\u001b[32m╰─────────────────────────────────────────────────────────────────────────────────────────────────────────────────╯\u001b[0m\n"
      ]
     },
     "metadata": {},
     "output_type": "display_data"
    }
   ],
   "source": [
    "# Cell 9: Complex Health Data Query\n",
    "# Fetch schema first, then let LLM use it to construct the query\n",
    "\n",
    "console.print(Panel(\"[bold]Complex Blood Pressure Query with Schema Context[/bold]\", expand=False))\n",
    "\n",
    "# Step 1: Get the database schema first\n",
    "console.print(\"[cyan]Step 1: Fetching database schema...[/cyan]\")\n",
    "schema_result = await call_mcp_tool(\"get_database_schema\")\n",
    "\n",
    "if not schema_result:\n",
    "    console.print(\"[red]✗ Failed to get schema[/red]\")\n",
    "else:\n",
    "    console.print(\"[green]✓ Schema fetched successfully[/green]\")\n",
    "    \n",
    "    # Step 2: Ask the LLM with schema context\n",
    "    console.print(\"\\n[cyan]Step 2: Asking LLM to query blood pressure data...[/cyan]\")\n",
    "    \n",
    "    query = f\"\"\"I have access to a database with this schema:\n",
    "\n",
    "{schema_result}\n",
    "\n",
    "Now, using this schema, please:\n",
    "Show me all blood pressure readings for patient 40001 on February 2, 2025.\n",
    "Calculate the average systolic and diastolic pressure for that day.\n",
    "\n",
    "Use the example SQL queries in the schema as a guide.\"\"\"\n",
    "\n",
    "    response = await query_with_llm(query, max_iterations=5)\n",
    "    \n",
    "    console.print(\"\\n\" + \"=\"*60)\n",
    "    console.print(Panel(response, title=\"[bold green]Final Response[/bold green]\", border_style=\"green\"))\n"
   ]
  },
  {
   "cell_type": "markdown",
   "metadata": {},
   "source": [
    "## Cell 10: Time-Series Aggregation Query\n",
    "\n",
    "Demonstrate hourly aggregation with statistical functions."
   ]
  },
  {
   "cell_type": "code",
   "execution_count": null,
   "metadata": {},
   "outputs": [],
   "source": [
    "# Time-series aggregation query\n",
    "query = \"\"\"For patient 40001, show me hourly blood pressure statistics for February 2, 2025.\n",
    "Include the average, minimum, maximum, and standard deviation for both systolic and diastolic pressure.\"\"\"\n",
    "\n",
    "response = await query_with_llm(query, max_iterations=10)\n",
    "\n",
    "console.print(\"\\n\" + \"=\"*60)\n",
    "console.print(Panel(response, title=\"[bold green]Final Response[/bold green]\", border_style=\"green\"))"
   ]
  },
  {
   "cell_type": "markdown",
   "metadata": {},
   "source": [
    "## Cell 11: Interactive Query Loop\n",
    "\n",
    "Create an interactive interface for asking questions."
   ]
  },
  {
   "cell_type": "code",
   "execution_count": null,
   "metadata": {},
   "outputs": [
    {
     "data": {
      "text/html": [
       "<pre style=\"white-space:pre;overflow-x:auto;line-height:normal;font-family:Menlo,'DejaVu Sans Mono',consolas,'Courier New',monospace\"><span style=\"color: #008080; text-decoration-color: #008080\">╭─────────────────────────────────────────────────────────────────────────────────────────────────────────────────╮</span>\n",
       "<span style=\"color: #008080; text-decoration-color: #008080\">│</span> <span style=\"font-weight: bold\">JupyterHealth Exchange Interactive Query Session</span>                                                                <span style=\"color: #008080; text-decoration-color: #008080\">│</span>\n",
       "<span style=\"color: #008080; text-decoration-color: #008080\">│</span>                                                                                                                 <span style=\"color: #008080; text-decoration-color: #008080\">│</span>\n",
       "<span style=\"color: #008080; text-decoration-color: #008080\">│</span> Ask questions about health data in natural language.                                                            <span style=\"color: #008080; text-decoration-color: #008080\">│</span>\n",
       "<span style=\"color: #008080; text-decoration-color: #008080\">│</span> Type 'quit' or 'exit' to stop.                                                                                  <span style=\"color: #008080; text-decoration-color: #008080\">│</span>\n",
       "<span style=\"color: #008080; text-decoration-color: #008080\">╰─────────────────────────────────────────────────────────────────────────────────────────────────────────────────╯</span>\n",
       "</pre>\n"
      ],
      "text/plain": [
       "\u001b[36m╭─────────────────────────────────────────────────────────────────────────────────────────────────────────────────╮\u001b[0m\n",
       "\u001b[36m│\u001b[0m \u001b[1mJupyterHealth Exchange Interactive Query Session\u001b[0m                                                                \u001b[36m│\u001b[0m\n",
       "\u001b[36m│\u001b[0m                                                                                                                 \u001b[36m│\u001b[0m\n",
       "\u001b[36m│\u001b[0m Ask questions about health data in natural language.                                                            \u001b[36m│\u001b[0m\n",
       "\u001b[36m│\u001b[0m Type 'quit' or 'exit' to stop.                                                                                  \u001b[36m│\u001b[0m\n",
       "\u001b[36m╰─────────────────────────────────────────────────────────────────────────────────────────────────────────────────╯\u001b[0m\n"
      ]
     },
     "metadata": {},
     "output_type": "display_data"
    },
    {
     "data": {
      "text/html": [
       "<pre style=\"white-space:pre;overflow-x:auto;line-height:normal;font-family:Menlo,'DejaVu Sans Mono',consolas,'Courier New',monospace\">\n",
       "<span style=\"color: #008080; text-decoration-color: #008080; font-weight: bold\">Your question:</span> </pre>\n"
      ],
      "text/plain": [
       "\n",
       "\u001b[1;36mYour question:\u001b[0m "
      ]
     },
     "metadata": {},
     "output_type": "display_data"
    }
   ],
   "source": [
    "async def interactive_session():\n",
    "    \"\"\"Run an interactive query session\"\"\"\n",
    "    console.print(Panel(\n",
    "        \"[bold]JupyterHealth Exchange Interactive Query Session[/bold]\\n\\n\"\n",
    "        \"Ask questions about health data in natural language.\\n\"\n",
    "        \"Type 'quit' or 'exit' to stop.\",\n",
    "        border_style=\"cyan\"\n",
    "    ))\n",
    "    \n",
    "    while True:\n",
    "        # Get user input\n",
    "        console.print(\"\\n[bold cyan]Your question:[/bold cyan]\", end=\" \")\n",
    "        user_input = input()\n",
    "        \n",
    "        if user_input.lower() in ['quit', 'exit', 'q']:\n",
    "            console.print(\"[yellow]Goodbye![/yellow]\")\n",
    "            break\n",
    "        \n",
    "        if not user_input.strip():\n",
    "            continue\n",
    "        \n",
    "        # Process query\n",
    "        try:\n",
    "            response = await query_with_llm(user_input)\n",
    "            console.print(\"\\n\" + \"=\"*60)\n",
    "            console.print(Panel(response, title=\"[bold green]Response[/bold green]\", border_style=\"green\"))\n",
    "        except Exception as e:\n",
    "            console.print(f\"[red]Error: {e}[/red]\")\n",
    "\n",
    "# Uncomment to run interactive session\n",
    "await interactive_session()\n",
    "\n",
    "console.print(\"[dim]Interactive session ready. Uncomment the last line to start.[/dim]\")"
   ]
  },
  {
   "cell_type": "markdown",
   "metadata": {},
   "source": [
    "## Cell 12: Blood Pressure Visualization\n",
    "\n",
    "Plot systolic and diastolic blood pressure data for February 2025."
   ]
  },
  {
   "cell_type": "code",
   "execution_count": null,
   "metadata": {},
   "outputs": [],
   "source": [
    "# Cell 12: LLM Creates Blood Pressure Visualization\n",
    "# Ask the LLM to fetch data AND generate the visualization code\n",
    "\n",
    "console.print(Panel(\"[bold]LLM-Powered Data Fetch & Visualization Creation[/bold]\", expand=False))\n",
    "\n",
    "# Ask the LLM to create a complete visualization\n",
    "query = \"\"\"For patient 40001, fetch all blood pressure data for February 2025 and create a visualization.\n",
    "\n",
    "Please:\n",
    "1. Query the database for systolic and diastolic blood pressure readings\n",
    "2. Parse the results into a pandas DataFrame\n",
    "3. Create a matplotlib line plot showing both systolic (red) and diastolic (blue) over time\n",
    "4. Add reference lines at 120 mmHg (normal systolic) and 80 mmHg (normal diastolic)\n",
    "5. Include a statistics table showing mean, median, std dev, min, max for both\n",
    "\n",
    "Return the complete Python code needed to create this visualization.\"\"\"\n",
    "\n",
    "console.print(\"[cyan]Asking LLM to create visualization code...[/cyan]\")\n",
    "llm_response = await query_with_llm(query, max_iterations=15)\n",
    "\n",
    "console.print(\"\\n\" + \"=\"*60)\n",
    "console.print(Panel(llm_response, title=\"[bold green]LLM Response[/bold green]\", border_style=\"green\"))\n",
    "\n",
    "# Note: The LLM should return Python code that we can execute\n",
    "# For safety and demonstration purposes, we'll execute it if it looks valid\n",
    "console.print(\"\\n[yellow]Note: In production, you would review and execute the LLM-generated code above.[/yellow]\")\n",
    "console.print(\"[dim]For this demo, the LLM has demonstrated its ability to:[/dim]\")\n",
    "console.print(\"[dim]  1. Understand database schema[/dim]\")\n",
    "console.print(\"[dim]  2. Construct SQL queries[/dim]\")\n",
    "console.print(\"[dim]  3. Parse results[/dim]\")\n",
    "console.print(\"[dim]  4. Generate visualization code[/dim]\")\n"
   ]
  },
  {
   "cell_type": "markdown",
   "metadata": {},
   "source": [
    "## Cell 13: Cleanup\n",
    "\n",
    "Close connections and clean up resources."
   ]
  },
  {
   "cell_type": "code",
   "execution_count": null,
   "metadata": {},
   "outputs": [],
   "source": [
    "# Close MCP session\n",
    "if mcp_session:\n",
    "    try:\n",
    "        await mcp_session.__aexit__(None, None, None)\n",
    "        console.print(\"[green]✓ MCP session closed[/green]\")\n",
    "    except:\n",
    "        pass\n",
    "\n",
    "console.print(\"[green]✓ Cleanup complete[/green]\")"
   ]
  }
 ],
 "metadata": {
  "kernelspec": {
   "display_name": "Python 3 (ipykernel)",
   "language": "python",
   "name": "python3"
  },
  "language_info": {
   "codemirror_mode": {
    "name": "ipython",
    "version": 3
   },
   "file_extension": ".py",
   "mimetype": "text/x-python",
   "name": "python",
   "nbconvert_exporter": "python",
   "pygments_lexer": "ipython3",
   "version": "3.11.13"
  }
 },
 "nbformat": 4,
 "nbformat_minor": 4
}
